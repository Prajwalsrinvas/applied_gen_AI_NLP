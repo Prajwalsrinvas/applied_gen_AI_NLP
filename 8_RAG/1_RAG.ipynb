{
 "cells": [
  {
   "cell_type": "code",
   "execution_count": 29,
   "metadata": {},
   "outputs": [],
   "source": [
    "import os\n",
    "\n",
    "import chromadb\n",
    "from openai import OpenAI\n",
    "from dotenv import load_dotenv\n",
    "from IPython.display import Markdown"
   ]
  },
  {
   "cell_type": "code",
   "execution_count": 2,
   "metadata": {},
   "outputs": [
    {
     "data": {
      "text/plain": [
       "True"
      ]
     },
     "execution_count": 2,
     "metadata": {},
     "output_type": "execute_result"
    }
   ],
   "source": [
    "load_dotenv()"
   ]
  },
  {
   "cell_type": "code",
   "execution_count": 3,
   "metadata": {},
   "outputs": [],
   "source": [
    "client = OpenAI(\n",
    "    api_key=os.getenv(\"OPENAI_API_KEY\"),\n",
    ")\n",
    "\n",
    "model = \"gpt-3.5-turbo\""
   ]
  },
  {
   "cell_type": "code",
   "execution_count": 5,
   "metadata": {},
   "outputs": [
    {
     "data": {
      "text/plain": [
       "[Collection(name=movies)]"
      ]
     },
     "execution_count": 5,
     "metadata": {},
     "output_type": "execute_result"
    }
   ],
   "source": [
    "chroma_db = chromadb.PersistentClient(path=\"../4_vector_databases/db\")\n",
    "\n",
    "chroma_db.list_collections()"
   ]
  },
  {
   "cell_type": "code",
   "execution_count": 19,
   "metadata": {},
   "outputs": [
    {
     "data": {
      "text/plain": [
       "{'ids': [['288410', '320288', '263115']],\n",
       " 'distances': [[0.9013055562973022, 1.0991826057434082, 1.1146235466003418]],\n",
       " 'metadatas': [[{'source': \"Chris Claremont's X-Men\"},\n",
       "   {'source': 'Dark Phoenix'},\n",
       "   {'source': 'Logan'}]],\n",
       " 'embeddings': None,\n",
       " 'documents': [['Chris Claremont’s X-Men takes an in-depth look at Claremont’s monumental run. Using high-profile interviews the film explores the behind-the-scenes development of notable characters like Wolverine Storm and Phoenix as well as the challenges of creating art within a corporate system.',\n",
       "   \"The X-Men face their most formidable and powerful foe when one of their own Jean Grey starts to spiral out of control. During a rescue mission in outer space Jean is nearly killed when she's hit by a mysterious cosmic force. Once she returns home this force not only makes her infinitely more powerful but far more unstable. The X-Men must now band together to save her soul and battle aliens that want to use Grey's new abilities to rule the galaxy.\",\n",
       "   \"In the near future a weary Logan cares for an ailing Professor X in a hideout on the Mexican border. But Logan's attempts to hide from the world and his legacy are upended when a young mutant arrives pursued by dark forces.\"]],\n",
       " 'uris': None,\n",
       " 'data': None}"
      ]
     },
     "execution_count": 19,
     "metadata": {},
     "output_type": "execute_result"
    }
   ],
   "source": [
    "chroma_collection = chroma_db.get_or_create_collection(\"movies\")\n",
    "res = chroma_collection.query(query_texts=[\"wolverine\"], n_results=3)\n",
    "res"
   ]
  },
  {
   "cell_type": "code",
   "execution_count": 20,
   "metadata": {},
   "outputs": [
    {
     "data": {
      "text/plain": [
       "14501"
      ]
     },
     "execution_count": 20,
     "metadata": {},
     "output_type": "execute_result"
    }
   ],
   "source": [
    "len(chroma_collection.get()[\"ids\"])"
   ]
  },
  {
   "cell_type": "code",
   "execution_count": 23,
   "metadata": {},
   "outputs": [],
   "source": [
    "def get_query_results(query_text: str, n_results: int = 5):\n",
    "    res = chroma_collection.query(query_texts=[query_text], n_results=3)\n",
    "    docs = res[\"documents\"][0]\n",
    "    titles = [item[\"source\"] for item in res[\"metadatas\"][0]]\n",
    "    res_string = \";\".join(\n",
    "        [f\"{title}: {description}\" for title, description in zip(titles, docs)]\n",
    "    )\n",
    "    return res_string"
   ]
  },
  {
   "cell_type": "code",
   "execution_count": 26,
   "metadata": {},
   "outputs": [
    {
     "name": "stdout",
     "output_type": "stream",
     "text": [
      "Chris Claremont's X-Men: Chris Claremont’s X-Men takes an in-depth look at Claremont’s monumental run. Using high-profile interviews the film explores the behind-the-scenes development of notable characters like Wolverine Storm and Phoenix as well as the challenges of creating art within a corporate system.;Dark Phoenix: The X-Men face their most formidable and powerful foe when one of their own Jean Grey starts to spiral out of control. During a rescue mission in outer space Jean is nearly killed when she's hit by a mysterious cosmic force. Once she returns home this force not only makes her infinitely more powerful but far more unstable. The X-Men must now band together to save her soul and battle aliens that want to use Grey's new abilities to rule the galaxy.;Logan: In the near future a weary Logan cares for an ailing Professor X in a hideout on the Mexican border. But Logan's attempts to hide from the world and his legacy are upended when a young mutant arrives pursued by dark forces.\n"
     ]
    }
   ],
   "source": [
    "query_text = \"wolverine\"\n",
    "retrieved_results = get_query_results(query_text)\n",
    "print(retrieved_results)"
   ]
  },
  {
   "cell_type": "code",
   "execution_count": 27,
   "metadata": {},
   "outputs": [],
   "source": [
    "system_role_definition = \"You are a an expert in movies. Users will ask you questions about movies. You will get a user question, and relevant information. Relevant information is structured like movie title:movie plot; ... Please answer the question only using the information provided. format your response in the form of a markdown table\"\n",
    "user_query = \"What are the names of the movies and their plot where {user_query}?\"\n",
    "messages = [\n",
    "    {\"role\": \"system\", \"content\": system_role_definition},\n",
    "    {\"role\": \"user\", \"content\": f\"{user_query}; \\n Information: {retrieved_results}\"},\n",
    "]"
   ]
  },
  {
   "cell_type": "code",
   "execution_count": 30,
   "metadata": {},
   "outputs": [],
   "source": [
    "response = client.chat.completions.create(model=model, messages=messages)\n",
    "\n",
    "content = response.choices[0].message.content"
   ]
  },
  {
   "cell_type": "code",
   "execution_count": 31,
   "metadata": {},
   "outputs": [
    {
     "data": {
      "text/markdown": [
       "| Movie Title              | Plot                                                                                                                                                                                                                                                                                                      |\n",
       "|--------------------------|-----------------------------------------------------------------------------------------------------------------------------------------------------------------------------------------------------------------------------------------------------------------------------------------------------------|\n",
       "| Dark Phoenix             | The X-Men face their most formidable and powerful foe when one of their own Jean Grey starts to spiral out of control. During a rescue mission in outer space Jean is nearly killed when she's hit by a mysterious cosmic force. Once she returns home this force not only makes her infinitely more powerful but far more unstable. The X-Men must now band together to save her soul and battle aliens that want to use Grey's new abilities to rule the galaxy. |\n",
       "| Logan                    | In the near future, a weary Logan cares for an ailing Professor X in a hideout on the Mexican border. But Logan's attempts to hide from the world and his legacy are upended when a young mutant arrives pursued by dark forces.                                                                                                                                               |"
      ],
      "text/plain": [
       "<IPython.core.display.Markdown object>"
      ]
     },
     "execution_count": 31,
     "metadata": {},
     "output_type": "execute_result"
    }
   ],
   "source": [
    "Markdown(content)"
   ]
  },
  {
   "cell_type": "code",
   "execution_count": 32,
   "metadata": {},
   "outputs": [],
   "source": [
    "def rag(user_query: str):\n",
    "    retrieved_results = get_query_results(user_query)\n",
    "    system_role_definition = \"You are a an expert in movies. Users will ask you questions about movies. You will get a user question, and relevant information. Relevant information is structured like movie title:movie plot; ... Please answer the question only using the information provided. format your response in the form of a markdown table\"\n",
    "    user_query_complete = (\n",
    "        f\"What are the names of the movies and their plot where {user_query}?\"\n",
    "    )\n",
    "    messages = [\n",
    "        {\"role\": \"system\", \"content\": system_role_definition},\n",
    "        {\n",
    "            \"role\": \"user\",\n",
    "            \"content\": f\"{user_query_complete}; \\n Information: {retrieved_results}\",\n",
    "        },\n",
    "    ]\n",
    "    response = client.chat.completions.create(model=model, messages=messages)\n",
    "    content = response.choices[0].message.content\n",
    "    return content"
   ]
  },
  {
   "cell_type": "code",
   "execution_count": 33,
   "metadata": {},
   "outputs": [
    {
     "name": "stdout",
     "output_type": "stream",
     "text": [
      "Response from Vector DB\n",
      "Spider-Man: Across the Spider-Verse: After reuniting with Gwen Stacy Brooklyn’s full-time friendly neighborhood Spider-Man is catapulted across the Multiverse where he encounters the Spider Society a team of Spider-People charged with protecting the Multiverse’s very existence. But when the heroes clash on how to handle a new threat Miles finds himself pitted against the other Spiders and must set out on his own to save those he loves most.;Spider-Man: Homecoming: Following the events of Captain America: Civil War Peter Parker with the help of his mentor Tony Stark tries to balance his life as an ordinary high school student in Queens New York City with fighting crime as his superhero alter ego Spider-Man as a new threat the Vulture emerges.;Spider-Man: Into the Spider-Verse: Miles Morales is juggling his life between being a high school student and being a spider-man. When Wilson \"Kingpin\" Fisk uses a super collider others from across the Spider-Verse are transported to this dimension.\n"
     ]
    }
   ],
   "source": [
    "print(\"Response from Vector DB\")\n",
    "\n",
    "query = \"superhero spider\"\n",
    "print(get_query_results(query))"
   ]
  },
  {
   "cell_type": "code",
   "execution_count": 35,
   "metadata": {},
   "outputs": [
    {
     "name": "stdout",
     "output_type": "stream",
     "text": [
      "Response from RAG\n"
     ]
    },
    {
     "data": {
      "text/markdown": [
       "| Movie Title                      | Movie Plot                                                                                                                                                                                                                                                                    |\n",
       "|----------------------------------|--------------------------------------------------------------------------------------------------------------------------------------------------------------------------------------------------------------------------------------------------------------------------------|\n",
       "| Spider-Man: Across the Spider-Verse | After reuniting with Gwen Stacy Brooklyn’s full-time friendly neighborhood Spider-Man is catapulted across the Multiverse where he encounters the Spider Society a team of Spider-People charged with protecting the Multiverse’s very existence. |\n",
       "| Spider-Man: Homecoming                | Following the events of Captain America: Civil War Peter Parker with the help of his mentor Tony Stark tries to balance his life as an ordinary high school student in Queens New York City with fighting crime as his superhero alter ego Spider-Man as a new threat the Vulture emerges.                             |\n",
       "| Spider-Man: Into the Spider-Verse     | Miles Morales is juggling his life between being a high school student and being a spider-man. When Wilson \"Kingpin\" Fisk uses a super collider others from across the Spider-Verse are transported to this dimension.                                                                    |"
      ],
      "text/plain": [
       "<IPython.core.display.Markdown object>"
      ]
     },
     "execution_count": 35,
     "metadata": {},
     "output_type": "execute_result"
    }
   ],
   "source": [
    "print(\"Response from RAG\")\n",
    "\n",
    "Markdown(rag(query))"
   ]
  },
  {
   "cell_type": "code",
   "execution_count": null,
   "metadata": {},
   "outputs": [],
   "source": []
  }
 ],
 "metadata": {
  "kernelspec": {
   "display_name": "base",
   "language": "python",
   "name": "python3"
  },
  "language_info": {
   "codemirror_mode": {
    "name": "ipython",
    "version": 3
   },
   "file_extension": ".py",
   "mimetype": "text/x-python",
   "name": "python",
   "nbconvert_exporter": "python",
   "pygments_lexer": "ipython3",
   "version": "3.10.9"
  }
 },
 "nbformat": 4,
 "nbformat_minor": 2
}
