{
 "cells": [
  {
   "cell_type": "code",
   "execution_count": 55,
   "metadata": {},
   "outputs": [],
   "source": [
    "import os\n",
    "from io import BytesIO\n",
    "\n",
    "import chromadb\n",
    "import requests\n",
    "from dotenv import load_dotenv\n",
    "from IPython.display import Markdown, display\n",
    "from langchain.text_splitter import SentenceTransformersTokenTextSplitter\n",
    "from openai import OpenAI\n",
    "from pypdf import PdfReader"
   ]
  },
  {
   "cell_type": "code",
   "execution_count": 2,
   "metadata": {},
   "outputs": [
    {
     "data": {
      "text/plain": [
       "True"
      ]
     },
     "execution_count": 2,
     "metadata": {},
     "output_type": "execute_result"
    }
   ],
   "source": [
    "load_dotenv()"
   ]
  },
  {
   "cell_type": "code",
   "execution_count": 3,
   "metadata": {},
   "outputs": [],
   "source": [
    "client = OpenAI(\n",
    "    api_key=os.getenv(\"OPENAI_API_KEY\"),\n",
    ")\n",
    "\n",
    "model = \"gpt-3.5-turbo\""
   ]
  },
  {
   "cell_type": "code",
   "execution_count": 4,
   "metadata": {},
   "outputs": [],
   "source": [
    "def read_pdf(url):\n",
    "    response = requests.get(url)\n",
    "    pdf_file = BytesIO(response.content)\n",
    "    pdf_reader = PdfReader(pdf_file)\n",
    "    return pdf_reader"
   ]
  },
  {
   "cell_type": "code",
   "execution_count": 5,
   "metadata": {},
   "outputs": [],
   "source": [
    "url = \"https://script-pdf.s3-us-west-2.amazonaws.com/avengers-endgame-script-pdf.pdf\"\n",
    "pdf_reader = read_pdf(url)"
   ]
  },
  {
   "cell_type": "code",
   "execution_count": 6,
   "metadata": {},
   "outputs": [
    {
     "data": {
      "text/plain": [
       "149"
      ]
     },
     "execution_count": 6,
     "metadata": {},
     "output_type": "execute_result"
    }
   ],
   "source": [
    "len(pdf_reader.pages)"
   ]
  },
  {
   "cell_type": "code",
   "execution_count": 7,
   "metadata": {},
   "outputs": [
    {
     "name": "stdout",
     "output_type": "stream",
     "text": [
      "              \n",
      "              AVENGERS: ENDGAME\n",
      "   Adapted Screenplay\n",
      "Written by Christopher Markus and Stephen McFeely\n"
     ]
    }
   ],
   "source": [
    "print(pdf_reader.pages[1].extract_text())"
   ]
  },
  {
   "cell_type": "code",
   "execution_count": 8,
   "metadata": {},
   "outputs": [
    {
     "data": {
      "text/plain": [
       "[(3,\n",
       "  \"EXT. BARTON HOME - DAY\\nCLOSE ON: A HOUSE-ARREST ANKLE BRACELET.\\nCLINT BARTON (O.S.)\\nOkay, you see where you’re going? \\nLet’s work on how to get there.\\nPan up to find...CLINT BARTON, with his daughter, LILA, \\ncoaching her as she notches an arrow in her bow.\\nCLINT BARTON(CONT'D)\\nOkay, good...tip down...bow arm \\nout...three fingers-\\nLILA BARTON\\nWhy three?\\nCLINT BARTON\\n‘Cause two’s not enough and four’s \\ntoo much-\\nLAURA BARTON (O.S.)\\nYou guys want mustard or mayo, or \\nboth? \\nCLINT TURNS.  IN THE FIELD BEHIND THEM, his wife, LAURA \\nBARTON sets up a picnic as COOPER and NATHANIEL play soccer.  \\nLILA BARTON\\nWho puts mayo on a hot dog?\\nCLINT BARTON\\nWe’ll both have mustard, hon!\\n(to Lila)\\nOkay.  Draw back, deep breath...\\nShe lets loose.  THUD!  HER ARROW HITS NEAR THE BULLS-EYE. \\nCLINT BARTON(CONT'D)\\nGood job, Hawkeye.  Go get your \\narrow. \\nLAURA BARTON (O.S.)\\nEnough murder practice!  Soup’s on!\\nCLINT BARTON\\nOne sec, babe.  Be right there! \\nWe’re gonna kill some hot dogs. \\nWe’re hungry.\\nBut when he turns back...LILA IS GONE.  The bow and arrow lie \\nat his feet.  He stares.\"),\n",
       " (4,\n",
       "  \"2CLINT BARTON(CONT'D)\\nLila?  Babe, did you see Lila-\\nHe turns to his wife, BUT SHE’S GONE.  So are the boys.  The \\nsoccer ball rolls to a stop near the picnic blanket.\\nNO ONE CAN BE SEEN FOR A HUNDRED YARDS IN ALL DIRECTIONS.\\nCLINT BARTON(CONT'D)\\nGuys?  Guys, come on...\\nClint walks toward the field, dread growing.\\nCLINT BARTON(CONT'D)\\nLaura?\\nClint breaks into a panicked run. \\nCLINT BARTON(CONT'D)\\nLAURA!\\nCLINT MELTS DOWN, SPINNING AROUND, FRANTIC...\\nMARVEL FLIP\\nEXT. SPACE - NIGHT\\nBLACKNESS.  \\nTITLE: “TWENTY-TWO DAYS LATER.”\\nSoon, THE BENATAR tumbles past, adrift...\\nINT. BENATAR, GALLEY - NIGHT\\nTONY STARK and NEBULA play table-top football.  She wins.\\nTONY\\n(offering his hand)\\nGood sport.  Have fun? \\nNebula studies his hand, confused.  Finally she shakes.\\nNEBULA\\nIt was fun.\\nINT. BENATAR, FLIGHT DECK - NIGHT\\nTony, thin and haggard, kneels in front of HIS BROKEN IRON \\nMAN HELMET.  He hits a switch.  A light blinks.2\"),\n",
       " (5,\n",
       "  '3TONY’S RECORDING: he stares directly into the “camera.”\\nTONY \\nThis thing on?  Hey, Ms. Potts.  \\nPep.  If you find this recording, \\ndon’t post it on social media.  \\nIt’s going to be a real tearjerker.\\nEXT. SPACE - NIGHT\\nTHE BENATAR sparks, adrift.\\nTONY (O.S.)\\nI don’t know if you’re ever going \\nto see these.  I don’t even know if \\nyou’re still...God, I hope so.  \\nToday’s day twenty-one, no...twenty-\\ntwo.\\nINT. BENATAR, GALLEY - FLASHBACK\\nNEBULA lasers shut Tony’s infected wound.\\nTONY (O.S.)\\nYou know, if it wasn’t for the \\nexistential terror of staring into \\nthe literal void of space, I’d say \\nI’m feeling a little better today.  \\nInfection’s run its course, thanks \\nto the Blue Meanie back there.  \\nYou’d like her.  She’s very \\npractical.  And only a tiny bit \\nsadistic.\\nINT. BENATAR, GALLEY - FLASHBACK\\nTONY AND NEBULA MEND THE EMPTY FUEL CELLS UNDER THE FLOOR.\\nTONY (O.S.)\\nThe fuel cells were cracked during \\nbattle, but we figured out a way to \\nreverse the ion charge.  Bought \\nourselves about 48 hours of flight \\ntime.  Problem is that was \\nabout...49 hours ago.  \\nEXT. SPACE - NIGHT\\nFROM HIGH OVERHEAD, WE WATCH THE BENATAR DRIFT IN SPACE.3')]"
      ]
     },
     "execution_count": 8,
     "metadata": {},
     "output_type": "execute_result"
    }
   ],
   "source": [
    "texts = [\n",
    "    (page.page_number + 1, page.extract_text().strip())\n",
    "    for page in pdf_reader.pages[2:-1]\n",
    "]  # exclude first 2 and last page\n",
    "texts[:3]"
   ]
  },
  {
   "cell_type": "code",
   "execution_count": 35,
   "metadata": {},
   "outputs": [],
   "source": [
    "splitter = SentenceTransformersTokenTextSplitter(\n",
    "    model_name=\"sentence-transformers/all-MiniLM-L6-v2\",\n",
    "    chunk_overlap=25,\n",
    "    tokens_per_chunk=256,\n",
    ")"
   ]
  },
  {
   "cell_type": "code",
   "execution_count": 10,
   "metadata": {},
   "outputs": [],
   "source": [
    "# Split the texts\n",
    "split_texts = []\n",
    "for page_num, text in texts:\n",
    "    chunks = splitter.split_text(text)\n",
    "    split_texts.extend([(page_num, chunk) for chunk in chunks])"
   ]
  },
  {
   "cell_type": "code",
   "execution_count": 11,
   "metadata": {},
   "outputs": [
    {
     "data": {
      "text/plain": [
       "[(3,\n",
       "  \"ext. barton home - day close on : a house - arrest ankle bracelet. clint barton ( o. s. ) okay, you see where you ’ re going? let ’ s work on how to get there. pan up to find... clint barton, with his daughter, lila, coaching her as she notches an arrow in her bow. clint barton ( cont'd ) okay, good... tip down... bow arm out... three fingers - lila barton why three? clint barton ‘ cause two ’ s not enough and four ’ s too much - laura barton ( o. s. ) you guys want mustard or mayo, or both? clint turns. in the field behind them, his wife, laura barton sets up a picnic as cooper and nathaniel play soccer. lila barton who puts mayo on a hot dog? clint barton we ’ ll both have mustard, hon! ( to lila ) okay. draw back, deep breath... she lets loose. thud! her arrow hits near the bulls - eye. clint barton ( cont'd ) good job, hawkeye. go get your arrow. laura barton ( o. s. ) enough murder practice! soup ’ s on! clint barton one sec,\"),\n",
       " (3,\n",
       "  'your arrow. laura barton ( o. s. ) enough murder practice! soup ’ s on! clint barton one sec, babe. be right there! we ’ re gonna kill some hot dogs. we ’ re hungry. but when he turns back... lila is gone. the bow and arrow lie at his feet. he stares.'),\n",
       " (4,\n",
       "  \"2clint barton ( cont'd ) lila? babe, did you see lila - he turns to his wife, but she ’ s gone. so are the boys. the soccer ball rolls to a stop near the picnic blanket. no one can be seen for a hundred yards in all directions. clint barton ( cont'd ) guys? guys, come on... clint walks toward the field, dread growing. clint barton ( cont'd ) laura? clint breaks into a panicked run. clint barton ( cont'd ) laura! clint melts down, spinning around, frantic... marvel flip ext. space - night blackness. title : “ twenty - two days later. ” soon, the benatar tumbles past, adrift... int. benatar, galley - night tony stark and nebula play table - top football. she wins. tony ( offering his hand ) good sport. have fun? nebula studies his hand, confused. finally she shakes. nebula it was fun. int. benatar, flight deck - night tony, thin and haggard, kneels in front of his broken iron man helmet. he hits a switch. a light blinks. 2\"),\n",
       " (5,\n",
       "  '3tony ’ s recording : he stares directly into the “ camera. ” tony this thing on? hey, ms. potts. pep. if you find this recording, don ’ t post it on social media. it ’ s going to be a real tearjerker. ext. space - night the benatar sparks, adrift. tony ( o. s. ) i don ’ t know if you ’ re ever going to see these. i don ’ t even know if you ’ re still... god, i hope so. today ’ s day twenty - one, no... twenty - two. int. benatar, galley - flashback nebula lasers shut tony ’ s infected wound. tony ( o. s. ) you know, if it wasn ’ t for the existential terror of staring into the literal void of space, i ’ d say i ’ m feeling a little better today. infection ’ s run its course, thanks to the blue meanie back there. you ’ d like her. she ’ s very practical. and only a tiny bit sadistic. int. benatar, galley - flashback tony and nebula mend the empty fuel cells under the floor. tony ( o. s. ) the')]"
      ]
     },
     "execution_count": 11,
     "metadata": {},
     "output_type": "execute_result"
    }
   ],
   "source": [
    "split_texts[:4]"
   ]
  },
  {
   "cell_type": "code",
   "execution_count": 12,
   "metadata": {},
   "outputs": [
    {
     "data": {
      "text/markdown": [
       "<u>**Page No: 3**, **Chunk: 1**</u><br><br>ext. barton home - day close on : a house - arrest ankle bracelet. clint barton ( o. s. ) okay, you see where you ’ re going? let ’ s work on how to get there. pan up to find... clint barton, with his daughter, lila, coaching her as she notches an arrow in her bow. clint barton ( cont'd ) okay, good... tip down... bow arm out... three fingers - lila barton why three? clint barton ‘ cause two ’ s not enough and four ’ s too much - laura barton ( o. s. ) you guys want mustard or mayo, or both? clint turns. in the field behind them, his wife, laura barton sets up a picnic as cooper and nathaniel play soccer. lila barton who puts mayo on a hot dog? clint barton we ’ ll both have mustard, hon! ( to lila ) okay. draw back, deep breath... she lets loose. thud! her arrow hits near the bulls - eye. clint barton ( cont'd ) good job, hawkeye. go get your arrow. laura barton ( o. s. ) enough murder practice! soup ’ s on! clint barton one sec,<br>"
      ],
      "text/plain": [
       "<IPython.core.display.Markdown object>"
      ]
     },
     "metadata": {},
     "output_type": "display_data"
    },
    {
     "data": {
      "text/markdown": [
       "<u>**Page No: 3**, **Chunk: 2**</u><br><br>your arrow. laura barton ( o. s. ) enough murder practice! soup ’ s on! clint barton one sec, babe. be right there! we ’ re gonna kill some hot dogs. we ’ re hungry. but when he turns back... lila is gone. the bow and arrow lie at his feet. he stares.<br>"
      ],
      "text/plain": [
       "<IPython.core.display.Markdown object>"
      ]
     },
     "metadata": {},
     "output_type": "display_data"
    },
    {
     "data": {
      "text/markdown": [
       "<u>**Page No: 4**, **Chunk: 3**</u><br><br>2clint barton ( cont'd ) lila? babe, did you see lila - he turns to his wife, but she ’ s gone. so are the boys. the soccer ball rolls to a stop near the picnic blanket. no one can be seen for a hundred yards in all directions. clint barton ( cont'd ) guys? guys, come on... clint walks toward the field, dread growing. clint barton ( cont'd ) laura? clint breaks into a panicked run. clint barton ( cont'd ) laura! clint melts down, spinning around, frantic... marvel flip ext. space - night blackness. title : “ twenty - two days later. ” soon, the benatar tumbles past, adrift... int. benatar, galley - night tony stark and nebula play table - top football. she wins. tony ( offering his hand ) good sport. have fun? nebula studies his hand, confused. finally she shakes. nebula it was fun. int. benatar, flight deck - night tony, thin and haggard, kneels in front of his broken iron man helmet. he hits a switch. a light blinks. 2<br>"
      ],
      "text/plain": [
       "<IPython.core.display.Markdown object>"
      ]
     },
     "metadata": {},
     "output_type": "display_data"
    },
    {
     "data": {
      "text/markdown": [
       "<u>**Page No: 5**, **Chunk: 4**</u><br><br>3tony ’ s recording : he stares directly into the “ camera. ” tony this thing on? hey, ms. potts. pep. if you find this recording, don ’ t post it on social media. it ’ s going to be a real tearjerker. ext. space - night the benatar sparks, adrift. tony ( o. s. ) i don ’ t know if you ’ re ever going to see these. i don ’ t even know if you ’ re still... god, i hope so. today ’ s day twenty - one, no... twenty - two. int. benatar, galley - flashback nebula lasers shut tony ’ s infected wound. tony ( o. s. ) you know, if it wasn ’ t for the existential terror of staring into the literal void of space, i ’ d say i ’ m feeling a little better today. infection ’ s run its course, thanks to the blue meanie back there. you ’ d like her. she ’ s very practical. and only a tiny bit sadistic. int. benatar, galley - flashback tony and nebula mend the empty fuel cells under the floor. tony ( o. s. ) the<br>"
      ],
      "text/plain": [
       "<IPython.core.display.Markdown object>"
      ]
     },
     "metadata": {},
     "output_type": "display_data"
    },
    {
     "data": {
      "text/markdown": [
       "<u>**Page No: 5**, **Chunk: 5**</u><br><br>, galley - flashback tony and nebula mend the empty fuel cells under the floor. tony ( o. s. ) the fuel cells were cracked during battle, but we figured out a way to reverse the ion charge. bought ourselves about 48 hours of flight time. problem is that was about... 49 hours ago. ext. space - night from high overhead, we watch the benatar drift in space. 3<br>"
      ],
      "text/plain": [
       "<IPython.core.display.Markdown object>"
      ]
     },
     "metadata": {},
     "output_type": "display_data"
    }
   ],
   "source": [
    "# Print the result\n",
    "for index, (page_number, chunk) in enumerate(split_texts[:5], start=1):\n",
    "    display(\n",
    "        Markdown(\n",
    "            f\"<u>**Page No: {page_number}**, **Chunk: {index}**</u><br><br>{chunk}<br>\"\n",
    "        )\n",
    "    )"
   ]
  },
  {
   "cell_type": "code",
   "execution_count": 13,
   "metadata": {},
   "outputs": [
    {
     "name": "stdout",
     "output_type": "stream",
     "text": [
      "Number of chunks: 233\n"
     ]
    }
   ],
   "source": [
    "print(f\"Number of chunks: {len(split_texts)}\")"
   ]
  },
  {
   "cell_type": "code",
   "execution_count": 14,
   "metadata": {},
   "outputs": [
    {
     "data": {
      "text/plain": [
       "[]"
      ]
     },
     "execution_count": 14,
     "metadata": {},
     "output_type": "execute_result"
    }
   ],
   "source": [
    "chroma_db = chromadb.PersistentClient(path=\"db\")\n",
    "\n",
    "chroma_db.list_collections()"
   ]
  },
  {
   "cell_type": "code",
   "execution_count": 16,
   "metadata": {},
   "outputs": [],
   "source": [
    "collection = chroma_db.get_or_create_collection(\"endgame\")"
   ]
  },
  {
   "cell_type": "code",
   "execution_count": 17,
   "metadata": {},
   "outputs": [],
   "source": [
    "documents = [chunk for _, chunk in split_texts]\n",
    "metadatas = [{\"page\": str(page_num)} for page_num, _ in split_texts]\n",
    "ids = [f\"id_{i}\" for i in range(len(split_texts))]"
   ]
  },
  {
   "cell_type": "code",
   "execution_count": 18,
   "metadata": {},
   "outputs": [
    {
     "data": {
      "text/plain": [
       "[\"ext. barton home - day close on : a house - arrest ankle bracelet. clint barton ( o. s. ) okay, you see where you ’ re going? let ’ s work on how to get there. pan up to find... clint barton, with his daughter, lila, coaching her as she notches an arrow in her bow. clint barton ( cont'd ) okay, good... tip down... bow arm out... three fingers - lila barton why three? clint barton ‘ cause two ’ s not enough and four ’ s too much - laura barton ( o. s. ) you guys want mustard or mayo, or both? clint turns. in the field behind them, his wife, laura barton sets up a picnic as cooper and nathaniel play soccer. lila barton who puts mayo on a hot dog? clint barton we ’ ll both have mustard, hon! ( to lila ) okay. draw back, deep breath... she lets loose. thud! her arrow hits near the bulls - eye. clint barton ( cont'd ) good job, hawkeye. go get your arrow. laura barton ( o. s. ) enough murder practice! soup ’ s on! clint barton one sec,\",\n",
       " 'your arrow. laura barton ( o. s. ) enough murder practice! soup ’ s on! clint barton one sec, babe. be right there! we ’ re gonna kill some hot dogs. we ’ re hungry. but when he turns back... lila is gone. the bow and arrow lie at his feet. he stares.',\n",
       " \"2clint barton ( cont'd ) lila? babe, did you see lila - he turns to his wife, but she ’ s gone. so are the boys. the soccer ball rolls to a stop near the picnic blanket. no one can be seen for a hundred yards in all directions. clint barton ( cont'd ) guys? guys, come on... clint walks toward the field, dread growing. clint barton ( cont'd ) laura? clint breaks into a panicked run. clint barton ( cont'd ) laura! clint melts down, spinning around, frantic... marvel flip ext. space - night blackness. title : “ twenty - two days later. ” soon, the benatar tumbles past, adrift... int. benatar, galley - night tony stark and nebula play table - top football. she wins. tony ( offering his hand ) good sport. have fun? nebula studies his hand, confused. finally she shakes. nebula it was fun. int. benatar, flight deck - night tony, thin and haggard, kneels in front of his broken iron man helmet. he hits a switch. a light blinks. 2\"]"
      ]
     },
     "execution_count": 18,
     "metadata": {},
     "output_type": "execute_result"
    }
   ],
   "source": [
    "documents[:3]"
   ]
  },
  {
   "cell_type": "code",
   "execution_count": 19,
   "metadata": {},
   "outputs": [
    {
     "data": {
      "text/plain": [
       "[{'page': '3'}, {'page': '3'}, {'page': '4'}]"
      ]
     },
     "execution_count": 19,
     "metadata": {},
     "output_type": "execute_result"
    }
   ],
   "source": [
    "metadatas[:3]"
   ]
  },
  {
   "cell_type": "code",
   "execution_count": 20,
   "metadata": {},
   "outputs": [
    {
     "data": {
      "text/plain": [
       "['id_0', 'id_1', 'id_2']"
      ]
     },
     "execution_count": 20,
     "metadata": {},
     "output_type": "execute_result"
    }
   ],
   "source": [
    "ids[:3]"
   ]
  },
  {
   "cell_type": "code",
   "execution_count": 21,
   "metadata": {},
   "outputs": [],
   "source": [
    "collection.add(documents=documents, metadatas=metadatas, ids=ids)"
   ]
  },
  {
   "cell_type": "code",
   "execution_count": 22,
   "metadata": {},
   "outputs": [
    {
     "name": "stdout",
     "output_type": "stream",
     "text": [
      "Number of items in collection: 233\n"
     ]
    }
   ],
   "source": [
    "print(f\"Number of items in collection: {collection.count()}\")"
   ]
  },
  {
   "cell_type": "code",
   "execution_count": 46,
   "metadata": {},
   "outputs": [],
   "source": [
    "query = \"What does Sam Wilson tell Captain America when he enters the battlefield?\""
   ]
  },
  {
   "cell_type": "code",
   "execution_count": 47,
   "metadata": {},
   "outputs": [],
   "source": [
    "# Example query\n",
    "results = collection.query(\n",
    "    query_texts=[query],\n",
    "    n_results=3,\n",
    ")"
   ]
  },
  {
   "cell_type": "code",
   "execution_count": 48,
   "metadata": {},
   "outputs": [
    {
     "name": "stdout",
     "output_type": "stream",
     "text": [
      "Query Results:\n"
     ]
    },
    {
     "data": {
      "text/markdown": [
       "**Result 1 (Page 125)**<br>... and starts walking toward him. one man against thousands. all alone. but just then, steve ’ s com crackles. he strains to hear. the com crackles again. we can make out a muffled voice. muffled voice ( on com ) - ap -... - comin -... - ot - steve shakes his head, trying to clear it. slowly, sound returns... and the words ring clear : sam wilson ( o. s. ) cap. on your left. pull back... to see a portal opening in the distance. out of it flies... sam wilson. 123"
      ],
      "text/plain": [
       "<IPython.core.display.Markdown object>"
      ]
     },
     "metadata": {},
     "output_type": "display_data"
    },
    {
     "data": {
      "text/markdown": [
       "**Result 2 (Page 146)**<br>144move around him to find sam watching from a few yards away. sam wilson hey, cap. the man turns and we now see : steve rogers, age 112. old steve hi, sam. sam wilson something go wrong... or something go right? old steve i thought, after everything that ’ s happened... maybe i should try out some of that life tony always told me to get. sam wilson how was it? steve looks at the river, 112 years of emotion in his face. old steve it was beautiful. sam wilson i ’ m happy for you. really. old steve thanks. sam wilson only thing bumming me out is now i live in a world without captain america. steve pulls up a case from beside him, giving it to sam. old steve that ’ s kind of why i ’ m here. sam unzips it, revealing... a brand new shield. sam wilson where did you even get this? old steve i had a little time to travel. ( beat ) try it on. 144"
      ],
      "text/plain": [
       "<IPython.core.display.Markdown object>"
      ]
     },
     "metadata": {},
     "output_type": "display_data"
    },
    {
     "data": {
      "text/markdown": [
       "**Result 3 (Page 132)**<br>... the cannons swiveling up toward the clouds. sam wilson flies overhead. sam wilson what the hell is this? tony ’ s hud : tony flies overhead, searching upward. tony friday, what are they firing at? friday ( o. s. ) something just entered the upper atmosphere. 130"
      ],
      "text/plain": [
       "<IPython.core.display.Markdown object>"
      ]
     },
     "metadata": {},
     "output_type": "display_data"
    }
   ],
   "source": [
    "print(\"Query Results:\")\n",
    "context = \"\"\n",
    "for i, (doc, metadata) in enumerate(\n",
    "    zip(results[\"documents\"][0], results[\"metadatas\"][0]), start=1\n",
    "):\n",
    "    display(Markdown(f\"**Result {i} (Page {metadata['page']})**<br>{doc}\"))\n",
    "    context += doc\n",
    "    context += \"\\n\\n\""
   ]
  },
  {
   "cell_type": "code",
   "execution_count": 56,
   "metadata": {},
   "outputs": [],
   "source": [
    "messages = [\n",
    "    {\n",
    "        \"role\": \"system\",\n",
    "        \"content\": \"You are a helpful expert on the movie 'Avengers Endgame'. Your users are asking questions about information contained in attached information.\"\n",
    "        \"You will be shown the user's question, and the relevant information. Answer the user's question using only this information, in the format of Question, Answer and Proof\",\n",
    "    },\n",
    "    {\"role\": \"user\", \"content\": f\"Question: {query}. \\n Information: {context}\"},\n",
    "]\n",
    "\n",
    "response = client.chat.completions.create(\n",
    "    model=model,\n",
    "    messages=messages,\n",
    ")\n",
    "content = response.choices[0].message.content"
   ]
  },
  {
   "cell_type": "code",
   "execution_count": 57,
   "metadata": {},
   "outputs": [
    {
     "name": "stdout",
     "output_type": "stream",
     "text": [
      "Question: What does Sam Wilson tell Captain America when he enters the battlefield?\n",
      "\n",
      "Answer: Sam Wilson tells Captain America, \"Cap, on your left.\"\n",
      "\n",
      "Proof: The screenplay describes the moment when Sam Wilson (Falcon) flies in to the battlefield and says, \"Cap, on your left.\" This signifies the start of the epic battle scene in 'Avengers Endgame'.\n"
     ]
    }
   ],
   "source": [
    "print(content)"
   ]
  },
  {
   "cell_type": "code",
   "execution_count": null,
   "metadata": {},
   "outputs": [],
   "source": []
  }
 ],
 "metadata": {
  "kernelspec": {
   "display_name": "base",
   "language": "python",
   "name": "python3"
  },
  "language_info": {
   "codemirror_mode": {
    "name": "ipython",
    "version": 3
   },
   "file_extension": ".py",
   "mimetype": "text/x-python",
   "name": "python",
   "nbconvert_exporter": "python",
   "pygments_lexer": "ipython3",
   "version": "3.10.9"
  }
 },
 "nbformat": 4,
 "nbformat_minor": 2
}
