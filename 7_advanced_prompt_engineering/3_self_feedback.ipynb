{
 "cells": [
  {
   "cell_type": "code",
   "execution_count": 1,
   "metadata": {},
   "outputs": [],
   "source": [
    "import json\n",
    "import os\n",
    "import re\n",
    "\n",
    "from openai import OpenAI\n",
    "from dotenv import load_dotenv\n",
    "from IPython.display import Markdown"
   ]
  },
  {
   "cell_type": "code",
   "execution_count": null,
   "metadata": {},
   "outputs": [],
   "source": [
    "load_dotenv()"
   ]
  },
  {
   "cell_type": "code",
   "execution_count": 9,
   "metadata": {},
   "outputs": [],
   "source": [
    "client = OpenAI(\n",
    "    api_key=os.getenv(\"OPENAI_API_KEY\"),\n",
    ")\n",
    "\n",
    "model_name = \"gpt-3.5-turbo\""
   ]
  },
  {
   "cell_type": "code",
   "execution_count": 10,
   "metadata": {},
   "outputs": [],
   "source": [
    "def self_feedback(user_prompt: str, max_iterations: int = 3, target_rating: int = 90):\n",
    "    system_prompt = \"\"\"An input is provided in <<>>. Evaluate the input in terms of how well it addresses the original task of explaining the key events and significance of the American Civil War. Consider factors such as: Breadth and depth of context provided; Coverage of major events; Analysis of short-term and long-term impacts/consequences; If you identify any gaps or areas that need further elaboration: Return output as json {\"rating\": \"scoring in percentage\", \"feedback\": \"detailed feedback\",\"revised_output\": \"return an improved output describing the key events and significance of the American Civil War. Avoid special characters like apostrophes (') and double quotes (\\\")\"}. \"\"\"\n",
    "    revised_output = \"The response is sufficient.\"\n",
    "    feedback = \"\"\n",
    "    for i in range(max_iterations):\n",
    "        prompt = (\n",
    "            user_prompt\n",
    "            if i == 0\n",
    "            else f\"Feedback: {feedback}, Revised Output: {revised_output}\"\n",
    "        )\n",
    "        messages = [\n",
    "            {\"role\": \"system\", \"content\": system_prompt},\n",
    "            {\"role\": \"user\", \"content\": f\"{prompt}\"},\n",
    "        ]\n",
    "        response = client.chat.completions.create(model=model_name, messages=messages)\n",
    "        content = response.choices[0].message.content\n",
    "\n",
    "        # convert to valid json\n",
    "        content_json = json.loads(content)\n",
    "\n",
    "        # extract rating\n",
    "        rating_str = content_json[\"rating\"]\n",
    "        rating_num = int(re.findall(r\"\\d+\", rating_str)[0])\n",
    "\n",
    "        # extract feedback\n",
    "        feedback = content_json[\"feedback\"]\n",
    "\n",
    "        # extract revised output\n",
    "        revised_output = content_json[\"revised_output\"]\n",
    "        print(\n",
    "            f\"i={i}, Rating: {rating_num}, \\nFeedback: {feedback}, \\nRevised Output: {revised_output}\\n\\n\"\n",
    "        )\n",
    "        if rating_num >= target_rating:\n",
    "            return revised_output\n",
    "\n",
    "    return revised_output"
   ]
  },
  {
   "cell_type": "code",
   "execution_count": 11,
   "metadata": {},
   "outputs": [
    {
     "name": "stdout",
     "output_type": "stream",
     "text": [
      "i=0, Rating: 20, \n",
      "Feedback: The input provides a very basic and general overview of the American Civil War as a conflict between the North and the South. However, it lacks depth, context, and detail about key events, causes, and impacts of the war. It is crucial to cover major battles, key figures, causes of the war, such as slavery and states' rights, as well as the consequences like the Emancipation Proclamation and the end of slavery., \n",
      "Revised Output: The American Civil War was a major armed conflict fought from 1861 to 1865 between the Union (Northern states) and the Confederacy (Southern states) over issues primarily related to slavery and states' rights. Key events like the Battle of Gettysburg, the Emancipation Proclamation issued by President Lincoln, the Assassination of Abraham Lincoln, and the surrender of General Lee at Appomattox Court House were pivotal during this period. The war resulted in the abolition of slavery, the preservation of the Union, and a redefinition of the federal government's power over the states.\n",
      "\n",
      "\n",
      "i=1, Rating: 70, \n",
      "Feedback: The revised output provides a more detailed and informative overview of the American Civil War, covering key events, causes, and impacts. However, further elaboration on specific battles, key figures, and the long-term consequences could enhance the explanation., \n",
      "Revised Output: The American Civil War was a significant conflict in the United States, lasting from 1861 to 1865. It was a war fought between the Union states in the North and the Confederacy states in the South. The primary causes of the war revolved around issues of slavery, states' rights, and differing economic systems. Key events such as the Battle of Gettysburg, the Emancipation Proclamation issued by President Lincoln in 1863 which declared all enslaved people in Confederate-held territory free, the Assassination of President Abraham Lincoln in 1865, and the surrender of General Lee to General Grant at Appomattox Court House marked crucial turning points. The war had long-lasting impacts, including the abolition of slavery through the 13th Amendment, the preservation of the Union, and a shift in power dynamics between the federal government and the states.\n",
      "\n",
      "\n",
      "i=2, Rating: 75, \n",
      "Feedback: The explanation provided is detailed and covers key events, causes, and impacts of the American Civil War. It gives a good overview of the conflict, including significant events like the Battle of Gettysburg, the Emancipation Proclamation, and the surrender at Appomattox Court House. However, it could be further improved by including more specific details about major battles, key figures involved, and elaborating on the long-term consequences in more depth., \n",
      "Revised Output: The American Civil War, lasting from 1861 to 1865, was a pivotal conflict between the Union states in the North and the Confederacy states in the South. The primary causes were rooted in disagreements over slavery, states' rights, and economic differences. Notable battles like Gettysburg, Antietam, and Vicksburg played significant roles in shaping the outcome of the war. Key figures such as Abraham Lincoln, Jefferson Davis, Ulysses S. Grant, and Robert E. Lee influenced its course. The Emancipation Proclamation, issued by Lincoln in 1863, and the surrender of General Lee to General Grant at Appomattox Court House were critical events. The assassination of President Lincoln in 1865 added a tragic dimension to its conclusion. The war's long-term impacts included the abolition of slavery through the 13th Amendment, the reunification of the nation, and a shift towards increased federal power over states' rights, reshaping the country's political landscape for years to come.\n",
      "\n",
      "\n",
      "i=3, Rating: 95, \n",
      "Feedback: The revised output provides a comprehensive overview of the American Civil War, addressing major events, key figures, causes, and long-term impacts. It significantly improves on the previous input by adding more specific details about battles and leaders, as well as elaborating on the consequences of the war in more depth., \n",
      "Revised Output: The American Civil War, lasting from 1861 to 1865, was a pivotal conflict between the Union states in the North and the Confederacy states in the South. The primary causes were rooted in disagreements over slavery, states' rights, and economic differences. Notable battles like Gettysburg, Antietam, and Vicksburg played significant roles in shaping the outcome of the war. Key figures such as Abraham Lincoln, Jefferson Davis, Ulysses S. Grant, and Robert E. Lee influenced its course. The Emancipation Proclamation, issued by Lincoln in 1863, and the surrender of General Lee to General Grant at Appomattox Court House were critical events. The assassination of President Lincoln in 1865 added a tragic dimension to its conclusion. The war's long-term impacts included the abolition of slavery through the 13th Amendment, the reunification of the nation, and a shift towards increased federal power over states' rights, reshaping the country's political landscape for years to come.\n",
      "\n",
      "\n"
     ]
    }
   ],
   "source": [
    "user_prompt = \"The American Civil War was a civil war in the United States between north and south.\"\n",
    "res = self_feedback(user_prompt=user_prompt, max_iterations=5, target_rating=95)"
   ]
  },
  {
   "cell_type": "code",
   "execution_count": 14,
   "metadata": {},
   "outputs": [
    {
     "data": {
      "text/markdown": [
       "The American Civil War, lasting from 1861 to 1865, was a pivotal conflict between the Union states in the North and the Confederacy states in the South. The primary causes were rooted in disagreements over slavery, states' rights, and economic differences. Notable battles like Gettysburg, Antietam, and Vicksburg played significant roles in shaping the outcome of the war. Key figures such as Abraham Lincoln, Jefferson Davis, Ulysses S. Grant, and Robert E. Lee influenced its course. The Emancipation Proclamation, issued by Lincoln in 1863, and the surrender of General Lee to General Grant at Appomattox Court House were critical events. The assassination of President Lincoln in 1865 added a tragic dimension to its conclusion. The war's long-term impacts included the abolition of slavery through the 13th Amendment, the reunification of the nation, and a shift towards increased federal power over states' rights, reshaping the country's political landscape for years to come."
      ],
      "text/plain": [
       "<IPython.core.display.Markdown object>"
      ]
     },
     "execution_count": 14,
     "metadata": {},
     "output_type": "execute_result"
    }
   ],
   "source": [
    "Markdown(res)"
   ]
  },
  {
   "cell_type": "code",
   "execution_count": null,
   "metadata": {},
   "outputs": [],
   "source": []
  }
 ],
 "metadata": {
  "kernelspec": {
   "display_name": "base",
   "language": "python",
   "name": "python3"
  },
  "language_info": {
   "codemirror_mode": {
    "name": "ipython",
    "version": 3
   },
   "file_extension": ".py",
   "mimetype": "text/x-python",
   "name": "python",
   "nbconvert_exporter": "python",
   "pygments_lexer": "ipython3",
   "version": "3.10.9"
  }
 },
 "nbformat": 4,
 "nbformat_minor": 2
}
