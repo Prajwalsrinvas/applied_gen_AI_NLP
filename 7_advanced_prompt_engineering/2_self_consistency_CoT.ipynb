{
 "cells": [
  {
   "cell_type": "code",
   "execution_count": 1,
   "metadata": {},
   "outputs": [],
   "source": [
    "import os\n",
    "\n",
    "from dotenv import load_dotenv\n",
    "from openai import OpenAI\n",
    "from IPython.display import Markdown"
   ]
  },
  {
   "cell_type": "code",
   "execution_count": 2,
   "metadata": {},
   "outputs": [
    {
     "data": {
      "text/plain": [
       "True"
      ]
     },
     "execution_count": 2,
     "metadata": {},
     "output_type": "execute_result"
    }
   ],
   "source": [
    "load_dotenv()"
   ]
  },
  {
   "cell_type": "code",
   "execution_count": 3,
   "metadata": {},
   "outputs": [],
   "source": [
    "client = OpenAI(\n",
    "    api_key=os.getenv(\"OPENAI_API_KEY\"),\n",
    ")\n",
    "\n",
    "model_name = \"gpt-3.5-turbo\""
   ]
  },
  {
   "cell_type": "code",
   "execution_count": null,
   "metadata": {},
   "outputs": [],
   "source": [
    "def chain_of_thought(user_query: str):\n",
    "    system_role_definition = (\n",
    "        \"You are a helpful assistant. Answer precisely and concisely.\"\n",
    "    )\n",
    "    user_query_complete = f\"{user_query}, think step-by-step.\"\n",
    "    messages = [\n",
    "        {\"role\": \"system\", \"content\": system_role_definition},\n",
    "        {\"role\": \"user\", \"content\": user_query_complete},\n",
    "    ]\n",
    "    response = client.chat.completions.create(model=model_name, messages=messages)\n",
    "    content = response.choices[0].message.content\n",
    "    return content"
   ]
  },
  {
   "cell_type": "code",
   "execution_count": null,
   "metadata": {},
   "outputs": [],
   "source": [
    "def self_consistency_chain_of_thought(user_query: str, number_of_chains: int = 3):\n",
    "    # run CoT multiple times\n",
    "    res = []\n",
    "    for i in range(1, number_of_chains + 1):\n",
    "        res_chain = chain_of_thought(user_query=user_query)\n",
    "        res.append(res_chain)\n",
    "        print(f\"Chain {i}: {res_chain}\")\n",
    "        print(\"-\" * 100)\n",
    "\n",
    "    # ask the model to return most common answer\n",
    "    res_concat = \";\".join(res)\n",
    "    self_consistency_prompt = f\"You will get multiple answers in <<>>, separated by ; <<{res_concat}>> Extract only the final equations and return the most common equation as it was provided originally.\"\n",
    "    messages = [{\"role\": \"user\", \"content\": f\"{self_consistency_prompt}\"}]\n",
    "    response = client.chat.completions.create(model=model_name, messages=messages)\n",
    "    content = response.choices[0].message.content\n",
    "    return content"
   ]
  },
  {
   "cell_type": "code",
   "execution_count": 4,
   "metadata": {},
   "outputs": [
    {
     "name": "stdout",
     "output_type": "stream",
     "text": [
      "Chain 1: Sure, one possible solution for getting 24 using the numbers 3, 4, 6, and 8 is: \n",
      "\n",
      "$$(8 ÷ (4 - (6 ÷ 3))) = 24$$\n",
      "----------------------------------------------------------------------------------------------------\n",
      "Chain 2: Sure! Here's a possible solution using the numbers 3, 4, 6, and 8:\n",
      "\n",
      "$((6/3) * (8+4))$\n",
      "\n",
      "Let's simplify this to confirm if it equals 24:\n",
      "\n",
      "1. $6/3 = 2$\n",
      "2. $8+4 = 12$\n",
      "3. $2 * 12 = 24$\n",
      "\n",
      "Therefore, $((6/3) * (8+4))$ equates to 24.\n",
      "----------------------------------------------------------------------------------------------------\n",
      "Chain 3: Sure! Following these guidelines, one possible correct equation to achieve the result of 24 using the numbers 3, 4, 6, and 8 is: (6/(1-(3/8))) * 4.\n",
      "----------------------------------------------------------------------------------------------------\n",
      "Chain 4: Sure! Here's a possible equation that uses the numbers 3, 4, 6, and 8 to get a result of 24:\n",
      "\n",
      "$$(8 * 3) - 6 + 4 = 24$$\n",
      "\n",
      "Feel free to explore different combinations and operations to solve the Game of 24. Good luck!\n",
      "----------------------------------------------------------------------------------------------------\n",
      "Chain 5: One way to reach 24 with the numbers 3, 4, 6, and 8 is: \n",
      "\n",
      "(((6 * 4) - 8) * 3) = 24\n",
      "----------------------------------------------------------------------------------------------------\n"
     ]
    }
   ],
   "source": [
    "user_prompt = \"The goal of the Game of 24 is to use the four arithmetic operations (addition, subtraction, multiplication, and division) to combine four numbers and get a result of 24. The numbers are 3, 4, 6, and 8. It is mandatory to use all four numbers. Please check the final equation for correctness. Hints: Identify the basic operations, Prioritize multiplication and division, Look for combinations that make numbers divisible by 24, Consider order of operations, Use parentheses strategically, Practice with different number combinations\"\n",
    "res = self_consistency_chain_of_thought(user_query=user_prompt, number_of_chains=5)"
   ]
  },
  {
   "cell_type": "code",
   "execution_count": 5,
   "metadata": {},
   "outputs": [
    {
     "data": {
      "text/markdown": [
       "Sure, the most common final equation provided originally is: $((6/3) * (8+4)) = 24$"
      ],
      "text/plain": [
       "<IPython.core.display.Markdown object>"
      ]
     },
     "execution_count": 5,
     "metadata": {},
     "output_type": "execute_result"
    }
   ],
   "source": [
    "Markdown(res)"
   ]
  }
 ],
 "metadata": {
  "kernelspec": {
   "display_name": "base",
   "language": "python",
   "name": "python3"
  },
  "language_info": {
   "codemirror_mode": {
    "name": "ipython",
    "version": 3
   },
   "file_extension": ".py",
   "mimetype": "text/x-python",
   "name": "python",
   "nbconvert_exporter": "python",
   "pygments_lexer": "ipython3",
   "version": "3.10.9"
  }
 },
 "nbformat": 4,
 "nbformat_minor": 2
}
