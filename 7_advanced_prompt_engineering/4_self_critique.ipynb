{
 "cells": [
  {
   "cell_type": "code",
   "execution_count": 1,
   "metadata": {},
   "outputs": [],
   "source": [
    "# pip install langchain_experimental"
   ]
  },
  {
   "cell_type": "code",
   "execution_count": 2,
   "metadata": {},
   "outputs": [],
   "source": [
    "import os\n",
    "\n",
    "from langchain.chat_models import ChatOpenAI\n",
    "from langchain.prompts import PromptTemplate\n",
    "from langchain_experimental.smart_llm import SmartLLMChain"
   ]
  },
  {
   "cell_type": "code",
   "execution_count": 3,
   "metadata": {},
   "outputs": [
    {
     "name": "stderr",
     "output_type": "stream",
     "text": [
      "/home/prajwal/anaconda3/lib/python3.10/site-packages/langchain_core/_api/deprecation.py:139: LangChainDeprecationWarning: The class `ChatOpenAI` was deprecated in LangChain 0.0.10 and will be removed in 0.3.0. An updated version of the class exists in the langchain-openai package and should be used instead. To use it run `pip install -U langchain-openai` and import as `from langchain_openai import ChatOpenAI`.\n",
      "  warn_deprecated(\n",
      "/home/prajwal/anaconda3/lib/python3.10/site-packages/langchain_core/_api/deprecation.py:139: LangChainDeprecationWarning: The method `Chain.run` was deprecated in langchain 0.1.0 and will be removed in 0.3.0. Use invoke instead.\n",
      "  warn_deprecated(\n"
     ]
    },
    {
     "name": "stdout",
     "output_type": "stream",
     "text": [
      "\n",
      "\n",
      "\u001b[1m> Entering new SmartLLMChain chain...\u001b[0m\n",
      "Prompt after formatting:\n",
      "\u001b[32;1m\u001b[1;3mIf it takes 5 workers 8 days to build a house, how long would it take 10 workers to build the same house?\u001b[0m\n",
      "Idea 1:\n",
      "\u001b[36;1m\u001b[1;3m1. The total work required to build the house is the same regardless of the number of workers. So, if 5 workers can build the house in 8 days, the total work is 5 workers * 8 days = 40 worker-days.\n",
      "\n",
      "2. If 10 workers were to build the same house, the total work would still be 40 worker-days. However, since there are now 10 workers, we can divide the total work by the number of workers to find the number of days it would take. \n",
      "\n",
      "40 worker-days / 10 workers = 4 days\n",
      "\n",
      "Therefore, it would take 10 workers 4 days to build the same house.\u001b[0m\n",
      "Idea 2:\n",
      "\u001b[36;1m\u001b[1;3m1. The total work done to build the house is constant, so we can use the formula: \n",
      "\n",
      "Workers x Days = Constant Work\n",
      "\n",
      "2. For the first scenario with 5 workers and 8 days, we have:\n",
      "\n",
      "5 workers x 8 days = Constant Work\n",
      "\n",
      "3. Let's calculate the constant work done by 5 workers in 8 days:\n",
      "\n",
      "5 workers x 8 days = 40 worker-days\n",
      "\n",
      "4. Now, we need to find out how many days it would take 10 workers to build the same house. Let's use the formula again:\n",
      "\n",
      "10 workers x Days = 40 worker-days\n",
      "\n",
      "5. To find the number of days it would take 10 workers to build the house, we divide the constant work by the number of workers:\n",
      "\n",
      "40 worker-days / 10 workers = 4 days\n",
      "\n",
      "Therefore, it would take 10 workers 4 days to build the same house.\u001b[0m\n",
      "Idea 3:\n",
      "\u001b[36;1m\u001b[1;3m1. The total work required to build the house is the same regardless of the number of workers. So, if 5 workers can build the house in 8 days, the total work is 5 workers * 8 days = 40 worker-days.\n",
      "\n",
      "2. If 10 workers were to build the same house, the total work required would still be 40 worker-days. However, since there are now 10 workers, we can divide the total work by the number of workers to find the number of days it would take. \n",
      "\n",
      "40 worker-days / 10 workers = 4 days\n",
      "\n",
      "Therefore, it would take 10 workers 4 days to build the same house.\u001b[0m\n",
      "Critique:\n",
      "\u001b[33;1m\u001b[1;3mFlaws and faulty logic in each answer option:\n",
      "\n",
      "Idea 1:\n",
      "1. The calculation of the total work as 5 workers * 8 days = 40 worker-days is correct.\n",
      "2. However, the conclusion that it would take 10 workers 4 days to build the same house is incorrect. This conclusion assumes that the work is divided equally among the workers, which may not be the case. The work may not be linearly scalable with the number of workers, especially in tasks that require coordination and teamwork.\n",
      "\n",
      "Idea 2:\n",
      "1. The formula Workers x Days = Constant Work is a valid concept, but the assumption that the work is linearly scalable with the number of workers may not hold true in all cases.\n",
      "2. The calculation of the constant work as 40 worker-days is correct based on the initial scenario with 5 workers and 8 days.\n",
      "3. However, the conclusion that it would take 10 workers 4 days to build the same house is flawed for the same reason as in Idea 1.\n",
      "\n",
      "Idea 3:\n",
      "1. The calculation of the total work as 5 workers * 8 days = 40 worker-days is correct.\n",
      "2. The conclusion that it would take 10 workers 4 days to build the same house is flawed for the same reason as in Idea 1 and Idea 2.\n",
      "\n",
      "Overall, the main flaw in all three answer options is the assumption that the work is linearly scalable with the number of workers, leading to an incorrect conclusion about the time it would take for 10 workers to build the same house.\u001b[0m\n",
      "Resolution:\n",
      "\u001b[32;1m\u001b[1;3mThe best answer is Idea 1. \n",
      "\n",
      "Improved Answer: \n",
      "Given that 5 workers can build a house in 8 days, the total work required is 5 workers * 8 days = 40 worker-days. If 10 workers were to build the same house, the total work remains 40 worker-days. However, the assumption that the work is divided equally among the workers may not hold true. Factors such as coordination, efficiency, and task allocation need to be considered. Therefore, it is not accurate to conclude that it would take 10 workers 4 days to build the same house. The actual time required for 10 workers to build the house may vary based on these factors.\u001b[0m\n",
      "\n",
      "\u001b[1m> Finished chain.\u001b[0m\n"
     ]
    },
    {
     "data": {
      "text/plain": [
       "'The best answer is Idea 1. \\n\\nImproved Answer: \\nGiven that 5 workers can build a house in 8 days, the total work required is 5 workers * 8 days = 40 worker-days. If 10 workers were to build the same house, the total work remains 40 worker-days. However, the assumption that the work is divided equally among the workers may not hold true. Factors such as coordination, efficiency, and task allocation need to be considered. Therefore, it is not accurate to conclude that it would take 10 workers 4 days to build the same house. The actual time required for 10 workers to build the house may vary based on these factors.'"
      ]
     },
     "execution_count": 3,
     "metadata": {},
     "output_type": "execute_result"
    }
   ],
   "source": [
    "hard_question = \"If it takes 5 workers 8 days to build a house, how long would it take 10 workers to build the same house?\"\n",
    "\n",
    "prompt = PromptTemplate.from_template(hard_question)\n",
    "llm = ChatOpenAI(\n",
    "    api_key=os.getenv(\"OPENAI_API_KEY\"), temperature=0, model_name=\"gpt-3.5-turbo\"\n",
    ")\n",
    "\n",
    "chain = SmartLLMChain(llm=llm, prompt=prompt, n_ideas=3, verbose=True)\n",
    "\n",
    "\n",
    "chain.run({})"
   ]
  },
  {
   "cell_type": "markdown",
   "metadata": {},
   "source": [
    "### references:\n",
    "- https://github.com/langchain-ai/langchain/blob/master/cookbook/smart_llm.ipynb\n",
    "- https://cobusgreyling.medium.com/self-critique-llm-chain-using-langchain-smartllmchain-d67c42a4fa83\n",
    "- https://api.python.langchain.com/en/latest/smart_llm/langchain_experimental.smart_llm.base.SmartLLMChain.html\n"
   ]
  }
 ],
 "metadata": {
  "kernelspec": {
   "display_name": "base",
   "language": "python",
   "name": "python3"
  },
  "language_info": {
   "codemirror_mode": {
    "name": "ipython",
    "version": 3
   },
   "file_extension": ".py",
   "mimetype": "text/x-python",
   "name": "python",
   "nbconvert_exporter": "python",
   "pygments_lexer": "ipython3",
   "version": "3.10.9"
  }
 },
 "nbformat": 4,
 "nbformat_minor": 2
}
