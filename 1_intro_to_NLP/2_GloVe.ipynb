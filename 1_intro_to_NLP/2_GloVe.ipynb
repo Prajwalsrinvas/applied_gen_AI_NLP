{
 "cells": [
  {
   "cell_type": "code",
   "execution_count": 1,
   "metadata": {},
   "outputs": [
    {
     "name": "stderr",
     "output_type": "stream",
     "text": [
      "/home/prajwal/NLP and GenAI/env/lib/python3.10/site-packages/torchtext/vocab/__init__.py:4: UserWarning: \n",
      "/!\\ IMPORTANT WARNING ABOUT TORCHTEXT STATUS /!\\ \n",
      "Torchtext is deprecated and the last released version will be 0.18 (this one). You can silence this warning by calling the following at the beginnign of your scripts: `import torchtext; torchtext.disable_torchtext_deprecation_warning()`\n",
      "  warnings.warn(torchtext._TORCHTEXT_DEPRECATION_MSG)\n",
      "/home/prajwal/NLP and GenAI/env/lib/python3.10/site-packages/torchtext/utils.py:4: UserWarning: \n",
      "/!\\ IMPORTANT WARNING ABOUT TORCHTEXT STATUS /!\\ \n",
      "Torchtext is deprecated and the last released version will be 0.18 (this one). You can silence this warning by calling the following at the beginnign of your scripts: `import torchtext; torchtext.disable_torchtext_deprecation_warning()`\n",
      "  warnings.warn(torchtext._TORCHTEXT_DEPRECATION_MSG)\n"
     ]
    }
   ],
   "source": [
    "import torch\n",
    "from torchtext.vocab import Vectors"
   ]
  },
  {
   "cell_type": "code",
   "execution_count": 2,
   "metadata": {},
   "outputs": [
    {
     "name": "stdout",
     "output_type": "stream",
     "text": [
      "Downloading from https://huggingface.co/stanfordnlp/glove/resolve/main/glove.6B.zip\n"
     ]
    },
    {
     "name": "stderr",
     "output_type": "stream",
     "text": [
      ".vector_cache/glove.6B.zip: 862MB [01:23, 10.3MB/s]                               \n",
      "100%|█████████▉| 400000/400001 [00:10<00:00, 38365.68it/s]\n"
     ]
    }
   ],
   "source": [
    "class newGloVe(Vectors):\n",
    "    url = {\n",
    "        \"42B\": \"https://huggingface.co/stanfordnlp/glove/resolve/main/glove.42B.300d.zip\",\n",
    "        \"840B\": \"https://huggingface.co/stanfordnlp/glove/resolve/main/glove.840B.300d.zip\",\n",
    "        \"twitter.27B\": \"https://huggingface.co/stanfordnlp/glove/resolve/main/glove.twitter.27B.zip\",\n",
    "        \"6B\": \"https://huggingface.co/stanfordnlp/glove/resolve/main/glove.6B.zip\",\n",
    "    }\n",
    "\n",
    "    def __init__(self, name=\"840B\", dim=300, **kwargs) -> None:\n",
    "        url = self.url[name]\n",
    "        print(f\"Downloading from {url}\")\n",
    "        name = \"glove.{}.{}d.txt\".format(name, str(dim))\n",
    "        super(newGloVe, self).__init__(name, url=url, **kwargs)\n",
    "\n",
    "\n",
    "glove = newGloVe(name=\"6B\", dim=100)"
   ]
  },
  {
   "cell_type": "code",
   "execution_count": 3,
   "metadata": {},
   "outputs": [
    {
     "data": {
      "text/plain": [
       "torch.Size([400001, 100])"
      ]
     },
     "execution_count": 3,
     "metadata": {},
     "output_type": "execute_result"
    }
   ],
   "source": [
    "# number of words and embeddings\n",
    "glove.vectors.shape"
   ]
  },
  {
   "cell_type": "code",
   "execution_count": 4,
   "metadata": {},
   "outputs": [],
   "source": [
    "# get an embedding vector\n",
    "def get_embedding_vector(word):\n",
    "    word_index = glove.stoi[word]\n",
    "    emb = glove.vectors[word_index]\n",
    "    return emb"
   ]
  },
  {
   "cell_type": "code",
   "execution_count": 5,
   "metadata": {},
   "outputs": [
    {
     "data": {
      "text/plain": [
       "torch.Size([100])"
      ]
     },
     "execution_count": 5,
     "metadata": {},
     "output_type": "execute_result"
    }
   ],
   "source": [
    "get_embedding_vector(\"chess\").shape"
   ]
  },
  {
   "cell_type": "code",
   "execution_count": 6,
   "metadata": {},
   "outputs": [],
   "source": [
    "# find closest words from input word\n",
    "def get_closest_words_from_word(word, max_n=5):\n",
    "    word_emb = get_embedding_vector(word)\n",
    "    distances = [\n",
    "        (w, torch.dist(word_emb, get_embedding_vector(w)).cpu().item())\n",
    "        for w in glove.itos\n",
    "    ]\n",
    "    dist_sort_filt = sorted(distances, key=lambda x: x[1])[:max_n]\n",
    "    return dist_sort_filt"
   ]
  },
  {
   "cell_type": "code",
   "execution_count": 7,
   "metadata": {},
   "outputs": [
    {
     "data": {
      "text/plain": [
       "[('chess', 0.0),\n",
       " ('backgammon', 4.379469394683838),\n",
       " ('grandmasters', 4.56368350982666),\n",
       " ('grandmaster', 4.613785743713379),\n",
       " ('scrabble', 4.677640438079834)]"
      ]
     },
     "execution_count": 7,
     "metadata": {},
     "output_type": "execute_result"
    }
   ],
   "source": [
    "get_closest_words_from_word(\"chess\")"
   ]
  },
  {
   "cell_type": "code",
   "execution_count": 11,
   "metadata": {},
   "outputs": [
    {
     "data": {
      "text/plain": [
       "[('bangalore', 0.0),\n",
       " ('chennai', 2.703354835510254),\n",
       " ('hyderabad', 3.191100597381592),\n",
       " ('kolkata', 3.500156879425049),\n",
       " ('ahmedabad', 3.6202988624572754)]"
      ]
     },
     "execution_count": 11,
     "metadata": {},
     "output_type": "execute_result"
    }
   ],
   "source": [
    "get_closest_words_from_word(\"bangalore\")"
   ]
  },
  {
   "cell_type": "code",
   "execution_count": 8,
   "metadata": {},
   "outputs": [],
   "source": [
    "# find closest words from embedding\n",
    "def get_closest_words_from_embedding(word_emb, max_n=5):\n",
    "    distances = [\n",
    "        (w, torch.dist(word_emb, get_embedding_vector(w)).cpu().item())\n",
    "        for w in glove.itos\n",
    "    ]\n",
    "    dist_sort_filt = sorted(distances, key=lambda x: x[1])[:max_n]\n",
    "    return dist_sort_filt"
   ]
  },
  {
   "cell_type": "code",
   "execution_count": 9,
   "metadata": {},
   "outputs": [],
   "source": [
    "# find word analogies\n",
    "# e.g. King is to Queen like Man is to Woman\n",
    "def get_word_analogy(word1, word2, word3, max_n=5):\n",
    "    # logic w1= king, ...\n",
    "    # w1 - w2 + w3 --> w4\n",
    "    word1_emb = get_embedding_vector(word1)\n",
    "    word2_emb = get_embedding_vector(word2)\n",
    "    word3_emb = get_embedding_vector(word3)\n",
    "    word4_emb = word1_emb - word2_emb + word3_emb\n",
    "    analogy = get_closest_words_from_embedding(word4_emb)\n",
    "    return analogy"
   ]
  },
  {
   "cell_type": "code",
   "execution_count": 10,
   "metadata": {},
   "outputs": [
    {
     "data": {
      "text/plain": [
       "[('sister', 2.5398471355438232),\n",
       " ('niece', 2.700707197189331),\n",
       " ('granddaughter', 3.272900342941284),\n",
       " ('sister-in-law', 3.652935743331909),\n",
       " ('cousin', 3.657327651977539)]"
      ]
     },
     "execution_count": 10,
     "metadata": {},
     "output_type": "execute_result"
    }
   ],
   "source": [
    "get_word_analogy(word1=\"sister\", word2=\"brother\", word3=\"nephew\")"
   ]
  },
  {
   "cell_type": "code",
   "execution_count": null,
   "metadata": {},
   "outputs": [],
   "source": []
  }
 ],
 "metadata": {
  "kernelspec": {
   "display_name": "env",
   "language": "python",
   "name": "python3"
  },
  "language_info": {
   "codemirror_mode": {
    "name": "ipython",
    "version": 3
   },
   "file_extension": ".py",
   "mimetype": "text/x-python",
   "name": "python",
   "nbconvert_exporter": "python",
   "pygments_lexer": "ipython3",
   "version": "3.10.9"
  }
 },
 "nbformat": 4,
 "nbformat_minor": 2
}
