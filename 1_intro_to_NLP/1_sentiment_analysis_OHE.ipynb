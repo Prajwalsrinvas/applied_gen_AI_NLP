{
 "cells": [
  {
   "cell_type": "code",
   "execution_count": 1,
   "metadata": {},
   "outputs": [],
   "source": [
    "from collections import Counter\n",
    "\n",
    "import matplotlib.pyplot as plt\n",
    "import numpy as np\n",
    "import pandas as pd\n",
    "import seaborn as sns\n",
    "import torch\n",
    "import torch.nn as nn\n",
    "from sklearn.feature_extraction.text import CountVectorizer\n",
    "from sklearn.metrics import accuracy_score, confusion_matrix\n",
    "from sklearn.model_selection import train_test_split\n",
    "from torch.utils.data import DataLoader, Dataset"
   ]
  },
  {
   "cell_type": "code",
   "execution_count": 2,
   "metadata": {},
   "outputs": [
    {
     "data": {
      "text/html": [
       "<div>\n",
       "<style scoped>\n",
       "    .dataframe tbody tr th:only-of-type {\n",
       "        vertical-align: middle;\n",
       "    }\n",
       "\n",
       "    .dataframe tbody tr th {\n",
       "        vertical-align: top;\n",
       "    }\n",
       "\n",
       "    .dataframe thead th {\n",
       "        text-align: right;\n",
       "    }\n",
       "</style>\n",
       "<table border=\"1\" class=\"dataframe\">\n",
       "  <thead>\n",
       "    <tr style=\"text-align: right;\">\n",
       "      <th></th>\n",
       "      <th>textID</th>\n",
       "      <th>text</th>\n",
       "      <th>selected_text</th>\n",
       "      <th>sentiment</th>\n",
       "    </tr>\n",
       "  </thead>\n",
       "  <tbody>\n",
       "    <tr>\n",
       "      <th>0</th>\n",
       "      <td>cb774db0d1</td>\n",
       "      <td>I`d have responded, if I were going</td>\n",
       "      <td>I`d have responded, if I were going</td>\n",
       "      <td>neutral</td>\n",
       "    </tr>\n",
       "    <tr>\n",
       "      <th>1</th>\n",
       "      <td>549e992a42</td>\n",
       "      <td>Sooo SAD I will miss you here in San Diego!!!</td>\n",
       "      <td>Sooo SAD</td>\n",
       "      <td>negative</td>\n",
       "    </tr>\n",
       "    <tr>\n",
       "      <th>2</th>\n",
       "      <td>088c60f138</td>\n",
       "      <td>my boss is bullying me...</td>\n",
       "      <td>bullying me</td>\n",
       "      <td>negative</td>\n",
       "    </tr>\n",
       "    <tr>\n",
       "      <th>3</th>\n",
       "      <td>9642c003ef</td>\n",
       "      <td>what interview! leave me alone</td>\n",
       "      <td>leave me alone</td>\n",
       "      <td>negative</td>\n",
       "    </tr>\n",
       "    <tr>\n",
       "      <th>4</th>\n",
       "      <td>358bd9e861</td>\n",
       "      <td>Sons of ****, why couldn`t they put them on t...</td>\n",
       "      <td>Sons of ****,</td>\n",
       "      <td>negative</td>\n",
       "    </tr>\n",
       "    <tr>\n",
       "      <th>...</th>\n",
       "      <td>...</td>\n",
       "      <td>...</td>\n",
       "      <td>...</td>\n",
       "      <td>...</td>\n",
       "    </tr>\n",
       "    <tr>\n",
       "      <th>27476</th>\n",
       "      <td>4eac33d1c0</td>\n",
       "      <td>wish we could come see u on Denver  husband l...</td>\n",
       "      <td>d lost</td>\n",
       "      <td>negative</td>\n",
       "    </tr>\n",
       "    <tr>\n",
       "      <th>27477</th>\n",
       "      <td>4f4c4fc327</td>\n",
       "      <td>I`ve wondered about rake to.  The client has ...</td>\n",
       "      <td>, don`t force</td>\n",
       "      <td>negative</td>\n",
       "    </tr>\n",
       "    <tr>\n",
       "      <th>27478</th>\n",
       "      <td>f67aae2310</td>\n",
       "      <td>Yay good for both of you. Enjoy the break - y...</td>\n",
       "      <td>Yay good for both of you.</td>\n",
       "      <td>positive</td>\n",
       "    </tr>\n",
       "    <tr>\n",
       "      <th>27479</th>\n",
       "      <td>ed167662a5</td>\n",
       "      <td>But it was worth it  ****.</td>\n",
       "      <td>But it was worth it  ****.</td>\n",
       "      <td>positive</td>\n",
       "    </tr>\n",
       "    <tr>\n",
       "      <th>27480</th>\n",
       "      <td>6f7127d9d7</td>\n",
       "      <td>All this flirting going on - The ATG smiles...</td>\n",
       "      <td>All this flirting going on - The ATG smiles. Y...</td>\n",
       "      <td>neutral</td>\n",
       "    </tr>\n",
       "  </tbody>\n",
       "</table>\n",
       "<p>27480 rows × 4 columns</p>\n",
       "</div>"
      ],
      "text/plain": [
       "           textID                                               text  \\\n",
       "0      cb774db0d1                I`d have responded, if I were going   \n",
       "1      549e992a42      Sooo SAD I will miss you here in San Diego!!!   \n",
       "2      088c60f138                          my boss is bullying me...   \n",
       "3      9642c003ef                     what interview! leave me alone   \n",
       "4      358bd9e861   Sons of ****, why couldn`t they put them on t...   \n",
       "...           ...                                                ...   \n",
       "27476  4eac33d1c0   wish we could come see u on Denver  husband l...   \n",
       "27477  4f4c4fc327   I`ve wondered about rake to.  The client has ...   \n",
       "27478  f67aae2310   Yay good for both of you. Enjoy the break - y...   \n",
       "27479  ed167662a5                         But it was worth it  ****.   \n",
       "27480  6f7127d9d7     All this flirting going on - The ATG smiles...   \n",
       "\n",
       "                                           selected_text sentiment  \n",
       "0                    I`d have responded, if I were going   neutral  \n",
       "1                                               Sooo SAD  negative  \n",
       "2                                            bullying me  negative  \n",
       "3                                         leave me alone  negative  \n",
       "4                                          Sons of ****,  negative  \n",
       "...                                                  ...       ...  \n",
       "27476                                             d lost  negative  \n",
       "27477                                      , don`t force  negative  \n",
       "27478                          Yay good for both of you.  positive  \n",
       "27479                         But it was worth it  ****.  positive  \n",
       "27480  All this flirting going on - The ATG smiles. Y...   neutral  \n",
       "\n",
       "[27480 rows x 4 columns]"
      ]
     },
     "execution_count": 2,
     "metadata": {},
     "output_type": "execute_result"
    }
   ],
   "source": [
    "twitter_file = \"data/Tweets.csv\"\n",
    "df = pd.read_csv(twitter_file).dropna()\n",
    "df"
   ]
  },
  {
   "cell_type": "code",
   "execution_count": 3,
   "metadata": {},
   "outputs": [],
   "source": [
    "# get class values based on categories\n",
    "cat_id = {\"neutral\": 1, \"negative\": 0, \"positive\": 2}\n",
    "\n",
    "df[\"class\"] = df[\"sentiment\"].map(cat_id)"
   ]
  },
  {
   "cell_type": "code",
   "execution_count": 4,
   "metadata": {},
   "outputs": [],
   "source": [
    "# Hyperparameters\n",
    "BATCH_SIZE = 512\n",
    "NUM_EPOCHS = 80"
   ]
  },
  {
   "cell_type": "code",
   "execution_count": 5,
   "metadata": {},
   "outputs": [
    {
     "name": "stdout",
     "output_type": "stream",
     "text": [
      "X train: (13740,), y train: (13740,)\n",
      "X test: (13740,), y test: (13740,)\n"
     ]
    }
   ],
   "source": [
    "# separate independent and dependent features\n",
    "X = df[\"text\"].values\n",
    "y = df[\"class\"].values\n",
    "\n",
    "# train test split\n",
    "X_train, X_test, y_train, y_test = train_test_split(\n",
    "    X, y, test_size=0.5, random_state=123\n",
    ")\n",
    "print(\n",
    "    f\"X train: {X_train.shape}, y train: {y_train.shape}\\nX test: {X_test.shape}, y test: {y_test.shape}\"\n",
    ")\n",
    "\n",
    "one_hot = CountVectorizer()\n",
    "X_train_onehot = one_hot.fit_transform(X_train)\n",
    "X_test_onehot = one_hot.transform(X_test)"
   ]
  },
  {
   "cell_type": "code",
   "execution_count": 6,
   "metadata": {},
   "outputs": [],
   "source": [
    "# Dataset Class\n",
    "class SentimentData(Dataset):\n",
    "    def __init__(self, X, y):\n",
    "        super().__init__()\n",
    "        self.X = torch.Tensor(X.toarray())\n",
    "        self.y = torch.Tensor(y).type(torch.LongTensor)\n",
    "        self.len = len(self.X)\n",
    "\n",
    "    def __getitem__(self, index):\n",
    "        return self.X[index], self.y[index]\n",
    "\n",
    "    def __len__(self):\n",
    "        return self.len\n",
    "\n",
    "\n",
    "train_ds = SentimentData(X=X_train_onehot, y=y_train)\n",
    "test_ds = SentimentData(X_test_onehot, y_test)"
   ]
  },
  {
   "cell_type": "code",
   "execution_count": 7,
   "metadata": {},
   "outputs": [],
   "source": [
    "# Dataloader\n",
    "train_loader = DataLoader(dataset=train_ds, batch_size=BATCH_SIZE, shuffle=True)\n",
    "test_loader = DataLoader(test_ds, batch_size=15000)"
   ]
  },
  {
   "cell_type": "code",
   "execution_count": 8,
   "metadata": {},
   "outputs": [],
   "source": [
    "# Model\n",
    "class SentimentModel(nn.Module):\n",
    "    def __init__(self, NUM_FEATURES, NUM_CLASSES, HIDDEN=10):\n",
    "        super().__init__()\n",
    "        self.linear = nn.Linear(NUM_FEATURES, HIDDEN)\n",
    "        self.linear2 = nn.Linear(HIDDEN, NUM_CLASSES)\n",
    "        self.relu = nn.ReLU()\n",
    "        self.log_softmax = nn.LogSoftmax(dim=1)\n",
    "\n",
    "    def forward(self, x):\n",
    "        x = self.linear(x)\n",
    "        x = self.relu(x)\n",
    "        x = self.linear2(x)\n",
    "        x = self.log_softmax(x)\n",
    "        return x"
   ]
  },
  {
   "cell_type": "code",
   "execution_count": 9,
   "metadata": {},
   "outputs": [
    {
     "name": "stderr",
     "output_type": "stream",
     "text": [
      "/home/prajwal/NLP and GenAI/env/lib/python3.10/site-packages/tqdm/auto.py:21: TqdmWarning: IProgress not found. Please update jupyter and ipywidgets. See https://ipywidgets.readthedocs.io/en/stable/user_install.html\n",
      "  from .autonotebook import tqdm as notebook_tqdm\n",
      "/home/prajwal/NLP and GenAI/env/lib/python3.10/site-packages/transformers/utils/generic.py:441: UserWarning: torch.utils._pytree._register_pytree_node is deprecated. Please use torch.utils._pytree.register_pytree_node instead.\n",
      "  _torch_pytree._register_pytree_node(\n"
     ]
    }
   ],
   "source": [
    "# Model, Loss and Optimizer\n",
    "model = SentimentModel(NUM_FEATURES=X_train_onehot.shape[1], NUM_CLASSES=3)\n",
    "\n",
    "criterion = nn.CrossEntropyLoss()\n",
    "optimizer = torch.optim.AdamW(model.parameters())"
   ]
  },
  {
   "cell_type": "code",
   "execution_count": 10,
   "metadata": {},
   "outputs": [
    {
     "name": "stdout",
     "output_type": "stream",
     "text": [
      "Epoch 0, Loss: 29.762775182724\n",
      "Epoch 1, Loss: 28.529885172843933\n",
      "Epoch 2, Loss: 26.84921622276306\n",
      "Epoch 3, Loss: 24.93662041425705\n",
      "Epoch 4, Loss: 23.010600805282593\n",
      "Epoch 5, Loss: 21.179175794124603\n",
      "Epoch 6, Loss: 19.50905692577362\n",
      "Epoch 7, Loss: 17.981294572353363\n",
      "Epoch 8, Loss: 16.619835436344147\n",
      "Epoch 9, Loss: 15.398369491100311\n",
      "Epoch 10, Loss: 14.30932030081749\n",
      "Epoch 11, Loss: 13.34882253408432\n",
      "Epoch 12, Loss: 12.473806411027908\n",
      "Epoch 13, Loss: 11.696585565805435\n",
      "Epoch 14, Loss: 11.008902132511139\n",
      "Epoch 15, Loss: 10.381650030612946\n",
      "Epoch 16, Loss: 9.80532130599022\n",
      "Epoch 17, Loss: 9.288521438837051\n",
      "Epoch 18, Loss: 8.821797996759415\n",
      "Epoch 19, Loss: 8.387735366821289\n",
      "Epoch 20, Loss: 7.991757422685623\n",
      "Epoch 21, Loss: 7.628403469920158\n",
      "Epoch 22, Loss: 7.286630809307098\n",
      "Epoch 23, Loss: 6.986356899142265\n",
      "Epoch 24, Loss: 6.6855582892894745\n",
      "Epoch 25, Loss: 6.420519158244133\n",
      "Epoch 26, Loss: 6.160072639584541\n",
      "Epoch 27, Loss: 5.928837448358536\n",
      "Epoch 28, Loss: 5.705528080463409\n",
      "Epoch 29, Loss: 5.500528395175934\n",
      "Epoch 30, Loss: 5.306085243821144\n",
      "Epoch 31, Loss: 5.1305617690086365\n",
      "Epoch 32, Loss: 4.946861371397972\n",
      "Epoch 33, Loss: 4.784579932689667\n",
      "Epoch 34, Loss: 4.632260724902153\n",
      "Epoch 35, Loss: 4.477566823363304\n",
      "Epoch 36, Loss: 4.3363974541425705\n",
      "Epoch 37, Loss: 4.207469061017036\n",
      "Epoch 38, Loss: 4.076545111835003\n",
      "Epoch 39, Loss: 3.9614017754793167\n",
      "Epoch 40, Loss: 3.839374102652073\n",
      "Epoch 41, Loss: 3.7318468168377876\n",
      "Epoch 42, Loss: 3.634581908583641\n",
      "Epoch 43, Loss: 3.5316290259361267\n",
      "Epoch 44, Loss: 3.4361894205212593\n",
      "Epoch 45, Loss: 3.3408940136432648\n",
      "Epoch 46, Loss: 3.2529144808650017\n",
      "Epoch 47, Loss: 3.169290840625763\n",
      "Epoch 48, Loss: 3.0884754359722137\n",
      "Epoch 49, Loss: 3.0120114013552666\n",
      "Epoch 50, Loss: 2.9391588419675827\n",
      "Epoch 51, Loss: 2.8633422926068306\n",
      "Epoch 52, Loss: 2.7963896840810776\n",
      "Epoch 53, Loss: 2.7356101125478745\n",
      "Epoch 54, Loss: 2.667487360537052\n",
      "Epoch 55, Loss: 2.6060203835368156\n",
      "Epoch 56, Loss: 2.5445936173200607\n",
      "Epoch 57, Loss: 2.4969217404723167\n",
      "Epoch 58, Loss: 2.43485489115119\n",
      "Epoch 59, Loss: 2.382829397916794\n",
      "Epoch 60, Loss: 2.3380846977233887\n",
      "Epoch 61, Loss: 2.2834086790680885\n",
      "Epoch 62, Loss: 2.234232932329178\n",
      "Epoch 63, Loss: 2.1932129859924316\n",
      "Epoch 64, Loss: 2.145700264722109\n",
      "Epoch 65, Loss: 2.104392170906067\n",
      "Epoch 66, Loss: 2.0647366791963577\n",
      "Epoch 67, Loss: 2.0254436135292053\n",
      "Epoch 68, Loss: 1.9850229881703854\n",
      "Epoch 69, Loss: 1.9480262398719788\n",
      "Epoch 70, Loss: 1.9108793996274471\n",
      "Epoch 71, Loss: 1.8722480833530426\n",
      "Epoch 72, Loss: 1.837362352758646\n",
      "Epoch 73, Loss: 1.8074214197695255\n",
      "Epoch 74, Loss: 1.7747317254543304\n",
      "Epoch 75, Loss: 1.7449055835604668\n",
      "Epoch 76, Loss: 1.7145307250320911\n",
      "Epoch 77, Loss: 1.6887253411114216\n",
      "Epoch 78, Loss: 1.6561567969620228\n",
      "Epoch 79, Loss: 1.6271366886794567\n"
     ]
    }
   ],
   "source": [
    "# Model Training\n",
    "train_losses = []\n",
    "for e in range(NUM_EPOCHS):\n",
    "    curr_loss = 0\n",
    "    for X_batch, y_batch in train_loader:\n",
    "        optimizer.zero_grad()\n",
    "        y_pred_log = model(X_batch)\n",
    "        loss = criterion(y_pred_log, y_batch.long())\n",
    "\n",
    "        curr_loss += loss.item()\n",
    "        loss.backward()\n",
    "        optimizer.step()\n",
    "    train_losses.append(curr_loss)\n",
    "    print(f\"Epoch {e}, Loss: {curr_loss}\")"
   ]
  },
  {
   "cell_type": "code",
   "execution_count": 11,
   "metadata": {},
   "outputs": [
    {
     "data": {
      "image/png": "[encoded data removed]",
      "text/plain": [
       "<Figure size 640x480 with 1 Axes>"
      ]
     },
     "metadata": {},
     "output_type": "display_data"
    }
   ],
   "source": [
    "sns.lineplot(x=list(range(len(train_losses))), y=train_losses)\n",
    "plt.show()"
   ]
  },
  {
   "cell_type": "code",
   "execution_count": 13,
   "metadata": {},
   "outputs": [
    {
     "data": {
      "text/plain": [
       "'The accuracy of the model is 63.3%.'"
      ]
     },
     "execution_count": 13,
     "metadata": {},
     "output_type": "execute_result"
    }
   ],
   "source": [
    "# Model Evaluation\n",
    "with torch.no_grad():\n",
    "    for X_batch, y_batch in test_loader:\n",
    "        y_test_pred_log = model(X_batch)\n",
    "        y_test_pred = torch.argmax(y_test_pred_log, dim=1)\n",
    "\n",
    "\n",
    "y_test_pred_np = y_test_pred.squeeze().cpu().numpy()\n",
    "\n",
    "\n",
    "acc = accuracy_score(y_pred=y_test_pred_np, y_true=y_test)\n",
    "f\"The accuracy of the model is {np.round(acc, 3)*100}%.\""
   ]
  },
  {
   "cell_type": "code",
   "execution_count": 14,
   "metadata": {},
   "outputs": [
    {
     "name": "stdout",
     "output_type": "stream",
     "text": [
      "Naive Classifier: 41.0 %\n"
     ]
    }
   ],
   "source": [
    "most_common_cnt = Counter(y_test).most_common()[0][1]\n",
    "print(f\"Naive Classifier: {np.round(most_common_cnt / len(y_test) * 100, 1)} %\")"
   ]
  },
  {
   "cell_type": "code",
   "execution_count": 15,
   "metadata": {},
   "outputs": [
    {
     "data": {
      "text/plain": [
       "<Axes: >"
      ]
     },
     "execution_count": 15,
     "metadata": {},
     "output_type": "execute_result"
    },
    {
     "data": {
      "image/png": "[encoded data removed]",
      "text/plain": [
       "<Figure size 640x480 with 2 Axes>"
      ]
     },
     "metadata": {},
     "output_type": "display_data"
    }
   ],
   "source": [
    "# Confusion Matrix\n",
    "sns.heatmap(confusion_matrix(y_test_pred_np, y_test), annot=True, fmt=\".0f\")"
   ]
  },
  {
   "cell_type": "code",
   "execution_count": null,
   "metadata": {},
   "outputs": [],
   "source": []
  }
 ],
 "metadata": {
  "kernelspec": {
   "display_name": "base",
   "language": "python",
   "name": "python3"
  },
  "language_info": {
   "codemirror_mode": {
    "name": "ipython",
    "version": 3
   },
   "file_extension": ".py",
   "mimetype": "text/x-python",
   "name": "python",
   "nbconvert_exporter": "python",
   "pygments_lexer": "ipython3",
   "version": "3.10.9"
  }
 },
 "nbformat": 4,
 "nbformat_minor": 2
}
