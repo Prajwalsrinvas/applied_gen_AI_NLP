{
 "cells": [
  {
   "cell_type": "code",
   "execution_count": 30,
   "metadata": {},
   "outputs": [],
   "source": [
    "import os\n",
    "\n",
    "import nlpaug.augmenter.word as naw\n",
    "import pandas as pd\n",
    "from IPython.display import Markdown"
   ]
  },
  {
   "cell_type": "code",
   "execution_count": 2,
   "metadata": {},
   "outputs": [],
   "source": [
    "original_en = [\n",
    "    \"A picture is worth a thousand words.\",\n",
    "    \"The pen is mightier than the sword.\",\n",
    "    \"You can't judge a book by its cover.\",\n",
    "    \"Two wrongs don't make a right.\",\n",
    "    \"The grass is always greener on the other side.\",\n",
    "    \"The best way to predict the future is to invent it.\",\n",
    "    \"It's not a bug, it's a feature.\",\n",
    "    \"Any sufficiently advanced technology is indistinguishable from magic.\",\n",
    "    \"Technology is a useful servant but a dangerous master.\",\n",
    "    \"The advance of technology is based on making it fit in so that you don't really even notice it, so it's part of everyday life.\",\n",
    "]"
   ]
  },
  {
   "cell_type": "code",
   "execution_count": 3,
   "metadata": {},
   "outputs": [
    {
     "name": "stderr",
     "output_type": "stream",
     "text": [
      "[nltk_data] Downloading package wordnet to /home/prajwal/nltk_data...\n",
      "[nltk_data] Downloading package omw-1.4 to /home/prajwal/nltk_data...\n"
     ]
    }
   ],
   "source": [
    "aug = naw.SynonymAug(aug_src=\"wordnet\")"
   ]
  },
  {
   "cell_type": "code",
   "execution_count": 4,
   "metadata": {},
   "outputs": [
    {
     "name": "stderr",
     "output_type": "stream",
     "text": [
      "[nltk_data] Downloading package averaged_perceptron_tagger to\n",
      "[nltk_data]     /home/prajwal/nltk_data...\n",
      "[nltk_data]   Unzipping taggers/averaged_perceptron_tagger.zip.\n"
     ]
    }
   ],
   "source": [
    "results = []\n",
    "for sentence in original_en:\n",
    "    augmented = aug.augment(sentence)\n",
    "    results.append({\"Original\": sentence, \"Augmented\": augmented})"
   ]
  },
  {
   "cell_type": "code",
   "execution_count": 5,
   "metadata": {},
   "outputs": [],
   "source": [
    "df = pd.DataFrame(results)"
   ]
  },
  {
   "cell_type": "code",
   "execution_count": 6,
   "metadata": {},
   "outputs": [
    {
     "data": {
      "text/markdown": [
       "| Original                                                                                                                       | Augmented                                                                                                                                                         |\n",
       "|:-------------------------------------------------------------------------------------------------------------------------------|:------------------------------------------------------------------------------------------------------------------------------------------------------------------|\n",
       "| A picture is worth a thousand words.                                                                                           | ['A mental picture comprise worth a 1000 words.']                                                                                                                 |\n",
       "| The pen is mightier than the sword.                                                                                            | ['The penitentiary personify mightier than the sword.']                                                                                                           |\n",
       "| You can't judge a book by its cover.                                                                                           | [\"You canful ' t judge a christian bible by its blanket.\"]                                                                                                        |\n",
       "| Two wrongs don't make a right.                                                                                                 | [\"Deuce wrongs wear ' t progress to a right.\"]                                                                                                                    |\n",
       "| The grass is always greener on the other side.                                                                                 | ['The grass is always greener on the other slope.']                                                                                                               |\n",
       "| The best way to predict the future is to invent it.                                                                            | ['The best way to forecast the futurity is to forge it.']                                                                                                         |\n",
       "| It's not a bug, it's a feature.                                                                                                | [\"Information technology ' s not a hemipteran, it ' s a feature article.\"]                                                                                        |\n",
       "| Any sufficiently advanced technology is indistinguishable from magic.                                                          | ['Any sufficiently advance engineering is undistinguishable from magic.']                                                                                         |\n",
       "| Technology is a useful servant but a dangerous master.                                                                         | ['Applied science is a useful servant but a severe victor.']                                                                                                      |\n",
       "| The advance of technology is based on making it fit in so that you don't really even notice it, so it's part of everyday life. | [\"The advance of technology is found on making information technology fit in thence that you don ' t rattling even observe it, so it ' s part of everyday life.\"] |"
      ],
      "text/plain": [
       "<IPython.core.display.Markdown object>"
      ]
     },
     "execution_count": 6,
     "metadata": {},
     "output_type": "execute_result"
    }
   ],
   "source": [
    "Markdown(df.to_markdown(index=False))"
   ]
  },
  {
   "cell_type": "markdown",
   "metadata": {},
   "source": [
    "above results are not that accurate, trying with ppdb aug_src instead of wordnet"
   ]
  },
  {
   "cell_type": "code",
   "execution_count": 11,
   "metadata": {},
   "outputs": [
    {
     "name": "stdout",
     "output_type": "stream",
     "text": [
      "--2024-06-30 15:59:28--  http://nlpgrid.seas.upenn.edu/PPDB/eng/ppdb-2.0-s-all.gz\n",
      "Resolving nlpgrid.seas.upenn.edu (nlpgrid.seas.upenn.edu)... 158.130.57.54\n",
      "Connecting to nlpgrid.seas.upenn.edu (nlpgrid.seas.upenn.edu)|158.130.57.54|:80... connected.\n",
      "HTTP request sent, awaiting response... 200 OK\n",
      "Length: 567671280 (541M) [application/x-gzip]\n",
      "Saving to: ‘ppdb-2.0-s-all.gz’\n",
      "\n",
      "ppdb-2.0-s-all.gz   100%[===================>] 541.37M  1.50MB/s    in 3m 35s  \n",
      "\n",
      "2024-06-30 16:03:04 (2.51 MB/s) - ‘ppdb-2.0-s-all.gz’ saved [567671280/567671280]\n",
      "\n"
     ]
    }
   ],
   "source": [
    "# from http://paraphrase.org/#/download\n",
    "# select small size\n",
    "!wget http://nlpgrid.seas.upenn.edu/PPDB/eng/ppdb-2.0-s-all.gz"
   ]
  },
  {
   "cell_type": "code",
   "execution_count": 12,
   "metadata": {},
   "outputs": [],
   "source": [
    "!gunzip ppdb-2.0-s-all.gz"
   ]
  },
  {
   "cell_type": "code",
   "execution_count": 20,
   "metadata": {},
   "outputs": [],
   "source": [
    "def get_file_size(file_path):\n",
    "    # Get the size of the file in bytes\n",
    "    size_in_bytes = os.path.getsize(file_path)\n",
    "\n",
    "    # Convert the size into GB\n",
    "    size_in_gb = size_in_bytes / (1024 * 1024 * 1024)\n",
    "\n",
    "    return f\"{size_in_gb:.2f} GB\""
   ]
  },
  {
   "cell_type": "code",
   "execution_count": 31,
   "metadata": {},
   "outputs": [
    {
     "data": {
      "text/plain": [
       "'3.72 GB'"
      ]
     },
     "execution_count": 31,
     "metadata": {},
     "output_type": "execute_result"
    }
   ],
   "source": [
    "# huge file size!\n",
    "get_file_size(\"ppdb-2.0-s-all\")"
   ]
  },
  {
   "cell_type": "code",
   "execution_count": 33,
   "metadata": {},
   "outputs": [
    {
     "name": "stdout",
     "output_type": "stream",
     "text": [
      "[NN] ||| transplant ||| transplantation ||| PPDB2.0Score=5.24981 PPDB1.0Score=3.295900 -logp(LHS|e1)=0.18597 -logp(LHS|e2)=0.14031 -logp(e1|LHS)=11.83583 -logp(e1|e2)=1.80507 -logp(e1|e2,LHS)=1.46728 -logp(e2|LHS)=11.47593 -logp(e2|e1)=1.49083 -logp(e2|e1,LHS)=1.10738 AGigaSim=0.63439 Abstract=0 Adjacent=0 CharCountDiff=5 CharLogCR=0.40547 ContainsX=0 Equivalence=0.371472 Exclusion=0.000344 GlueRule=0 GoogleNgramSim=0.03067 Identity=0 Independent=0.078161 Lex(e1|e2)=9.64663 Lex(e2|e1)=59.48919 Lexical=1 LogCount=4.67283 MVLSASim=NA Monotonic=1 OtherRelated=0.372735 PhrasePenalty=1 RarityPenalty=0 ForwardEntailment=0.177287 SourceTerminalsButNoTarget=0 SourceWords=1 TargetComplexity=0.98821 TargetFormality=0.98464 TargetTerminalsButNoSource=0 TargetWords=1 UnalignedSource=0 UnalignedTarget=0 WordCountDiff=0 WordLenDiff=5.00000 WordLogCR=0 ||| 0-0 ||| OtherRelated\n",
      "[JJ] ||| <www.un.org/depts/dgacm/docs/crp/aconf212crp1/russian.pdf> ||| <www.un.org/depts/dgacm/docs/crp/aconf212crp1/arabic.pdf> ||| PPDB2.0Score=5.22098 PPDB1.0Score=9.463800 -logp(LHS|e1)=0 -logp(LHS|e2)=0 -logp(e1|LHS)=15.67499 -logp(e1|e2)=4.73190 -logp(e1|e2,LHS)=2.18813 -logp(e2|LHS)=15.67499 -logp(e2|e1)=4.73190 -logp(e2|e1,LHS)=2.18813 AGigaSim=0 Abstract=0 Adjacent=0 CharCountDiff=-1 CharLogCR=-0.01739 ContainsX=0 Equivalence=0.630569 Exclusion=0.000045 GlueRule=0 GoogleNgramSim=0 Identity=0 Independent=0.257275 Lex(e1|e2)=61.80282 Lex(e2|e1)=61.80282 Lexical=1 LogCount=1.79176 MVLSASim=NA Monotonic=1 OtherRelated=0.086572 PhrasePenalty=1 RarityPenalty=0 ForwardEntailment=0.025539 SourceTerminalsButNoTarget=0 SourceWords=1 TargetTerminalsButNoSource=0 TargetWords=1 UnalignedSource=0 UnalignedTarget=0 WordCountDiff=0 WordLenDiff=-1.00000 WordLogCR=0 ||| 0-0 ||| Equivalence\n",
      "[JJ] ||| <www.un.org/depts/dgacm/docs/crp/aconf212crp1/russian.pdf> ||| <www.un.org/depts/dgacm/docs/crp/aconf212crp1/french.pdf> ||| PPDB2.0Score=5.21828 PPDB1.0Score=9.463820 -logp(LHS|e1)=0 -logp(LHS|e2)=0 -logp(e1|LHS)=15.67499 -logp(e1|e2)=4.73191 -logp(e1|e2,LHS)=2.18812 -logp(e2|LHS)=15.67499 -logp(e2|e1)=4.73191 -logp(e2|e1,LHS)=2.18812 AGigaSim=0 Abstract=0 Adjacent=0 CharCountDiff=-1 CharLogCR=-0.01739 ContainsX=0 Equivalence=0.628765 Exclusion=0.000039 GlueRule=0 GoogleNgramSim=0 Identity=0 Independent=0.258367 Lex(e1|e2)=61.80282 Lex(e2|e1)=61.80282 Lexical=1 LogCount=1.79176 MVLSASim=NA Monotonic=1 OtherRelated=0.087278 PhrasePenalty=1 RarityPenalty=0 ForwardEntailment=0.025551 SourceTerminalsButNoTarget=0 SourceWords=1 TargetTerminalsButNoSource=0 TargetWords=1 UnalignedSource=0 UnalignedTarget=0 WordCountDiff=0 WordLenDiff=-1.00000 WordLogCR=0 ||| 0-0 ||| Equivalence\n",
      "[JJ] ||| <www.un.org/depts/dgacm/docs/crp/aconf212crp1/french.pdf> ||| <www.un.org/depts/dgacm/docs/crp/aconf212crp1/russian.pdf> ||| PPDB2.0Score=5.21462 PPDB1.0Score=9.463780 -logp(LHS|e1)=0 -logp(LHS|e2)=0 -logp(e1|LHS)=15.67499 -logp(e1|e2)=4.73189 -logp(e1|e2,LHS)=2.18812 -logp(e2|LHS)=15.67499 -logp(e2|e1)=4.73189 -logp(e2|e1,LHS)=2.18812 AGigaSim=0 Abstract=0 Adjacent=0 CharCountDiff=1 CharLogCR=0.01739 ContainsX=0 Equivalence=0.628765 Exclusion=0.000039 GlueRule=0 GoogleNgramSim=0 Identity=0 Independent=0.258367 Lex(e1|e2)=61.80282 Lex(e2|e1)=61.80282 Lexical=1 LogCount=1.79176 MVLSASim=NA Monotonic=1 OtherRelated=0.087278 PhrasePenalty=1 RarityPenalty=0 ReverseEntailment=0.025551 SourceTerminalsButNoTarget=0 SourceWords=1 TargetTerminalsButNoSource=0 TargetWords=1 UnalignedSource=0 UnalignedTarget=0 WordCountDiff=0 WordLenDiff=1.00000 WordLogCR=0 ||| 0-0 ||| Equivalence\n",
      "[JJ] ||| <www.un.org/depts/dgacm/docs/crp/aconf212crp1/chinese.pdf> ||| <www.un.org/depts/dgacm/docs/crp/aconf212crp1/arabic.pdf> ||| PPDB2.0Score=5.21153 PPDB1.0Score=9.463800 -logp(LHS|e1)=0 -logp(LHS|e2)=0 -logp(e1|LHS)=15.67499 -logp(e1|e2)=4.73190 -logp(e1|e2,LHS)=2.18813 -logp(e2|LHS)=15.67499 -logp(e2|e1)=4.73190 -logp(e2|e1,LHS)=2.18813 AGigaSim=0 Abstract=0 Adjacent=0 CharCountDiff=-1 CharLogCR=-0.01739 ContainsX=0 Equivalence=0.628815 Exclusion=0.000039 GlueRule=0 GoogleNgramSim=0 Identity=0 Independent=0.258143 Lex(e1|e2)=61.80281 Lex(e2|e1)=61.80281 Lexical=1 LogCount=1.79176 MVLSASim=NA Monotonic=1 OtherRelated=0.087507 PhrasePenalty=1 RarityPenalty=0 ForwardEntailment=0.025495 SourceTerminalsButNoTarget=0 SourceWords=1 TargetTerminalsButNoSource=0 TargetWords=1 UnalignedSource=0 UnalignedTarget=0 WordCountDiff=0 WordLenDiff=-1.00000 WordLogCR=0 ||| 0-0 ||| Equivalence\n",
      "[JJ] ||| <www.un.org/depts/dgacm/docs/crp/aconf212crp1/english.pdf> ||| <www.un.org/depts/dgacm/docs/crp/aconf212crp1/french.pdf> ||| PPDB2.0Score=5.19932 PPDB1.0Score=9.463780 -logp(LHS|e1)=0 -logp(LHS|e2)=0 -logp(e1|LHS)=15.67499 -logp(e1|e2)=4.73189 -logp(e1|e2,LHS)=2.18812 -logp(e2|LHS)=15.67499 -logp(e2|e1)=4.73189 -logp(e2|e1,LHS)=2.18812 AGigaSim=0 Abstract=0 Adjacent=0 CharCountDiff=-1 CharLogCR=-0.01739 ContainsX=0 Equivalence=0.650092 Exclusion=0.000052 GlueRule=0 GoogleNgramSim=0 Identity=0 Independent=0.245233 Lex(e1|e2)=61.92061 Lex(e2|e1)=61.92061 Lexical=1 LogCount=1.79176 MVLSASim=NA Monotonic=1 OtherRelated=0.074915 PhrasePenalty=1 RarityPenalty=0 ForwardEntailment=0.029709 SourceTerminalsButNoTarget=0 SourceWords=1 TargetTerminalsButNoSource=0 TargetWords=1 UnalignedSource=0 UnalignedTarget=0 WordCountDiff=0 WordLenDiff=-1.00000 WordLogCR=0 ||| 0-0 ||| Equivalence\n",
      "[JJ] ||| <www.un.org/depts/dgacm/docs/crp/aconf212crp1/russian.pdf> ||| <www.un.org/depts/dgacm/docs/crp/aconf212crp1/chinese.pdf> ||| PPDB2.0Score=5.19752 PPDB1.0Score=9.463780 -logp(LHS|e1)=0 -logp(LHS|e2)=0 -logp(e1|LHS)=15.67499 -logp(e1|e2)=4.73189 -logp(e1|e2,LHS)=2.18813 -logp(e2|LHS)=15.67499 -logp(e2|e1)=4.73189 -logp(e2|e1,LHS)=2.18813 AGigaSim=0 Abstract=0 Adjacent=0 CharCountDiff=0 CharLogCR=0 ContainsX=0 Equivalence=0.523790 Exclusion=0.000022 GlueRule=0 GoogleNgramSim=0 Identity=0 Independent=0.314636 Lex(e1|e2)=61.92059 Lex(e2|e1)=61.92059 Lexical=1 LogCount=1.79176 MVLSASim=NA Monotonic=1 OtherRelated=0.150490 PhrasePenalty=1 RarityPenalty=0 ForwardEntailment=0.011062 SourceTerminalsButNoTarget=0 SourceWords=1 TargetTerminalsButNoSource=0 TargetWords=1 UnalignedSource=0 UnalignedTarget=0 WordCountDiff=0 WordLenDiff=0 WordLogCR=0 ||| 0-0 ||| Equivalence\n",
      "[JJ] ||| <www.un.org/depts/dgacm/docs/crp/aconf212crp1/arabic.pdf> ||| <www.un.org/depts/dgacm/docs/crp/aconf212crp1/russian.pdf> ||| PPDB2.0Score=5.19727 PPDB1.0Score=9.463820 -logp(LHS|e1)=0 -logp(LHS|e2)=0 -logp(e1|LHS)=15.67499 -logp(e1|e2)=4.73191 -logp(e1|e2,LHS)=2.18813 -logp(e2|LHS)=15.67499 -logp(e2|e1)=4.73191 -logp(e2|e1,LHS)=2.18813 AGigaSim=0 Abstract=0 Adjacent=0 CharCountDiff=1 CharLogCR=0.01739 ContainsX=0 Equivalence=0.630569 Exclusion=0.000045 GlueRule=0 GoogleNgramSim=0 Identity=0 Independent=0.257275 Lex(e1|e2)=61.80282 Lex(e2|e1)=61.80282 Lexical=1 LogCount=1.79176 MVLSASim=NA Monotonic=1 OtherRelated=0.086572 PhrasePenalty=1 RarityPenalty=0 ReverseEntailment=0.025539 SourceTerminalsButNoTarget=0 SourceWords=1 TargetTerminalsButNoSource=0 TargetWords=1 UnalignedSource=0 UnalignedTarget=0 WordCountDiff=0 WordLenDiff=1.00000 WordLogCR=0 ||| 0-0 ||| Equivalence\n",
      "[JJ] ||| <www.un.org/depts/dgacm/docs/crp/aconf212crp1/chinese.pdf> ||| <www.un.org/depts/dgacm/docs/crp/aconf212crp1/french.pdf> ||| PPDB2.0Score=5.19707 PPDB1.0Score=9.463800 -logp(LHS|e1)=0 -logp(LHS|e2)=0 -logp(e1|LHS)=15.67499 -logp(e1|e2)=4.73190 -logp(e1|e2,LHS)=2.18813 -logp(e2|LHS)=15.67499 -logp(e2|e1)=4.73190 -logp(e2|e1,LHS)=2.18813 AGigaSim=0 Abstract=0 Adjacent=0 CharCountDiff=-1 CharLogCR=-0.01739 ContainsX=0 Equivalence=0.630569 Exclusion=0.000045 GlueRule=0 GoogleNgramSim=0 Identity=0 Independent=0.257275 Lex(e1|e2)=61.80281 Lex(e2|e1)=61.80281 Lexical=1 LogCount=1.79176 MVLSASim=NA Monotonic=1 OtherRelated=0.086572 PhrasePenalty=1 RarityPenalty=0 ForwardEntailment=0.025539 SourceTerminalsButNoTarget=0 SourceWords=1 TargetTerminalsButNoSource=0 TargetWords=1 UnalignedSource=0 UnalignedTarget=0 WordCountDiff=0 WordLenDiff=-1.00000 WordLogCR=0 ||| 0-0 ||| Equivalence\n",
      "[JJ] ||| <www.un.org/depts/dgacm/docs/crp/aconf212crp1/french.pdf> ||| <www.un.org/depts/dgacm/docs/crp/aconf212crp1/chinese.pdf> ||| PPDB2.0Score=5.19617 PPDB1.0Score=9.463860 -logp(LHS|e1)=0 -logp(LHS|e2)=0 -logp(e1|LHS)=15.67499 -logp(e1|e2)=4.73193 -logp(e1|e2,LHS)=2.18812 -logp(e2|LHS)=15.67499 -logp(e2|e1)=4.73193 -logp(e2|e1,LHS)=2.18812 AGigaSim=0 Abstract=0 Adjacent=0 CharCountDiff=1 CharLogCR=0.01739 ContainsX=0 Equivalence=0.630569 Exclusion=0.000045 GlueRule=0 GoogleNgramSim=0 Identity=0 Independent=0.257275 Lex(e1|e2)=61.80282 Lex(e2|e1)=61.80282 Lexical=1 LogCount=1.79176 MVLSASim=NA Monotonic=1 OtherRelated=0.086572 PhrasePenalty=1 RarityPenalty=0 ReverseEntailment=0.025539 SourceTerminalsButNoTarget=0 SourceWords=1 TargetTerminalsButNoSource=0 TargetWords=1 UnalignedSource=0 UnalignedTarget=0 WordCountDiff=0 WordLenDiff=1.00000 WordLogCR=0 ||| 0-0 ||| Equivalence\n"
     ]
    }
   ],
   "source": [
    "!head ppdb-2.0-s-all"
   ]
  },
  {
   "cell_type": "code",
   "execution_count": 34,
   "metadata": {},
   "outputs": [
    {
     "name": "stdout",
     "output_type": "stream",
     "text": [
      "[SBAR] ||| [SBAR/NP,1] [NP/NP,2] this sort ||| [SBAR/NP,1] [NP/NP,2] this kind ||| PPDB2.0Score=5.19773 PPDB1.0Score=4.701110 -logp(LHS|e1)=0.45676 -logp(LHS|e2)=0.28594 -logp(e1|LHS)=16.05067 -logp(e1|e2)=3.62267 -logp(e1|e2,LHS)=3.36208 -logp(e2|LHS)=13.33563 -logp(e2|e1)=1.07844 -logp(e2|e1,LHS)=0.64704 AGigaSim=0.99027 Abstract=0 Adjacent=1 CharCountDiff=0 CharLogCR=0 ContainsX=0 Equivalence=0.296712 Exclusion=0.114243 GlueRule=0 GoogleNgramSim=0.33946 Identity=0 Independent=0.222087 Lex(e1|e2)=62.61371 Lex(e2|e1)=62.61371 Lexical=0 LogCount=0.69315 MVLSASim=NA Monotonic=1 OtherRelated=0.173756 PhrasePenalty=1 RarityPenalty=0 ReverseEntailment=0.193202 SourceTerminalsButNoTarget=0 SourceWords=2 TargetTerminalsButNoSource=0 TargetWords=2 UnalignedSource=0 UnalignedTarget=0 WordCountDiff=0 WordLenDiff=0 WordLogCR=0 ||| 0-0 1-1 2-2 3-3 ||| Equivalence\n",
      "[SBAR/PP] ||| [SBAR/VP,1] to be [VP/PP,2] ||| [SBAR/VP,1] become [VP/PP,2] ||| PPDB2.0Score=5.19773 PPDB1.0Score=15.811930 -logp(LHS|e1)=0.00206 -logp(LHS|e2)=0 -logp(e1|LHS)=9.45363 -logp(e1|e2)=5.85707 -logp(e1|e2,LHS)=5.83738 -logp(e2|LHS)=13.55347 -logp(e2|e1)=9.95486 -logp(e2|e1,LHS)=9.93516 AGigaSim=0.37132 Abstract=0 Adjacent=0 CharCountDiff=1 CharLogCR=0.13353 ContainsX=0 Equivalence=0.001962 Exclusion=0.005951 GlueRule=0 GoogleNgramSim=0.00614 Identity=0 Independent=0.680698 Lex(e1|e2)=62.20827 Lex(e2|e1)=62.20827 Lexical=0 LogCount=1.38629 MVLSASim=NA Monotonic=1 OtherRelated=0.000011 PhrasePenalty=1 RarityPenalty=0 ForwardEntailment=0.311378 SourceTerminalsButNoTarget=0 SourceWords=2 TargetTerminalsButNoSource=0 TargetWords=1 UnalignedSource=1 UnalignedTarget=0 WordCountDiff=-1 WordLenDiff=4.00000 WordLogCR=-0.69315 ||| 0-0 1-1 2-1 3-2 ||| Independent\n",
      "[SBAR/PP] ||| [SBAR/VP,1] to be [VP/PP,2] ||| [SBAR/VP,1] becomes [VP/PP,2] ||| PPDB2.0Score=5.19773 PPDB1.0Score=14.585000 -logp(LHS|e1)=0.00206 -logp(LHS|e2)=0 -logp(e1|LHS)=9.45363 -logp(e1|e2)=4.08817 -logp(e1|e2,LHS)=4.08270 -logp(e2|LHS)=15.86435 -logp(e2|e1)=10.49683 -logp(e2|e1,LHS)=10.49137 AGigaSim=0.33689 Abstract=0 Adjacent=0 CharCountDiff=2 CharLogCR=0.25131 ContainsX=0 Equivalence=0.000364 Exclusion=0.024613 GlueRule=0 GoogleNgramSim=0.05520 Identity=0 Independent=0.615214 Lex(e1|e2)=62.90141 Lex(e2|e1)=62.90141 Lexical=0 LogCount=0 MVLSASim=NA Monotonic=1 OtherRelated=0.000013 PhrasePenalty=1 RarityPenalty=0.00248 ForwardEntailment=0.359796 SourceTerminalsButNoTarget=0 SourceWords=2 TargetTerminalsButNoSource=0 TargetWords=1 UnalignedSource=1 UnalignedTarget=0 WordCountDiff=-1 WordLenDiff=5.00000 WordLogCR=-0.69315 ||| 0-0 1-1 2-1 3-2 ||| Independent\n",
      "[VP/NNS] ||| [VP/NP,1] the quality of the ||| [VP/NP,1] the quality of such ||| PPDB2.0Score=5.19773 PPDB1.0Score=8.788090 -logp(LHS|e1)=1.29709 -logp(LHS|e2)=0.32850 -logp(e1|LHS)=12.39992 -logp(e1|e2)=2.52000 -logp(e1|e2,LHS)=2.43612 -logp(e2|LHS)=15.17943 -logp(e2|e1)=6.26809 -logp(e2|e1,LHS)=5.21563 AGigaSim=0.82077 Abstract=0 Adjacent=0 CharCountDiff=1 CharLogCR=0.05129 ContainsX=0 Equivalence=0.161584 Exclusion=0.169652 GlueRule=0 GoogleNgramSim=0.64343 Identity=0 Independent=0.319375 Lex(e1|e2)=62.90141 Lex(e2|e1)=62.90141 Lexical=0 LogCount=0 MVLSASim=NA Monotonic=1 OtherRelated=0.000725 PhrasePenalty=1 RarityPenalty=0.00248 ReverseEntailment=0.348664 SourceTerminalsButNoTarget=0 SourceWords=4 TargetTerminalsButNoSource=0 TargetWords=4 UnalignedSource=0 UnalignedTarget=0 WordCountDiff=0 WordLenDiff=0.25000 WordLogCR=0 ||| 0-0 1-1 2-2 3-3 4-4 ||| ReverseEntailment\n",
      "[VP/PP] ||| [VP/VP,1] [VP/PP,2] to the achievement ||| [VP/VP,1] [VP/PP,2] for the completion ||| PPDB2.0Score=5.19773 PPDB1.0Score=10.984140 -logp(LHS|e1)=0 -logp(LHS|e2)=0 -logp(e1|LHS)=14.43601 -logp(e1|e2)=4.50929 -logp(e1|e2,LHS)=4.28850 -logp(e2|LHS)=16.40157 -logp(e2|e1)=6.47485 -logp(e2|e1,LHS)=6.25406 AGigaSim=0.81667 Abstract=0 Adjacent=1 CharCountDiff=0 CharLogCR=0 ContainsX=0 Equivalence=0.049844 Exclusion=0.052946 GlueRule=0 GoogleNgramSim=0.16258 Identity=0 Independent=0.274533 Lex(e1|e2)=63.30685 Lex(e2|e1)=63.30685 Lexical=0 LogCount=0 MVLSASim=NA Monotonic=1 OtherRelated=0.297849 PhrasePenalty=1 RarityPenalty=0.00674 ReverseEntailment=0.324828 SourceTerminalsButNoTarget=0 SourceWords=3 TargetTerminalsButNoSource=0 TargetWords=3 UnalignedSource=0 UnalignedTarget=0 WordCountDiff=0 WordLenDiff=0 WordLogCR=0 ||| 0-0 1-1 2-2 3-3 4-4 ||| ReverseEntailment\n",
      "[VP/PP] ||| is [VP/PP,1] [PP/PP,2] ||| serves to [VP/PP,1] [PP/PP,2] ||| PPDB2.0Score=5.19773 PPDB1.0Score=17.172400 -logp(LHS|e1)=0.00099 -logp(LHS|e2)=0 -logp(e1|LHS)=8.54193 -logp(e1|e2)=4.64279 -logp(e1|e2,LHS)=4.64279 -logp(e2|LHS)=16.42974 -logp(e2|e1)=12.52961 -logp(e2|e1,LHS)=12.52961 AGigaSim=0.34842 Abstract=0 Adjacent=1 CharCountDiff=7 CharLogCR=1.01160 ContainsX=0 Equivalence=0.001328 Exclusion=0.064453 GlueRule=0 GoogleNgramSim=0 Identity=0 Independent=0.396247 Lex(e1|e2)=63.30685 Lex(e2|e1)=63.30685 Lexical=0 LogCount=0 MVLSASim=NA Monotonic=1 OtherRelated=0.001634 PhrasePenalty=1 RarityPenalty=0.01832 ReverseEntailment=0.536337 SourceTerminalsButNoTarget=0 SourceWords=1 TargetTerminalsButNoSource=0 TargetWords=2 UnalignedSource=0 UnalignedTarget=1 WordCountDiff=1 WordLenDiff=2.00000 WordLogCR=0.69315 ||| 0-0 0-1 1-2 2-3 ||| ReverseEntailment\n",
      "[VP/NP] ||| applying [NP,1] [TO,2] ||| implementation of [NP,1] [TO,2] ||| PPDB2.0Score=5.19773 PPDB1.0Score=5.927340 -logp(LHS|e1)=0.19007 -logp(LHS|e2)=0.31940 -logp(e1|LHS)=13.18770 -logp(e1|e2)=2.67404 -logp(e1|e2,LHS)=2.35919 -logp(e2|LHS)=13.89628 -logp(e2|e1)=3.25330 -logp(e2|e1,LHS)=3.06777 AGigaSim=0.43862 Abstract=0 Adjacent=1 CharCountDiff=9 CharLogCR=0.64185 ContainsX=0 Equivalence=0.382039 Exclusion=0.021542 GlueRule=0 GoogleNgramSim=0.03067 Identity=0 Independent=0.060974 Lex(e1|e2)=62.90141 Lex(e2|e1)=62.90141 Lexical=0 LogCount=0.69315 MVLSASim=NA Monotonic=1 OtherRelated=0.193516 PhrasePenalty=1 RarityPenalty=0 ReverseEntailment=0.341930 SourceTerminalsButNoTarget=0 SourceWords=1 TargetTerminalsButNoSource=0 TargetWords=2 UnalignedSource=0 UnalignedTarget=1 WordCountDiff=1 WordLenDiff=0 WordLogCR=0.69315 ||| 0-0 0-1 1-2 2-3 ||| Equivalence\n",
      "[VP/PRP] ||| [VP/NP,1] the question [IN,2] ||| [VP/NP,1] the issue [IN,2] ||| PPDB2.0Score=5.19773 PPDB1.0Score=3.671310 -logp(LHS|e1)=7.73385 -logp(LHS|e2)=8.53766 -logp(e1|LHS)=13.40978 -logp(e1|e2)=2.00256 -logp(e1|e2,LHS)=0.48551 -logp(e2|LHS)=13.87978 -logp(e2|e1)=1.66875 -logp(e2|e1,LHS)=0.95551 AGigaSim=0.91884 Abstract=0 Adjacent=0 CharCountDiff=-3 CharLogCR=-0.24116 ContainsX=0 Equivalence=0.554335 Exclusion=0.000809 GlueRule=0 GoogleNgramSim=0.24363 Identity=0 Independent=0.144900 Lex(e1|e2)=62.90141 Lex(e2|e1)=62.90141 Lexical=0 LogCount=0 MVLSASim=NA Monotonic=1 OtherRelated=0.052111 PhrasePenalty=1 RarityPenalty=0.01832 ReverseEntailment=0.247845 SourceTerminalsButNoTarget=0 SourceWords=2 TargetTerminalsButNoSource=0 TargetWords=2 UnalignedSource=0 UnalignedTarget=0 WordCountDiff=0 WordLenDiff=-1.50000 WordLogCR=0 ||| 0-0 1-1 2-2 3-3 ||| Equivalence\n",
      "[VP/PP] ||| [VP/NP,1] [DT,2] court of justice ||| [VP/NP,1] [DT,2] court ||| PPDB2.0Score=5.19773 PPDB1.0Score=7.733440 -logp(LHS|e1)=1.57853 -logp(LHS|e2)=1.13852 -logp(e1|LHS)=14.07700 -logp(e1|e2)=5.14780 -logp(e1|e2,LHS)=5.69519 -logp(e2|LHS)=11.06751 -logp(e2|e1)=2.58564 -logp(e2|e1,LHS)=2.68959 AGigaSim=0.64383 Abstract=0 Adjacent=1 CharCountDiff=-11 CharLogCR=-0.94446 ContainsX=0 Equivalence=0.010855 Exclusion=0.001357 GlueRule=0 GoogleNgramSim=0 Identity=0 Independent=0.324607 Lex(e1|e2)=62.20828 Lex(e2|e1)=62.20828 Lexical=0 LogCount=1.09861 MVLSASim=NA Monotonic=1 OtherRelated=0.167166 PhrasePenalty=1 RarityPenalty=0 ForwardEntailment=0.496014 SourceTerminalsButNoTarget=0 SourceWords=3 TargetTerminalsButNoSource=0 TargetWords=1 UnalignedSource=1 UnalignedTarget=0 WordCountDiff=-2 WordLenDiff=0.33333 WordLogCR=-1.09861 ||| 0-0 1-1 2-2 3-2 4-2 ||| ForwardEntailment\n",
      "[VP/NP] ||| [VP/VP,1] assessing [NP/NP,2] ||| [VP/VP,1] measures [NP/NP,2] ||| PPDB2.0Score=5.19773 PPDB1.0Score=18.210740 -logp(LHS|e1)=0 -logp(LHS|e2)=0 -logp(e1|LHS)=12.93679 -logp(e1|e2)=7.08526 -logp(e1|e2,LHS)=7.07470 -logp(e2|LHS)=16.97700 -logp(e2|e1)=11.12548 -logp(e2|e1,LHS)=11.11492 AGigaSim=0.20711 Abstract=0 Adjacent=0 CharCountDiff=-1 CharLogCR=-0.09531 ContainsX=0 Equivalence=0.019723 Exclusion=0.016091 GlueRule=0 GoogleNgramSim=0.10412 Identity=0 Independent=0.352692 Lex(e1|e2)=62.90141 Lex(e2|e1)=62.90141 Lexical=0 LogCount=0 MVLSASim=NA Monotonic=1 OtherRelated=0.004439 PhrasePenalty=1 RarityPenalty=0.00674 ForwardEntailment=0.607055 SourceTerminalsButNoTarget=0 SourceWords=1 TargetTerminalsButNoSource=0 TargetWords=1 UnalignedSource=0 UnalignedTarget=0 WordCountDiff=0 WordLenDiff=-1.00000 WordLogCR=0 ||| 0-0 1-1 2-2 ||| ForwardEntailment\n"
     ]
    }
   ],
   "source": [
    "!tail ppdb-2.0-s-all"
   ]
  },
  {
   "cell_type": "code",
   "execution_count": 23,
   "metadata": {},
   "outputs": [],
   "source": [
    "aug = naw.SynonymAug(aug_src=\"ppdb\", model_path=\"ppdb-2.0-s-all\")"
   ]
  },
  {
   "cell_type": "code",
   "execution_count": 24,
   "metadata": {},
   "outputs": [],
   "source": [
    "results = []\n",
    "for sentence in original_en:\n",
    "    augmented = aug.augment(sentence)\n",
    "    results.append({\"Original\": sentence, \"Augmented\": augmented})"
   ]
  },
  {
   "cell_type": "code",
   "execution_count": 25,
   "metadata": {},
   "outputs": [],
   "source": [
    "df = pd.DataFrame(results)"
   ]
  },
  {
   "cell_type": "code",
   "execution_count": 26,
   "metadata": {},
   "outputs": [
    {
     "data": {
      "text/markdown": [
       "| Original                                                                                                                       | Augmented                                                                                                                                                             |\n",
       "|:-------------------------------------------------------------------------------------------------------------------------------|:----------------------------------------------------------------------------------------------------------------------------------------------------------------------|\n",
       "| A picture is worth a thousand words.                                                                                           | ['A perceptions embodies worth a thousand worlds.']                                                                                                                   |\n",
       "| The pen is mightier than the sword.                                                                                            | ['The pencil facilitates mightier than the sword.']                                                                                                                   |\n",
       "| You can't judge a book by its cover.                                                                                           | [\"You can ' t magistrate a book by its coverage.\"]                                                                                                                    |\n",
       "| Two wrongs don't make a right.                                                                                                 | [\"Two wrongdoings donated ' t make a right.\"]                                                                                                                         |\n",
       "| The grass is always greener on the other side.                                                                                 | ['The grass strengthens always greener on the other sidelines.']                                                                                                      |\n",
       "| The best way to predict the future is to invent it.                                                                            | ['The bestest way to forecast the future ceases to reinvent it.']                                                                                                     |\n",
       "| It's not a bug, it's a feature.                                                                                                | [\"It ' seconds not a bug, it ' proposing a feature.\"]                                                                                                                 |\n",
       "| Any sufficiently advanced technology is indistinguishable from magic.                                                          | ['Any adequately advanced telecommunications characterizes indistinguishable from magic.']                                                                            |\n",
       "| Technology is a useful servant but a dangerous master.                                                                         | ['Technology guarantees a useful servant but a hazardous masters.']                                                                                                   |\n",
       "| The advance of technology is based on making it fit in so that you don't really even notice it, so it's part of everyday life. | [\"The developments of telecommunications contributes  based on making it fitting in so that you donated ' t real even ignored it, so it ' s part of daily lifetime.\"] |"
      ],
      "text/plain": [
       "<IPython.core.display.Markdown object>"
      ]
     },
     "execution_count": 26,
     "metadata": {},
     "output_type": "execute_result"
    }
   ],
   "source": [
    "Markdown(df.to_markdown(index=False))"
   ]
  },
  {
   "cell_type": "markdown",
   "metadata": {},
   "source": [
    "Not sure if the results are better 🤷‍♂️"
   ]
  }
 ],
 "metadata": {
  "kernelspec": {
   "display_name": "env",
   "language": "python",
   "name": "python3"
  },
  "language_info": {
   "codemirror_mode": {
    "name": "ipython",
    "version": 3
   },
   "file_extension": ".py",
   "mimetype": "text/x-python",
   "name": "python",
   "nbconvert_exporter": "python",
   "pygments_lexer": "ipython3",
   "version": "3.10.9"
  }
 },
 "nbformat": 4,
 "nbformat_minor": 2
}
