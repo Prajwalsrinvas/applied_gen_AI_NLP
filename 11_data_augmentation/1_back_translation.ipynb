{
 "cells": [
  {
   "cell_type": "code",
   "execution_count": 19,
   "metadata": {},
   "outputs": [],
   "source": [
    "from transformers import M2M100ForConditionalGeneration, M2M100Tokenizer\n",
    "from IPython.display import Markdown"
   ]
  },
  {
   "cell_type": "code",
   "execution_count": 2,
   "metadata": {},
   "outputs": [
    {
     "name": "stderr",
     "output_type": "stream",
     "text": [
      "config.json: 100%|██████████| 908/908 [00:00<00:00, 2.27MB/s]\n",
      "pytorch_model.bin: 100%|██████████| 1.94G/1.94G [02:43<00:00, 11.8MB/s]\n",
      "generation_config.json: 100%|██████████| 233/233 [00:00<00:00, 1.03MB/s]\n",
      "tokenizer_config.json: 100%|██████████| 298/298 [00:00<00:00, 1.11MB/s]\n",
      "vocab.json: 100%|██████████| 3.71M/3.71M [00:01<00:00, 2.89MB/s]\n",
      "sentencepiece.bpe.model: 100%|██████████| 2.42M/2.42M [00:00<00:00, 15.8MB/s]\n",
      "special_tokens_map.json: 100%|██████████| 1.14k/1.14k [00:00<00:00, 8.04MB/s]\n"
     ]
    }
   ],
   "source": [
    "# Model and Tokenizer\n",
    "model = M2M100ForConditionalGeneration.from_pretrained(\"facebook/m2m100_418M\")\n",
    "tokenizer = M2M100Tokenizer.from_pretrained(\"facebook/m2m100_418M\")"
   ]
  },
  {
   "cell_type": "code",
   "execution_count": 14,
   "metadata": {},
   "outputs": [],
   "source": [
    "import pandas as pd\n",
    "\n",
    "# Original sentences\n",
    "original_en = [\n",
    "    \"A picture is worth a thousand words.\",\n",
    "    \"The pen is mightier than the sword.\",\n",
    "    \"You can't judge a book by its cover.\",\n",
    "    \"Two wrongs don't make a right.\",\n",
    "    \"The grass is always greener on the other side.\",\n",
    "    \"The best way to predict the future is to invent it.\",\n",
    "    \"It's not a bug, it's a feature.\",\n",
    "    \"Any sufficiently advanced technology is indistinguishable from magic.\",\n",
    "    \"Technology is a useful servant but a dangerous master.\",\n",
    "    \"The advance of technology is based on making it fit in so that you don't really even notice it, so it's part of everyday life.\",\n",
    "]\n",
    "\n",
    "# Translate to Hindi\n",
    "original_encoded = tokenizer(original_en, return_tensors=\"pt\", padding=True)\n",
    "generated_tokens = model.generate(\n",
    "    **original_encoded, forced_bos_token_id=tokenizer.get_lang_id(\"hi\")\n",
    ")\n",
    "target_hi = tokenizer.batch_decode(generated_tokens, skip_special_tokens=True)\n",
    "\n",
    "# Translate back to English\n",
    "target_encoding = tokenizer(target_hi, return_tensors=\"pt\", padding=True)\n",
    "generated_tokens = model.generate(\n",
    "    **target_encoding, forced_bos_token_id=tokenizer.get_lang_id(\"en\")\n",
    ")\n",
    "back_translated_en = tokenizer.batch_decode(generated_tokens, skip_special_tokens=True)\n",
    "\n",
    "df = pd.DataFrame(\n",
    "    {\n",
    "        \"Original (English)\": original_en,\n",
    "        \"Translated (Hindi)\": target_hi,\n",
    "        \"Back-translated (English)\": back_translated_en,\n",
    "    }\n",
    ")"
   ]
  },
  {
   "cell_type": "code",
   "execution_count": 20,
   "metadata": {},
   "outputs": [
    {
     "data": {
      "text/markdown": [
       "| Original (English)                                                                                                             | Translated (Hindi)                                                                     | Back-translated (English)                                                                                             |\n",
       "|:-------------------------------------------------------------------------------------------------------------------------------|:---------------------------------------------------------------------------------------|:----------------------------------------------------------------------------------------------------------------------|\n",
       "| A picture is worth a thousand words.                                                                                           | एक तस्वीर एक हजार शब्दों के लायक है।                                                            | A picture is worth a thousand words.                                                                                  |\n",
       "| The pen is mightier than the sword.                                                                                            | पेंसिल तलवार की तुलना में मजबूत है।                                                               | The pencil is stronger than the sword.                                                                                |\n",
       "| You can't judge a book by its cover.                                                                                           | आप एक किताब को उसके कवर से न्याय नहीं कर सकते।                                                   | You cannot judge a book by its cover.                                                                                 |\n",
       "| Two wrongs don't make a right.                                                                                                 | दो गलतियां एक सही नहीं बनाती हैं।                                                                 | Two mistakes do not make one right.                                                                                   |\n",
       "| The grass is always greener on the other side.                                                                                 | घास हमेशा दूसरी तरफ ग्रीन होता है।                                                               | The grass is always green on the other side.                                                                          |\n",
       "| The best way to predict the future is to invent it.                                                                            | भविष्य की भविष्यवाणी करने का सबसे अच्छा तरीका यह है कि इसे खोजें।                                          | The best way to predict the future is to find it.                                                                     |\n",
       "| It's not a bug, it's a feature.                                                                                                | यह एक बग नहीं है, यह एक विशेषता है।                                                           | This is not a bug, it is a feature.                                                                                   |\n",
       "| Any sufficiently advanced technology is indistinguishable from magic.                                                          | किसी भी पर्याप्त रूप से उन्नत प्रौद्योगिकी जादू से अलग नहीं है।                                             | No sufficiently advanced technology is different from magic.                                                          |\n",
       "| Technology is a useful servant but a dangerous master.                                                                         | प्रौद्योगिकी एक उपयोगी दास है, लेकिन एक खतरनाक मास्टर है।                                              | Technology is a useful slave, but a dangerous master.                                                                 |\n",
       "| The advance of technology is based on making it fit in so that you don't really even notice it, so it's part of everyday life. | प्रौद्योगिकी की प्रगति इसे फिट करने पर आधारित है ताकि आप वास्तव में इसे भी नोटिस न करें, इसलिए यह दैनिक जीवन का हिस्सा है। | The progress of technology is based on fiting it so that you really don’t even notice it, so it’s part of daily life. |"
      ],
      "text/plain": [
       "<IPython.core.display.Markdown object>"
      ]
     },
     "execution_count": 20,
     "metadata": {},
     "output_type": "execute_result"
    }
   ],
   "source": [
    "Markdown(df.to_markdown(index=False))"
   ]
  },
  {
   "cell_type": "code",
   "execution_count": null,
   "metadata": {},
   "outputs": [],
   "source": []
  }
 ],
 "metadata": {
  "kernelspec": {
   "display_name": "env",
   "language": "python",
   "name": "python3"
  },
  "language_info": {
   "codemirror_mode": {
    "name": "ipython",
    "version": 3
   },
   "file_extension": ".py",
   "mimetype": "text/x-python",
   "name": "python",
   "nbconvert_exporter": "python",
   "pygments_lexer": "ipython3",
   "version": "3.10.9"
  }
 },
 "nbformat": 4,
 "nbformat_minor": 2
}
