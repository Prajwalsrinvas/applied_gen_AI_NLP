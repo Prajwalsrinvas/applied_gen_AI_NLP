{
 "cells": [
  {
   "cell_type": "code",
   "execution_count": 8,
   "metadata": {},
   "outputs": [],
   "source": [
    "import nlpaug.augmenter.word as naw\n",
    "import pandas as pd\n",
    "from IPython.display import Markdown"
   ]
  },
  {
   "cell_type": "code",
   "execution_count": 2,
   "metadata": {},
   "outputs": [
    {
     "name": "stderr",
     "output_type": "stream",
     "text": [
      "tokenizer_config.json: 100%|██████████| 48.0/48.0 [00:00<00:00, 106kB/s]\n",
      "config.json: 100%|██████████| 570/570 [00:00<00:00, 1.10MB/s]\n",
      "vocab.txt: 100%|██████████| 232k/232k [00:00<00:00, 656kB/s]\n",
      "tokenizer.json: 100%|██████████| 466k/466k [00:00<00:00, 632kB/s]\n",
      "/home/prajwal/NLP and GenAI/env/lib/python3.10/site-packages/transformers/utils/generic.py:309: UserWarning: torch.utils._pytree._register_pytree_node is deprecated. Please use torch.utils._pytree.register_pytree_node instead.\n",
      "  _torch_pytree._register_pytree_node(\n",
      "model.safetensors: 100%|██████████| 440M/440M [00:37<00:00, 11.8MB/s] \n"
     ]
    }
   ],
   "source": [
    "model_name = \"bert-base-uncased\"\n",
    "aug = naw.ContextualWordEmbsAug(model_path=model_name, action=\"substitute\")"
   ]
  },
  {
   "cell_type": "code",
   "execution_count": 10,
   "metadata": {},
   "outputs": [],
   "source": [
    "original_en = [\n",
    "    \"A picture is worth a thousand words.\",\n",
    "    \"The pen is mightier than the sword.\",\n",
    "    \"You can't judge a book by its cover.\",\n",
    "    \"Two wrongs don't make a right.\",\n",
    "    \"The grass is always greener on the other side.\",\n",
    "    \"The best way to predict the future is to invent it.\",\n",
    "    \"It's not a bug, it's a feature.\",\n",
    "    \"Any sufficiently advanced technology is indistinguishable from magic.\",\n",
    "    \"Technology is a useful servant but a dangerous master.\",\n",
    "    \"The advance of technology is based on making it fit in so that you don't really even notice it, so it's part of everyday life.\",\n",
    "]"
   ]
  },
  {
   "cell_type": "code",
   "execution_count": 11,
   "metadata": {},
   "outputs": [],
   "source": [
    "results = []\n",
    "for sentence in original_en:\n",
    "    augmented = aug.augment(sentence)\n",
    "    results.append({\"Original\": sentence, \"Augmented\": augmented})"
   ]
  },
  {
   "cell_type": "code",
   "execution_count": 12,
   "metadata": {},
   "outputs": [],
   "source": [
    "df = pd.DataFrame(results)"
   ]
  },
  {
   "cell_type": "code",
   "execution_count": 13,
   "metadata": {},
   "outputs": [
    {
     "data": {
      "text/markdown": [
       "| Original                                                                                                                       | Augmented                                                                                                                                            |\n",
       "|:-------------------------------------------------------------------------------------------------------------------------------|:-----------------------------------------------------------------------------------------------------------------------------------------------------|\n",
       "| A picture is worth a thousand words.                                                                                           | ['you picture be worth a thousand dollars.']                                                                                                         |\n",
       "| The pen is mightier than the sword.                                                                                            | ['this pen is thicker than any sword.']                                                                                                              |\n",
       "| You can't judge a book by its cover.                                                                                           | [\"people can't break a book from its style.\"]                                                                                                        |\n",
       "| Two wrongs don't make a right.                                                                                                 | [\"all wrongs weren't make one right.\"]                                                                                                               |\n",
       "| The grass is always greener on the other side.                                                                                 | ['swamp grass is less greener on these other slopes.']                                                                                               |\n",
       "| The best way to predict the future is to invent it.                                                                            | ['the dangerous place to predict any future be to invent it.']                                                                                       |\n",
       "| It's not a bug, it's a feature.                                                                                                | [\"it's like a feature, you'es a feature.\"]                                                                                                           |\n",
       "| Any sufficiently advanced technology is indistinguishable from magic.                                                          | ['any given good magic was indistinguishable to magic.']                                                                                             |\n",
       "| Technology is a useful servant but a dangerous master.                                                                         | ['technology of a natural tool but a dangerous master.']                                                                                             |\n",
       "| The advance of technology is based on making it fit in so that you don't really even notice it, so it's part of everyday life. | [\"your advance of technology becomes based in making someone live in... that you don've really just notice her, so it's evidence of everyday life.\"] |"
      ],
      "text/plain": [
       "<IPython.core.display.Markdown object>"
      ]
     },
     "execution_count": 13,
     "metadata": {},
     "output_type": "execute_result"
    }
   ],
   "source": [
    "Markdown(df.to_markdown(index=False))"
   ]
  },
  {
   "cell_type": "code",
   "execution_count": null,
   "metadata": {},
   "outputs": [],
   "source": []
  }
 ],
 "metadata": {
  "kernelspec": {
   "display_name": "env",
   "language": "python",
   "name": "python3"
  },
  "language_info": {
   "codemirror_mode": {
    "name": "ipython",
    "version": 3
   },
   "file_extension": ".py",
   "mimetype": "text/x-python",
   "name": "python",
   "nbconvert_exporter": "python",
   "pygments_lexer": "ipython3",
   "version": "3.10.9"
  }
 },
 "nbformat": 4,
 "nbformat_minor": 2
}
