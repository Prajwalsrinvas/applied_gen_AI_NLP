{
 "cells": [
  {
   "cell_type": "code",
   "execution_count": 25,
   "metadata": {},
   "outputs": [],
   "source": [
    "import nlpaug.augmenter.word as naw"
   ]
  },
  {
   "cell_type": "code",
   "execution_count": 26,
   "metadata": {},
   "outputs": [],
   "source": [
    "text = \"Any sufficiently advanced technology is indistinguishable from magic.\"\n",
    "aug = naw.RandomWordAug(action=\"crop\")"
   ]
  },
  {
   "cell_type": "code",
   "execution_count": 27,
   "metadata": {},
   "outputs": [
    {
     "name": "stdout",
     "output_type": "stream",
     "text": [
      "Original:\n",
      "Any sufficiently advanced technology is indistinguishable from magic.\n"
     ]
    }
   ],
   "source": [
    "print(\"Original:\")\n",
    "print(text)"
   ]
  },
  {
   "cell_type": "code",
   "execution_count": 28,
   "metadata": {},
   "outputs": [
    {
     "name": "stdout",
     "output_type": "stream",
     "text": [
      "augmented_text=['Sufficiently technology is indistinguishable from magic.']\n",
      "augmented_text=['Sufficiently technology is indistinguishable from magic.']\n",
      "augmented_text=['Any sufficiently advanced from magic.']\n",
      "augmented_text=['Any sufficiently indistinguishable from magic.']\n",
      "augmented_text=['Any sufficiently advanced technology is.']\n",
      "augmented_text=['Any sufficiently indistinguishable from magic.']\n",
      "augmented_text=['Any sufficiently indistinguishable from magic.']\n",
      "augmented_text=['Sufficiently technology is indistinguishable from magic.']\n",
      "augmented_text=['Any sufficiently advanced technology magic.']\n",
      "augmented_text=['Sufficiently advanced technology is indistinguishable from magic']\n"
     ]
    }
   ],
   "source": [
    "for _ in range(10):\n",
    "    augmented_text = aug.augment(text)\n",
    "    print(f\"{augmented_text=}\")"
   ]
  }
 ],
 "metadata": {
  "kernelspec": {
   "display_name": "env",
   "language": "python",
   "name": "python3"
  },
  "language_info": {
   "codemirror_mode": {
    "name": "ipython",
    "version": 3
   },
   "file_extension": ".py",
   "mimetype": "text/x-python",
   "name": "python",
   "nbconvert_exporter": "python",
   "pygments_lexer": "ipython3",
   "version": "3.10.9"
  }
 },
 "nbformat": 4,
 "nbformat_minor": 2
}
