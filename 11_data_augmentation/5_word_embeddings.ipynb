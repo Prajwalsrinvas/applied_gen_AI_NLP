{
 "cells": [
  {
   "cell_type": "code",
   "execution_count": 6,
   "metadata": {},
   "outputs": [],
   "source": [
    "import nlpaug.augmenter.word as naw\n",
    "import pandas as pd\n",
    "from IPython.display import Markdown"
   ]
  },
  {
   "cell_type": "code",
   "execution_count": 1,
   "metadata": {},
   "outputs": [
    {
     "name": "stdout",
     "output_type": "stream",
     "text": [
      "--2024-06-30 16:31:07--  https://huggingface.co/stanfordnlp/glove/resolve/main/glove.6B.zip\n",
      "Resolving huggingface.co (huggingface.co)... 2600:9000:24d8:e200:17:b174:6d00:93a1, 2600:9000:24d8:4a00:17:b174:6d00:93a1, 2600:9000:24d8:1000:17:b174:6d00:93a1, ...\n",
      "Connecting to huggingface.co (huggingface.co)|2600:9000:24d8:e200:17:b174:6d00:93a1|:443... connected.\n",
      "HTTP request sent, awaiting response... 302 Found\n",
      "Location: https://cdn-lfs.huggingface.co/stanfordnlp/glove/6471382cdd837544bf3ac72497a38715e845897d265b2b424b4761832009c837?response-content-disposition=inline%3B+filename*%3DUTF-8%27%27glove.6B.zip%3B+filename%3D%22glove.6B.zip%22%3B&response-content-type=application%2Fzip&Expires=1720004468&Policy=eyJTdGF0ZW1lbnQiOlt7IkNvbmRpdGlvbiI6eyJEYXRlTGVzc1RoYW4iOnsiQVdTOkVwb2NoVGltZSI6MTcyMDAwNDQ2OH19LCJSZXNvdXJjZSI6Imh0dHBzOi8vY2RuLWxmcy5odWdnaW5nZmFjZS5jby9zdGFuZm9yZG5scC9nbG92ZS82NDcxMzgyY2RkODM3NTQ0YmYzYWM3MjQ5N2EzODcxNWU4NDU4OTdkMjY1YjJiNDI0YjQ3NjE4MzIwMDljODM3P3Jlc3BvbnNlLWNvbnRlbnQtZGlzcG9zaXRpb249KiZyZXNwb25zZS1jb250ZW50LXR5cGU9KiJ9XX0_&Signature=SQ5cEC6vHkCuC1YOp6-wrDwyProwJCeMHnyqE9-kOXR7rN8dF8AqAR1hAdIn1rV8X4LM03LoltCZGSSsmR-zDB5ROaahDkOGtF9qMwyLe9hnPZVZK7DeoE7N2g3Hbo7O-fjb9TIx4hUleGackdzt4nNkQPn%7E1r1npWeDINclYqMpiBnea5dn0DY%7EaI08qtBn6ruL0MDPTeu87-YO9JsBQWJ56UUVL4Y%7EkNB2tircPhefF3cK6lFp1vUXexP%7EB9IhcUpeQRUI-6EE8UbJJ9oeeLyBpPbMLVEIyWr%7EMK5UimmlyXjxQGgv2hXN9f-GGTlIZ0SUO3ie60R2gLk3RxNMew__&Key-Pair-Id=K3ESJI6DHPFC7 [following]\n",
      "--2024-06-30 16:31:08--  https://cdn-lfs.huggingface.co/stanfordnlp/glove/6471382cdd837544bf3ac72497a38715e845897d265b2b424b4761832009c837?response-content-disposition=inline%3B+filename*%3DUTF-8%27%27glove.6B.zip%3B+filename%3D%22glove.6B.zip%22%3B&response-content-type=application%2Fzip&Expires=1720004468&Policy=eyJTdGF0ZW1lbnQiOlt7IkNvbmRpdGlvbiI6eyJEYXRlTGVzc1RoYW4iOnsiQVdTOkVwb2NoVGltZSI6MTcyMDAwNDQ2OH19LCJSZXNvdXJjZSI6Imh0dHBzOi8vY2RuLWxmcy5odWdnaW5nZmFjZS5jby9zdGFuZm9yZG5scC9nbG92ZS82NDcxMzgyY2RkODM3NTQ0YmYzYWM3MjQ5N2EzODcxNWU4NDU4OTdkMjY1YjJiNDI0YjQ3NjE4MzIwMDljODM3P3Jlc3BvbnNlLWNvbnRlbnQtZGlzcG9zaXRpb249KiZyZXNwb25zZS1jb250ZW50LXR5cGU9KiJ9XX0_&Signature=SQ5cEC6vHkCuC1YOp6-wrDwyProwJCeMHnyqE9-kOXR7rN8dF8AqAR1hAdIn1rV8X4LM03LoltCZGSSsmR-zDB5ROaahDkOGtF9qMwyLe9hnPZVZK7DeoE7N2g3Hbo7O-fjb9TIx4hUleGackdzt4nNkQPn%7E1r1npWeDINclYqMpiBnea5dn0DY%7EaI08qtBn6ruL0MDPTeu87-YO9JsBQWJ56UUVL4Y%7EkNB2tircPhefF3cK6lFp1vUXexP%7EB9IhcUpeQRUI-6EE8UbJJ9oeeLyBpPbMLVEIyWr%7EMK5UimmlyXjxQGgv2hXN9f-GGTlIZ0SUO3ie60R2gLk3RxNMew__&Key-Pair-Id=K3ESJI6DHPFC7\n",
      "Resolving cdn-lfs.huggingface.co (cdn-lfs.huggingface.co)... 2600:9000:215c:a000:11:f807:5180:93a1, 2600:9000:215c:200:11:f807:5180:93a1, 2600:9000:215c:1200:11:f807:5180:93a1, ...\n",
      "Connecting to cdn-lfs.huggingface.co (cdn-lfs.huggingface.co)|2600:9000:215c:a000:11:f807:5180:93a1|:443... connected.\n",
      "HTTP request sent, awaiting response... 200 OK\n",
      "Length: 862182753 (822M) [application/zip]\n",
      "Saving to: ‘glove.6B.zip’\n",
      "\n",
      "glove.6B.zip        100%[===================>] 822.24M  11.9MB/s    in 74s     \n",
      "\n",
      "2024-06-30 16:32:23 (11.2 MB/s) - ‘glove.6B.zip’ saved [862182753/862182753]\n",
      "\n"
     ]
    }
   ],
   "source": [
    "# https://github.com/stanfordnlp/GloVe\n",
    "!wget https://huggingface.co/stanfordnlp/glove/resolve/main/glove.6B.zip"
   ]
  },
  {
   "cell_type": "code",
   "execution_count": 2,
   "metadata": {},
   "outputs": [
    {
     "name": "stdout",
     "output_type": "stream",
     "text": [
      "Archive:  glove.6B.zip\n",
      "  inflating: glove.6B.100d.txt       \n",
      "  inflating: glove.6B.200d.txt       \n",
      "  inflating: glove.6B.300d.txt       \n",
      "  inflating: glove.6B.50d.txt        \n"
     ]
    }
   ],
   "source": [
    "!unzip glove.6B.zip"
   ]
  },
  {
   "cell_type": "code",
   "execution_count": 2,
   "metadata": {},
   "outputs": [],
   "source": [
    "aug = naw.WordEmbsAug(\n",
    "    model_type=\"glove\", model_path=\"glove.6B.100d.txt\", action=\"substitute\"\n",
    ")"
   ]
  },
  {
   "cell_type": "code",
   "execution_count": 3,
   "metadata": {},
   "outputs": [],
   "source": [
    "original_en = [\n",
    "    \"A picture is worth a thousand words.\",\n",
    "    \"The pen is mightier than the sword.\",\n",
    "    \"You can't judge a book by its cover.\",\n",
    "    \"Two wrongs don't make a right.\",\n",
    "    \"The grass is always greener on the other side.\",\n",
    "    \"The best way to predict the future is to invent it.\",\n",
    "    \"It's not a bug, it's a feature.\",\n",
    "    \"Any sufficiently advanced technology is indistinguishable from magic.\",\n",
    "    \"Technology is a useful servant but a dangerous master.\",\n",
    "    \"The advance of technology is based on making it fit in so that you don't really even notice it, so it's part of everyday life.\",\n",
    "]"
   ]
  },
  {
   "cell_type": "code",
   "execution_count": 4,
   "metadata": {},
   "outputs": [],
   "source": [
    "results = []\n",
    "for sentence in original_en:\n",
    "    augmented = aug.augment(sentence)\n",
    "    results.append({\"Original\": sentence, \"Augmented\": augmented})"
   ]
  },
  {
   "cell_type": "code",
   "execution_count": 7,
   "metadata": {},
   "outputs": [],
   "source": [
    "df = pd.DataFrame(results)"
   ]
  },
  {
   "cell_type": "code",
   "execution_count": 8,
   "metadata": {},
   "outputs": [
    {
     "data": {
      "text/markdown": [
       "| Original                                                                                                                       | Augmented                                                                                                                                      |\n",
       "|:-------------------------------------------------------------------------------------------------------------------------------|:-----------------------------------------------------------------------------------------------------------------------------------------------|\n",
       "| A picture is worth a thousand words.                                                                                           | ['A picture still worth a 200,000 references.']                                                                                                |\n",
       "| The pen is mightier than the sword.                                                                                            | ['The pen part holier than came sword.']                                                                                                       |\n",
       "| You can't judge a book by its cover.                                                                                           | [\"You not ' t judge least book with one cover.\"]                                                                                               |\n",
       "| Two wrongs don't make a right.                                                                                                 | [\"Two wrongs tommy ' [yet a right.\"]                                                                                                           |\n",
       "| The grass is always greener on the other side.                                                                                 | ['The grass is always prettier they the several side.']                                                                                        |\n",
       "| The best way to predict the future is to invent it.                                                                            | ['The way way to guess the future seems to creatively it.']                                                                                    |\n",
       "| It's not a bug, it's a feature.                                                                                                | [\"It ' s not a insect, only ' philpins a numerous.\"]                                                                                           |\n",
       "| Any sufficiently advanced technology is indistinguishable from magic.                                                          | ['Any yet advanced technology is unintelligible due magic.']                                                                                   |\n",
       "| Technology is a useful servant but a dangerous master.                                                                         | ['Technology therefore a useful janitor but a dangerous studied.']                                                                             |\n",
       "| The advance of technology is based on making it fit in so that you don't really even notice it, so it's part of everyday life. | [\"The advance about technology is based on same it fit in so be you don ' t really even given instead, so some ' o latter within touch life.\"] |"
      ],
      "text/plain": [
       "<IPython.core.display.Markdown object>"
      ]
     },
     "execution_count": 8,
     "metadata": {},
     "output_type": "execute_result"
    }
   ],
   "source": [
    "Markdown(df.to_markdown(index=False))"
   ]
  },
  {
   "cell_type": "code",
   "execution_count": null,
   "metadata": {},
   "outputs": [],
   "source": []
  }
 ],
 "metadata": {
  "kernelspec": {
   "display_name": "env",
   "language": "python",
   "name": "python3"
  },
  "language_info": {
   "codemirror_mode": {
    "name": "ipython",
    "version": 3
   },
   "file_extension": ".py",
   "mimetype": "text/x-python",
   "name": "python",
   "nbconvert_exporter": "python",
   "pygments_lexer": "ipython3",
   "version": "3.10.9"
  }
 },
 "nbformat": 4,
 "nbformat_minor": 2
}
