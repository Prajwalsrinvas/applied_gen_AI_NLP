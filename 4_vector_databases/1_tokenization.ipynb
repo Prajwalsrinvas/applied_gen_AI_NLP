{
 "cells": [
  {
   "cell_type": "code",
   "execution_count": 10,
   "metadata": {},
   "outputs": [],
   "source": [
    "import re\n",
    "from uuid import uuid4\n",
    "\n",
    "import chromadb\n",
    "from chromadb.utils.embedding_functions import SentenceTransformerEmbeddingFunction\n",
    "from langchain.text_splitter import (\n",
    "    RecursiveCharacterTextSplitter,\n",
    "    SentenceTransformersTokenTextSplitter,\n",
    ")"
   ]
  },
  {
   "cell_type": "code",
   "execution_count": 11,
   "metadata": {},
   "outputs": [],
   "source": [
    "# max_length\n",
    "def max_token_length(txt_list: list):\n",
    "    max_length = 0\n",
    "    for txt in txt_list:\n",
    "        token_count = len(re.findall(r\"\\w+\", txt))\n",
    "        if token_count > max_length:\n",
    "            max_length = token_count\n",
    "    return f\"Max Token Length: {max_length} tokens\""
   ]
  },
  {
   "cell_type": "code",
   "execution_count": 12,
   "metadata": {},
   "outputs": [],
   "source": [
    "lorem_ipsum = \"Lorem ipsum dolor sit amet, consectetur adipiscing elit, sed do eiusmod tempor incididunt ut labore et dolore magna aliqua. Augue mauris augue neque gravida in fermentum et. Felis bibendum ut tristique et egestas quis ipsum suspendisse ultrices. Duis tristique sollicitudin nibh sit amet commodo nulla facilisi nullam. Pretium aenean pharetra magna ac placerat. Quis risus sed vulputate odio ut. Consectetur adipiscing elit duis tristique sollicitudin nibh. Nec nam aliquam sem et. Sed blandit libero volutpat sed cras. Faucibus pulvinar elementum integer enim neque volutpat ac. Mi in nulla posuere sollicitudin aliquam ultrices sagittis. Eget egestas purus viverra accumsan. Diam vel quam elementum pulvinar etiam non quam. Arcu cursus euismod quis viverra nibh cras. A scelerisque purus semper eget duis at. Lectus vestibulum mattis ullamcorper velit sed ullamcorper. Eget felis eget nunc lobortis mattis aliquam faucibus purus in. Elit scelerisque mauris pellentesque pulvinar pellentesque habitant. Ornare suspendisse sed nisi lacus sed. Interdum velit laoreet id donec ultrices. Ipsum a arcu cursus vitae congue mauris rhoncus aenean vel. Faucibus nisl tincidunt eget nullam non nisi. Urna condimentum mattis pellentesque id nibh. Tellus in hac habitasse platea dictumst vestibulum. Eget est lorem ipsum dolor. Enim eu turpis egestas pretium aenean pharetra magna ac placerat. Ac turpis egestas integer eget aliquet nibh. Vivamus arcu felis bibendum ut tristique et egestas. Nisi lacus sed viverra tellus in hac habitasse platea dictumst. Odio ut enim blandit volutpat maecenas volutpat. Turpis egestas sed tempus urna et pharetra pharetra massa. Dui nunc mattis enim ut tellus elementum sagittis vitae et. Nunc sed velit dignissim sodales ut eu. Aliquam ut porttitor leo a diam sollicitudin tempor id. At quis risus sed vulputate odio ut enim blandit volutpat. Gravida quis blandit turpis cursus in hac habitasse platea dictumst. Sit amet nulla facilisi morbi tempus iaculis urna. Diam maecenas sed enim ut sem viverra aliquet eget. Turpis egestas pretium aenean pharetra. At varius vel pharetra vel turpis nunc eget lorem. Integer quis auctor elit sed. Eget nunc lobortis mattis aliquam. Et magnis dis parturient montes nascetur ridiculus mus mauris vitae. Sollicitudin nibh sit amet commodo. Integer quis auctor elit sed vulputate mi sit amet mauris. Est placerat in egestas erat imperdiet. Ornare quam viverra orci sagittis eu volutpat odio facilisis mauris. Semper quis lectus nulla at volutpat diam. Amet volutpat consequat mauris nunc congue nisi. Ipsum nunc aliquet bibendum enim facilisis gravida neque convallis a. Et pharetra pharetra massa massa ultricies. Nunc eget lorem dolor sed viverra ipsum nunc aliquet bibendum.\""
   ]
  },
  {
   "cell_type": "code",
   "execution_count": 13,
   "metadata": {},
   "outputs": [
    {
     "name": "stderr",
     "output_type": "stream",
     "text": [
      "/home/prajwal/NLP and GenAI/env/lib/python3.10/site-packages/tqdm/auto.py:21: TqdmWarning: IProgress not found. Please update jupyter and ipywidgets. See https://ipywidgets.readthedocs.io/en/stable/user_install.html\n",
      "  from .autonotebook import tqdm as notebook_tqdm\n",
      "/home/prajwal/NLP and GenAI/env/lib/python3.10/site-packages/transformers/utils/generic.py:441: UserWarning: torch.utils._pytree._register_pytree_node is deprecated. Please use torch.utils._pytree.register_pytree_node instead.\n",
      "  _torch_pytree._register_pytree_node(\n",
      "/home/prajwal/NLP and GenAI/env/lib/python3.10/site-packages/transformers/utils/generic.py:309: UserWarning: torch.utils._pytree._register_pytree_node is deprecated. Please use torch.utils._pytree.register_pytree_node instead.\n",
      "  _torch_pytree._register_pytree_node(\n"
     ]
    }
   ],
   "source": [
    "# Sentence splitter\n",
    "# chroma default sentence model \"all-MiniLM-L6-v2\"\n",
    "# https://huggingface.co/sentence-transformers/all-MiniLM-L6-v2\n",
    "# max input length: 256 characters\n",
    "model_max_chunk_length = 256\n",
    "token_splitter = SentenceTransformersTokenTextSplitter(\n",
    "    tokens_per_chunk=model_max_chunk_length,\n",
    "    model_name=\"all-MiniLM-L6-v2\",\n",
    "    chunk_overlap=0,\n",
    ")"
   ]
  },
  {
   "cell_type": "code",
   "execution_count": 14,
   "metadata": {},
   "outputs": [],
   "source": [
    "lorem_ipsum_tokens = token_splitter.split_text(lorem_ipsum)"
   ]
  },
  {
   "cell_type": "code",
   "execution_count": 15,
   "metadata": {},
   "outputs": [
    {
     "data": {
      "text/plain": [
       "['lorem ipsum dolor sit amet, consectetur adipiscing elit, sed do eiusmod tempor incididunt ut labore et dolore magna aliqua. augue mauris augue neque gravida in fermentum et. felis bibendum ut tristique et egestas quis ipsum suspendisse ultrices. duis tristique sollicitudin nibh sit amet commodo nulla facilisi nullam. pretium aenean pharetra magna ac placerat. quis risus sed vulputate odio ut. consectetur adipiscing elit duis tristique sollicitudin nibh. nec nam aliquam sem et. sed blandit libero volutpat sed cras. faucibus pulvinar elementum integer enim neque volutpat ac. mi in nulla posuere sollicitudin aliquam ultrices sagittis. eget egestas purus viverra accumsan. diam vel quam elementum pul',\n",
       " '##vinar etiam non quam. arcu cursus euismod quis viverra nibh cras. a scelerisque purus semper eget duis at. lectus vestibulum mattis ullamcorper velit sed ullamcorper. eget felis eget nunc lobortis mattis aliquam faucibus purus in. elit scelerisque mauris pellentesque pulvinar pellentesque habitant. ornare suspendisse sed nisi lacus sed. interdum velit laoreet id donec ultrices. ipsum a arcu cursus vitae congue mauris rhoncus aenean vel. faucibus nisl tincidunt eget nullam non nisi. urna condimentum mattis pellentesque id nibh. tellus in hac habitasse platea dictumst vestibulum. eget est lorem ipsum dolor. enim eu turpis egestas pretium aenean pharetra magna ac placerat. ac turpis egestas integer eget aliquet ni',\n",
       " '##bh. vivamus arcu felis bibendum ut tristique et egestas. nisi lacus sed viverra tellus in hac habitasse platea dictumst. odio ut enim blandit volutpat maecenas volutpat. turpis egestas sed tempus urna et pharetra pharetra massa. dui nunc mattis enim ut tellus elementum sagittis vitae et. nunc sed velit dignissim sodales ut eu. aliquam ut porttitor leo a diam sollicitudin tempor id. at quis risus sed vulputate odio ut enim blandit volutpat. gravida quis blandit turpis cursus in hac habitasse platea dictumst. sit amet nulla facilisi morbi tempus iaculis urna. diam maecenas sed enim ut sem viverra aliquet eget. turpis egestas pretium aenean pharetra. at varius vel pharetra vel turpis nun',\n",
       " '##c eget lorem. integer quis auctor elit sed. eget nunc lobortis mattis aliquam. et magnis dis parturient montes nascetur ridiculus mus mauris vitae. sollicitudin nibh sit amet commodo. integer quis auctor elit sed vulputate mi sit amet mauris. est placerat in egestas erat imperdiet. ornare quam viverra orci sagittis eu volutpat odio facilisis mauris. semper quis lectus nulla at volutpat diam. amet volutpat consequat mauris nunc congue nisi. ipsum nunc aliquet bibendum enim facilisis gravida neque convallis a. et pharetra pharetra massa massa ultricies. nunc eget lorem dolor sed viverra ipsum nunc aliquet bibendum.']"
      ]
     },
     "execution_count": 15,
     "metadata": {},
     "output_type": "execute_result"
    }
   ],
   "source": [
    "lorem_ipsum_tokens"
   ]
  },
  {
   "cell_type": "code",
   "execution_count": 16,
   "metadata": {},
   "outputs": [
    {
     "data": {
      "text/plain": [
       "'Max Token Length: 110 tokens'"
      ]
     },
     "execution_count": 16,
     "metadata": {},
     "output_type": "execute_result"
    }
   ],
   "source": [
    "# max token length\n",
    "max_token_length(lorem_ipsum_tokens)"
   ]
  },
  {
   "cell_type": "code",
   "execution_count": 17,
   "metadata": {},
   "outputs": [
    {
     "name": "stdout",
     "output_type": "stream",
     "text": [
      "The Project Gutenberg eBook of The King James Version of the Bible\n",
      "    \n",
      "This ebook is for the use of anyone anywhere in the United States and\n",
      "most other parts of the world at no cost and with almost no restrictions\n",
      "whatsoever. You may copy it, give it away or re-use it under the terms\n",
      "of the Project Gutenberg License included with this ebook or on\n"
     ]
    }
   ],
   "source": [
    "text_path = \"data/bible.txt\"\n",
    "with open(text_path, \"r\", encoding=\"utf-8\") as f:\n",
    "    text_raw = f.read()\n",
    "print(text_raw[:350])"
   ]
  },
  {
   "cell_type": "code",
   "execution_count": 35,
   "metadata": {},
   "outputs": [],
   "source": [
    "# Character splitter\n",
    "character_splitter = RecursiveCharacterTextSplitter(\n",
    "    chunk_size=1000,\n",
    "    chunk_overlap=0,\n",
    ")\n",
    "text_splitted = character_splitter.split_text(text_raw)"
   ]
  },
  {
   "cell_type": "code",
   "execution_count": 37,
   "metadata": {},
   "outputs": [
    {
     "data": {
      "text/plain": [
       "['\\ufeffThe Project Gutenberg eBook of The King James Version of the Bible\\n    \\nThis ebook is for the use of anyone anywhere in the United States and\\nmost other parts of the world at no cost and with almost no restrictions\\nwhatsoever. You may copy it, give it away or re-use it under the terms\\nof the Project Gutenberg License included with this ebook or online\\nat www.gutenberg.org. If you are not located in the United States,\\nyou will have to check the laws of the country where you are located\\nbefore using this eBook.\\n\\nTitle: The King James Version of the Bible\\n\\n\\nRelease date: August 1, 1989 [eBook #10]\\n                Most recently updated: February 1, 2024\\n\\nLanguage: English',\n",
       " '*** START OF THE PROJECT GUTENBERG EBOOK THE KING JAMES VERSION OF THE BIBLE ***\\nThe Old Testament of the King James Version of the Bible\\nThe First Book of Moses: Called Genesis\\nThe Second Book of Moses: Called Exodus\\nThe Third Book of Moses: Called Leviticus\\nThe Fourth Book of Moses: Called Numbers\\nThe Fifth Book of Moses: Called Deuteronomy\\nThe Book of Joshua\\nThe Book of Judges\\nThe Book of Ruth\\nThe First Book of Samuel\\nThe Second Book of Samuel\\nThe First Book of the Kings\\nThe Second Book of the Kings\\nThe First Book of the Chronicles\\nThe Second Book of the Chronicles\\nEzra\\nThe Book of Nehemiah\\nThe Book of Esther\\nThe Book of Job\\nThe Book of Psalms\\nThe Proverbs\\nEcclesiastes\\nThe Song of Solomon\\nThe Book of the Prophet Isaiah\\nThe Book of the Prophet Jeremiah\\nThe Lamentations of Jeremiah\\nThe Book of the Prophet Ezekiel\\nThe Book of Daniel\\nHosea\\nJoel\\nAmos\\nObadiah\\nJonah\\nMicah\\nNahum\\nHabakkuk\\nZephaniah\\nHaggai\\nZechariah\\nMalachi',\n",
       " 'The New Testament of the King James Bible\\nThe Gospel According to Saint Matthew\\nThe Gospel According to Saint Mark\\nThe Gospel According to Saint Luke\\nThe Gospel According to Saint John\\nThe Acts of the Apostles\\nThe Epistle of Paul the Apostle to the Romans\\nThe First Epistle of Paul the Apostle to the Corinthians\\nThe Second Epistle of Paul the Apostle to the Corinthians\\nThe Epistle of Paul the Apostle to the Galatians\\nThe Epistle of Paul the Apostle to the Ephesians\\nThe Epistle of Paul the Apostle to the Philippians\\nThe Epistle of Paul the Apostle to the Colossians\\nThe First Epistle of Paul the Apostle to the Thessalonians\\nThe Second Epistle of Paul the Apostle to the Thessalonians\\nThe First Epistle of Paul the Apostle to Timothy\\nThe Second Epistle of Paul the Apostle to Timothy\\nThe Epistle of Paul the Apostle to Titus\\nThe Epistle of Paul the Apostle to Philemon\\nThe Epistle of Paul the Apostle to the Hebrews\\nThe General Epistle of James\\nThe First Epistle General of Peter',\n",
       " 'The Second General Epistle of Peter\\nThe First Epistle General of John\\nThe Second Epistle General of John\\nThe Third Epistle General of John\\nThe General Epistle of Jude\\nThe Revelation of Saint John the Divine',\n",
       " 'The Old Testament of the King James Version of the Bible\\n\\n\\n\\n\\nThe First Book of Moses: Called Genesis\\n\\n\\n1:1 In the beginning God created the heaven and the earth.\\n\\n1:2 And the earth was without form, and void; and darkness was upon\\nthe face of the deep. And the Spirit of God moved upon the face of the\\nwaters.\\n\\n1:3 And God said, Let there be light: and there was light.\\n\\n1:4 And God saw the light, that it was good: and God divided the light\\nfrom the darkness.\\n\\n1:5 And God called the light Day, and the darkness he called Night.\\nAnd the evening and the morning were the first day.\\n\\n1:6 And God said, Let there be a firmament in the midst of the waters,\\nand let it divide the waters from the waters.\\n\\n1:7 And God made the firmament, and divided the waters which were\\nunder the firmament from the waters which were above the firmament:\\nand it was so.\\n\\n1:8 And God called the firmament Heaven. And the evening and the\\nmorning were the second day.']"
      ]
     },
     "execution_count": 37,
     "metadata": {},
     "output_type": "execute_result"
    }
   ],
   "source": [
    "text_splitted[:5]"
   ]
  },
  {
   "cell_type": "code",
   "execution_count": 36,
   "metadata": {},
   "outputs": [
    {
     "name": "stdout",
     "output_type": "stream",
     "text": [
      "Total number of splitted chunks: 4985\n"
     ]
    },
    {
     "data": {
      "text/plain": [
       "'Max Token Length: 219 tokens'"
      ]
     },
     "execution_count": 36,
     "metadata": {},
     "output_type": "execute_result"
    }
   ],
   "source": [
    "print(f\"Total number of splitted chunks: {len(text_splitted)}\")\n",
    "max_token_length(text_splitted)"
   ]
  },
  {
   "cell_type": "code",
   "execution_count": 41,
   "metadata": {},
   "outputs": [
    {
     "name": "stdout",
     "output_type": "stream",
     "text": [
      "Total number of tokens: 5362\n"
     ]
    }
   ],
   "source": [
    "text_tokens = []\n",
    "for text in text_splitted:\n",
    "    temp = token_splitter.split_text(text)\n",
    "    text_tokens.extend(temp)\n",
    "print(f\"Total number of tokens: {len(text_tokens)}\")"
   ]
  },
  {
   "cell_type": "code",
   "execution_count": 43,
   "metadata": {},
   "outputs": [
    {
     "data": {
      "text/plain": [
       "['the project gutenberg ebook of the king james version of the bible this ebook is for the use of anyone anywhere in the united states and most other parts of the world at no cost and with almost no restrictions whatsoever. you may copy it, give it away or re - use it under the terms of the project gutenberg license included with this ebook or online at www. gutenberg. org. if you are not located in the united states, you will have to check the laws of the country where you are located before using this ebook. title : the king james version of the bible release date : august 1, 1989 [ ebook # 10 ] most recently updated : february 1, 2024 language : english',\n",
       " '* * * start of the project gutenberg ebook the king james version of the bible * * * the old testament of the king james version of the bible the first book of moses : called genesis the second book of moses : called exodus the third book of moses : called leviticus the fourth book of moses : called numbers the fifth book of moses : called deuteronomy the book of joshua the book of judges the book of ruth the first book of samuel the second book of samuel the first book of the kings the second book of the kings the first book of the chronicles the second book of the chronicles ezra the book of nehemiah the book of esther the book of job the book of psalms the proverbs ecclesiastes the song of solomon the book of the prophet isaiah the book of the prophet jeremiah the lamentations of jeremiah the book of the prophet ezekiel the book of daniel hosea joel amos obadiah jonah micah nahum habakkuk zephaniah haggai zechariah malachi',\n",
       " 'the new testament of the king james bible the gospel according to saint matthew the gospel according to saint mark the gospel according to saint luke the gospel according to saint john the acts of the apostles the epistle of paul the apostle to the romans the first epistle of paul the apostle to the corinthians the second epistle of paul the apostle to the corinthians the epistle of paul the apostle to the galatians the epistle of paul the apostle to the ephesians the epistle of paul the apostle to the philippians the epistle of paul the apostle to the colossians the first epistle of paul the apostle to the thessalonians the second epistle of paul the apostle to the thessalonians the first epistle of paul the apostle to timothy the second epistle of paul the apostle to timothy the epistle of paul the apostle to titus the epistle of paul the apostle to philemon the epistle of paul the apostle to the hebrews the general epistle of james the first epistle general of peter',\n",
       " 'the second general epistle of peter the first epistle general of john the second epistle general of john the third epistle general of john the general epistle of jude the revelation of saint john the divine',\n",
       " 'the old testament of the king james version of the bible the first book of moses : called genesis 1 : 1 in the beginning god created the heaven and the earth. 1 : 2 and the earth was without form, and void ; and darkness was upon the face of the deep. and the spirit of god moved upon the face of the waters. 1 : 3 and god said, let there be light : and there was light. 1 : 4 and god saw the light, that it was good : and god divided the light from the darkness. 1 : 5 and god called the light day, and the darkness he called night. and the evening and the morning were the first day. 1 : 6 and god said, let there be a firmament in the midst of the waters, and let it divide the waters from the waters. 1 : 7 and god made the firmament, and divided the waters which were under the firmament from the waters which were above the firmament : and it was so. 1 : 8 and god called the firmament heaven. and the evening and the morning were the second day.']"
      ]
     },
     "execution_count": 43,
     "metadata": {},
     "output_type": "execute_result"
    }
   ],
   "source": [
    "text_tokens[:5]"
   ]
  },
  {
   "cell_type": "code",
   "execution_count": 46,
   "metadata": {},
   "outputs": [
    {
     "data": {
      "text/plain": [
       "'Max Token Length: 216 tokens'"
      ]
     },
     "execution_count": 46,
     "metadata": {},
     "output_type": "execute_result"
    }
   ],
   "source": [
    "# Check the token length\n",
    "# reference: model card \"By default, input text longer than 256 word pieces is truncated.\"\n",
    "max_token_length(text_tokens)"
   ]
  },
  {
   "cell_type": "code",
   "execution_count": 47,
   "metadata": {},
   "outputs": [
    {
     "data": {
      "text/plain": [
       "384"
      ]
     },
     "execution_count": 47,
     "metadata": {},
     "output_type": "execute_result"
    }
   ],
   "source": [
    "embedding_fn = SentenceTransformerEmbeddingFunction()"
   ]
  },
  {
   "cell_type": "code",
   "execution_count": 55,
   "metadata": {},
   "outputs": [
    {
     "data": {
      "text/plain": [
       "384"
      ]
     },
     "execution_count": 55,
     "metadata": {},
     "output_type": "execute_result"
    }
   ],
   "source": [
    "# Size of embedding vector\n",
    "vector = embedding_fn([lorem_ipsum_tokens])\n",
    "len(vector[0])"
   ]
  },
  {
   "cell_type": "code",
   "execution_count": 56,
   "metadata": {},
   "outputs": [],
   "source": [
    "chroma_db = chromadb.Client()\n",
    "chroma_collection = chroma_db.create_collection(\n",
    "    \"bible\", embedding_function=embedding_fn\n",
    ")"
   ]
  },
  {
   "cell_type": "code",
   "execution_count": 57,
   "metadata": {},
   "outputs": [],
   "source": [
    "# add all tokens to collection\n",
    "ids = [str(uuid4()) for _ in range(len(text_tokens))]\n",
    "chroma_collection.add(chroma_collection=text_tokens, ids=ids)"
   ]
  },
  {
   "cell_type": "code",
   "execution_count": 60,
   "metadata": {},
   "outputs": [],
   "source": [
    "# Save the chroma collection\n",
    "# Run a Query\n",
    "res = chroma_collection.query(query_texts=[\"what did noah do?\"], n_results=10)"
   ]
  },
  {
   "cell_type": "code",
   "execution_count": 65,
   "metadata": {},
   "outputs": [
    {
     "data": {
      "text/plain": [
       "[['7 : 11 in the six hundredth year of noah ’ s life, in the second month, the seventeenth day of the month, the same day were all the fountains of the great deep broken up, and the windows of heaven were opened. 7 : 12 and the rain was upon the earth forty days and forty nights. 7 : 13 in the selfsame day entered noah, and shem, and ham, and japheth, the sons of noah, and noah ’ s wife, and the three wives of his sons with them, into the ark ; 7 : 14 they, and every beast after his kind, and all the cattle after their kind, and every creeping thing that creepeth upon the earth after his kind, and every fowl after his kind, every bird of every sort. 7 : 15 and they went in unto noah into the ark, two and two of all flesh, wherein is the breath of life. 7 : 16 and they that went in, went in male and female of all flesh, as god had commanded him : and the lord shut him in.',\n",
       "  '7 : 24 and the waters prevailed upon the earth an hundred and fifty days. 8 : 1 and god remembered noah, and every living thing, and all the cattle that was with him in the ark : and god made a wind to pass over the earth, and the waters asswaged ; 8 : 2 the fountains also of the deep and the windows of heaven were stopped, and the rain from heaven was restrained ; 8 : 3 and the waters returned from off the earth continually : and after the end of the hundred and fifty days the waters were abated. 8 : 4 and the ark rested in the seventh month, on the seventeenth day of the month, upon the mountains of ararat. 8 : 5 and the waters decreased continually until the tenth month : in the tenth month, on the first day of the month, were the tops of the mountains seen. 8 : 6 and it came to pass at the end of forty days, that noah opened the window of the ark which he had made : 8 : 7 and he sent forth a raven, which went forth to and fro, until the waters were dried up from off the earth.',\n",
       "  '8 : 14 and in the second month, on the seven and twentieth day of the month, was the earth dried. 8 : 15 and god spake unto noah, saying, 8 : 16 go forth of the ark, thou, and thy wife, and thy sons, and thy sons ’ wives with thee. 8 : 17 bring forth with thee every living thing that is with thee, of all flesh, both of fowl, and of cattle, and of every creeping thing that creepeth upon the earth ; that they may breed abundantly in the earth, and be fruitful, and multiply upon the earth. 8 : 18 and noah went forth, and his sons, and his wife, and his sons ’ wives with him : 8 : 19 every beast, every creeping thing, and every fowl, and whatsoever creepeth upon the earth, after their kinds, went forth out of the ark. 8 : 20 and noah builded an altar unto the lord ; and took of every clean beast, and of every clean fowl, and offered burnt offerings on the altar.',\n",
       "  '9 : 19 these are the three sons of noah : and of them was the whole earth overspread. 9 : 20 and noah began to be an husbandman, and he planted a vineyard : 9 : 21 and he drank of the wine, and was drunken ; and he was uncovered within his tent. 9 : 22 and ham, the father of canaan, saw the nakedness of his father, and told his two brethren without. 9 : 23 and shem and japheth took a garment, and laid it upon both their shoulders, and went backward, and covered the nakedness of their father ; and their faces were backward, and they saw not their father ’ s nakedness. 9 : 24 and noah awoke from his wine, and knew what his younger son had done unto him. 9 : 25 and he said, cursed be canaan ; a servant of servants shall he be unto his brethren. 9 : 26 and he said, blessed be the lord god of shem ; and canaan shall be his servant. 9 : 27 god shall enlarge japheth, and he shall dwell in the tents of shem ; and canaan shall be his servant. 9 : 28 and noah lived after the flood three hundred and fifty years.',\n",
       "  '7 : 3 of fowls also of the air by sevens, the male and the female ; to keep seed alive upon the face of all the earth. 7 : 4 for yet seven days, and i will cause it to rain upon the earth forty days and forty nights ; and every living substance that i have made will i destroy from off the face of the earth. 7 : 5 and noah did according unto all that the lord commanded him. 7 : 6 and noah was six hundred years old when the flood of waters was upon the earth. 7 : 7 and noah went in, and his sons, and his wife, and his sons ’ wives with him, into the ark, because of the waters of the flood. 7 : 8 of clean beasts, and of beasts that are not clean, and of fowls, and of every thing that creepeth upon the earth, 7 : 9 there went in two and two unto noah into the ark, the male and the female, as god had commanded noah. 7 : 10 and it came to pass after seven days, that the waters of the flood were upon the earth.',\n",
       "  '8 : 8 also he sent forth a dove from him, to see if the waters were abated from off the face of the ground ; 8 : 9 but the dove found no rest for the sole of her foot, and she returned unto him into the ark, for the waters were on the face of the whole earth : then he put forth his hand, and took her, and pulled her in unto him into the ark. 8 : 10 and he stayed yet other seven days ; and again he sent forth the dove out of the ark ; 8 : 11 and the dove came in to him in the evening ; and, lo, in her mouth was an olive leaf pluckt off : so noah knew that the waters were abated from off the earth. 8 : 12 and he stayed yet other seven days ; and sent forth the dove ; which returned not again unto him any more. 8 : 13 and it came to pass in the six hundredth and first year, in the first month, the first day of the month, the waters were dried up from off the earth : and noah removed the covering of the ark, and looked, and, behold, the face of the ground was dry.',\n",
       "  '7 : 17 and the flood was forty days upon the earth ; and the waters increased, and bare up the ark, and it was lift up above the earth. 7 : 18 and the waters prevailed, and were increased greatly upon the earth ; and the ark went upon the face of the waters. 7 : 19 and the waters prevailed exceedingly upon the earth ; and all the high hills, that were under the whole heaven, were covered. 7 : 20 fifteen cubits upward did the waters prevail ; and the mountains were covered. 7 : 21 and all flesh died that moved upon the earth, both of fowl, and of cattle, and of beast, and of every creeping thing that creepeth upon the earth, and every man : 7 : 22 all in whose nostrils was the breath of life, of all that was in the dry land, died. 7 : 23 and every living substance was destroyed which was upon the face of the ground, both man, and cattle, and the creeping things, and the fowl of the heaven ; and they were destroyed from the earth : and noah only remained alive, and they that were with him in the ark.',\n",
       "  '6 : 4 there were giants in the earth in those days ; and also after that, when the sons of god came in unto the daughters of men, and they bare children to them, the same became mighty men which were of old, men of renown. 6 : 5 and god saw that the wickedness of man was great in the earth, and that every imagination of the thoughts of his heart was only evil continually. 6 : 6 and it repented the lord that he had made man on the earth, and it grieved him at his heart. 6 : 7 and the lord said, i will destroy man whom i have created from the face of the earth ; both man, and beast, and the creeping thing, and the fowls of the air ; for it repenteth me that i have made them. 6 : 8 but noah found grace in the eyes of the lord. 6 : 9 these are the generations of noah : noah was a just man and perfect in his generations, and noah walked with god. 6 : 10 and noah begat three sons, shem, ham, and japheth. 6 : 11 the earth also was corrupt before god, and the earth was filled with violence.',\n",
       "  '5 : 28 and lamech lived an hundred eighty and two years, and begat a son : 5 : 29 and he called his name noah, saying, this same shall comfort us concerning our work and toil of our hands, because of the ground which the lord hath cursed. 5 : 30 and lamech lived after he begat noah five hundred ninety and five years, and begat sons and daughters : 5 : 31 and all the days of lamech were seven hundred seventy and seven years : and he died. 5 : 32 and noah was five hundred years old : and noah begat shem, ham, and japheth. 6 : 1 and it came to pass, when men began to multiply on the face of the earth, and daughters were born unto them, 6 : 2 that the sons of god saw the daughters of men that they were fair ; and they took them wives of all which they chose. 6 : 3 and the lord said, my spirit shall not always strive with man, for that he also is flesh : yet his days shall be an hundred and twenty years.',\n",
       "  '6 : 18 but with thee will i establish my covenant ; and thou shalt come into the ark, thou, and thy sons, and thy wife, and thy sons ’ wives with thee. 6 : 19 and of every living thing of all flesh, two of every sort shalt thou bring into the ark, to keep them alive with thee ; they shall be male and female. 6 : 20 of fowls after their kind, and of cattle after their kind, of every creeping thing of the earth after his kind, two of every sort shall come unto thee, to keep them alive. 6 : 21 and take thou unto thee of all food that is eaten, and thou shalt gather it to thee ; and it shall be for food for thee, and for them. 6 : 22 thus did noah ; according to all that god commanded him, so did he. 7 : 1 and the lord said unto noah, come thou and all thy house into the ark ; for thee have i seen righteous before me in this generation. 7 : 2 of every clean beast thou shalt take to thee by sevens, the male and his female : and of beasts that are not clean by two, the male and his female.']]"
      ]
     },
     "execution_count": 65,
     "metadata": {},
     "output_type": "execute_result"
    }
   ],
   "source": [
    "res[\"documents\"]"
   ]
  },
  {
   "cell_type": "code",
   "execution_count": null,
   "metadata": {},
   "outputs": [],
   "source": []
  }
 ],
 "metadata": {
  "kernelspec": {
   "display_name": "env",
   "language": "python",
   "name": "python3"
  },
  "language_info": {
   "codemirror_mode": {
    "name": "ipython",
    "version": 3
   },
   "file_extension": ".py",
   "mimetype": "text/x-python",
   "name": "python",
   "nbconvert_exporter": "python",
   "pygments_lexer": "ipython3",
   "version": "3.10.9"
  }
 },
 "nbformat": 4,
 "nbformat_minor": 2
}
