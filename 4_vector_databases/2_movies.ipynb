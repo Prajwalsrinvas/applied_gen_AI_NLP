{
 "cells": [
  {
   "cell_type": "code",
   "execution_count": 1,
   "metadata": {},
   "outputs": [],
   "source": [
    "import re\n",
    "from pprint import pprint\n",
    "\n",
    "import chromadb\n",
    "import pandas as pd\n",
    "import seaborn as sns\n",
    "from chromadb.utils.embedding_functions import SentenceTransformerEmbeddingFunction\n",
    "from langchain.text_splitter import SentenceTransformersTokenTextSplitter"
   ]
  },
  {
   "cell_type": "code",
   "execution_count": 2,
   "metadata": {},
   "outputs": [],
   "source": [
    "# max_length\n",
    "def max_word_count(txt_list: list):\n",
    "    max_length = 0\n",
    "    for txt in txt_list:\n",
    "        word_count = len(re.findall(r\"\\w+\", txt))\n",
    "        if word_count > max_length:\n",
    "            max_length = word_count\n",
    "    return f\"Max Word Count: {max_length} words\""
   ]
  },
  {
   "cell_type": "code",
   "execution_count": 3,
   "metadata": {},
   "outputs": [
    {
     "name": "stderr",
     "output_type": "stream",
     "text": [
      "/home/prajwal/NLP and GenAI/env/lib/python3.10/site-packages/tqdm/auto.py:21: TqdmWarning: IProgress not found. Please update jupyter and ipywidgets. See https://ipywidgets.readthedocs.io/en/stable/user_install.html\n",
      "  from .autonotebook import tqdm as notebook_tqdm\n",
      "/home/prajwal/NLP and GenAI/env/lib/python3.10/site-packages/transformers/utils/generic.py:441: UserWarning: torch.utils._pytree._register_pytree_node is deprecated. Please use torch.utils._pytree.register_pytree_node instead.\n",
      "  _torch_pytree._register_pytree_node(\n",
      "/home/prajwal/NLP and GenAI/env/lib/python3.10/site-packages/transformers/utils/generic.py:309: UserWarning: torch.utils._pytree._register_pytree_node is deprecated. Please use torch.utils._pytree.register_pytree_node instead.\n",
      "  _torch_pytree._register_pytree_node(\n"
     ]
    }
   ],
   "source": [
    "# Sentence splitter\n",
    "# chroma default sentence model \"all-MiniLM-L6-v2\"\n",
    "# https://huggingface.co/sentence-transformers/all-MiniLM-L6-v2\n",
    "# max input length: 256 characters\n",
    "model_max_chunk_length = 256\n",
    "token_splitter = SentenceTransformersTokenTextSplitter(\n",
    "    tokens_per_chunk=model_max_chunk_length,\n",
    "    model_name=\"all-MiniLM-L6-v2\",\n",
    "    chunk_overlap=0,\n",
    ")"
   ]
  },
  {
   "cell_type": "code",
   "execution_count": 4,
   "metadata": {},
   "outputs": [
    {
     "data": {
      "text/html": [
       "<div>\n",
       "<style scoped>\n",
       "    .dataframe tbody tr th:only-of-type {\n",
       "        vertical-align: middle;\n",
       "    }\n",
       "\n",
       "    .dataframe tbody tr th {\n",
       "        vertical-align: top;\n",
       "    }\n",
       "\n",
       "    .dataframe thead th {\n",
       "        text-align: right;\n",
       "    }\n",
       "</style>\n",
       "<table border=\"1\" class=\"dataframe\">\n",
       "  <thead>\n",
       "    <tr style=\"text-align: right;\">\n",
       "      <th></th>\n",
       "      <th>id</th>\n",
       "      <th>title</th>\n",
       "      <th>genres</th>\n",
       "      <th>original_language</th>\n",
       "      <th>overview</th>\n",
       "      <th>popularity</th>\n",
       "      <th>production_companies</th>\n",
       "      <th>release_date</th>\n",
       "      <th>budget</th>\n",
       "      <th>revenue</th>\n",
       "      <th>runtime</th>\n",
       "      <th>status</th>\n",
       "      <th>tagline</th>\n",
       "      <th>vote_average</th>\n",
       "      <th>vote_count</th>\n",
       "      <th>credits</th>\n",
       "      <th>keywords</th>\n",
       "      <th>poster_path</th>\n",
       "      <th>backdrop_path</th>\n",
       "      <th>recommendations</th>\n",
       "    </tr>\n",
       "  </thead>\n",
       "  <tbody>\n",
       "    <tr>\n",
       "      <th>0</th>\n",
       "      <td>615656</td>\n",
       "      <td>Meg 2: The Trench</td>\n",
       "      <td>Action-Science Fiction-Horror</td>\n",
       "      <td>en</td>\n",
       "      <td>An exploratory dive into the deepest depths of...</td>\n",
       "      <td>8763.998</td>\n",
       "      <td>Apelles Entertainment-Warner Bros. Pictures-di...</td>\n",
       "      <td>2023-08-02</td>\n",
       "      <td>129000000.0</td>\n",
       "      <td>352056482.0</td>\n",
       "      <td>116.0</td>\n",
       "      <td>Released</td>\n",
       "      <td>Back for seconds.</td>\n",
       "      <td>7.079</td>\n",
       "      <td>1365.0</td>\n",
       "      <td>Jason Statham-Wu Jing-Shuya Sophia Cai-Sergio ...</td>\n",
       "      <td>based on novel or book-sequel-kaiju</td>\n",
       "      <td>/4m1Au3YkjqsxF8iwQy0fPYSxE0h.jpg</td>\n",
       "      <td>/qlxy8yo5bcgUw2KAmmojUKp4rHd.jpg</td>\n",
       "      <td>1006462-298618-569094-1061181-346698-1076487-6...</td>\n",
       "    </tr>\n",
       "    <tr>\n",
       "      <th>1</th>\n",
       "      <td>758323</td>\n",
       "      <td>The Pope's Exorcist</td>\n",
       "      <td>Horror-Mystery-Thriller</td>\n",
       "      <td>en</td>\n",
       "      <td>Father Gabriele Amorth Chief Exorcist of the V...</td>\n",
       "      <td>5953.227</td>\n",
       "      <td>Screen Gems-2.0 Entertainment-Jesus &amp; Mary-Wor...</td>\n",
       "      <td>2023-04-05</td>\n",
       "      <td>18000000.0</td>\n",
       "      <td>65675816.0</td>\n",
       "      <td>103.0</td>\n",
       "      <td>Released</td>\n",
       "      <td>Inspired by the actual files of Father Gabriel...</td>\n",
       "      <td>7.433</td>\n",
       "      <td>545.0</td>\n",
       "      <td>Russell Crowe-Daniel Zovatto-Alex Essoe-Franco...</td>\n",
       "      <td>spain-rome italy-vatican-pope-pig-possession-c...</td>\n",
       "      <td>/9JBEPLTPSm0d1mbEcLxULjJq9Eh.jpg</td>\n",
       "      <td>/hiHGRbyTcbZoLsYYkO4QiCLYe34.jpg</td>\n",
       "      <td>713704-296271-502356-1076605-1084225-1008005-9...</td>\n",
       "    </tr>\n",
       "  </tbody>\n",
       "</table>\n",
       "</div>"
      ],
      "text/plain": [
       "       id                title                         genres  \\\n",
       "0  615656    Meg 2: The Trench  Action-Science Fiction-Horror   \n",
       "1  758323  The Pope's Exorcist        Horror-Mystery-Thriller   \n",
       "\n",
       "  original_language                                           overview  \\\n",
       "0                en  An exploratory dive into the deepest depths of...   \n",
       "1                en  Father Gabriele Amorth Chief Exorcist of the V...   \n",
       "\n",
       "   popularity                               production_companies release_date  \\\n",
       "0    8763.998  Apelles Entertainment-Warner Bros. Pictures-di...   2023-08-02   \n",
       "1    5953.227  Screen Gems-2.0 Entertainment-Jesus & Mary-Wor...   2023-04-05   \n",
       "\n",
       "        budget      revenue  runtime    status  \\\n",
       "0  129000000.0  352056482.0    116.0  Released   \n",
       "1   18000000.0   65675816.0    103.0  Released   \n",
       "\n",
       "                                             tagline  vote_average  \\\n",
       "0                                  Back for seconds.         7.079   \n",
       "1  Inspired by the actual files of Father Gabriel...         7.433   \n",
       "\n",
       "   vote_count                                            credits  \\\n",
       "0      1365.0  Jason Statham-Wu Jing-Shuya Sophia Cai-Sergio ...   \n",
       "1       545.0  Russell Crowe-Daniel Zovatto-Alex Essoe-Franco...   \n",
       "\n",
       "                                            keywords  \\\n",
       "0                based on novel or book-sequel-kaiju   \n",
       "1  spain-rome italy-vatican-pope-pig-possession-c...   \n",
       "\n",
       "                        poster_path                     backdrop_path  \\\n",
       "0  /4m1Au3YkjqsxF8iwQy0fPYSxE0h.jpg  /qlxy8yo5bcgUw2KAmmojUKp4rHd.jpg   \n",
       "1  /9JBEPLTPSm0d1mbEcLxULjJq9Eh.jpg  /hiHGRbyTcbZoLsYYkO4QiCLYe34.jpg   \n",
       "\n",
       "                                     recommendations  \n",
       "0  1006462-298618-569094-1061181-346698-1076487-6...  \n",
       "1  713704-296271-502356-1076605-1084225-1008005-9...  "
      ]
     },
     "execution_count": 4,
     "metadata": {},
     "output_type": "execute_result"
    }
   ],
   "source": [
    "# Data Import\n",
    "text_path = \"data/movies.csv\"\n",
    "df_movies_raw = pd.read_csv(text_path, parse_dates=[\"release_date\"])\n",
    "\n",
    "df_movies_raw.head(2)"
   ]
  },
  {
   "cell_type": "code",
   "execution_count": 5,
   "metadata": {},
   "outputs": [
    {
     "data": {
      "text/plain": [
       "38998"
      ]
     },
     "execution_count": 5,
     "metadata": {},
     "output_type": "execute_result"
    }
   ],
   "source": [
    "len(df_movies_raw)"
   ]
  },
  {
   "cell_type": "code",
   "execution_count": 6,
   "metadata": {},
   "outputs": [],
   "source": [
    "# filter movies for missing title or overwiew\n",
    "selected_cols = [\"id\", \"title\", \"overview\", \"vote_average\", \"release_date\"]\n",
    "df_movies_filt = df_movies_raw[selected_cols].dropna()"
   ]
  },
  {
   "cell_type": "code",
   "execution_count": 7,
   "metadata": {},
   "outputs": [
    {
     "data": {
      "text/plain": [
       "38272"
      ]
     },
     "execution_count": 7,
     "metadata": {},
     "output_type": "execute_result"
    }
   ],
   "source": [
    "len(df_movies_filt)"
   ]
  },
  {
   "cell_type": "code",
   "execution_count": 8,
   "metadata": {},
   "outputs": [],
   "source": [
    "# filter for unique ids\n",
    "df_movies_filt = df_movies_filt.drop_duplicates(subset=[\"id\"])"
   ]
  },
  {
   "cell_type": "code",
   "execution_count": 9,
   "metadata": {},
   "outputs": [
    {
     "data": {
      "text/plain": [
       "36899"
      ]
     },
     "execution_count": 9,
     "metadata": {},
     "output_type": "execute_result"
    }
   ],
   "source": [
    "len(df_movies_filt)"
   ]
  },
  {
   "cell_type": "code",
   "execution_count": 10,
   "metadata": {},
   "outputs": [
    {
     "data": {
      "text/plain": [
       "(14501, 5)"
      ]
     },
     "execution_count": 10,
     "metadata": {},
     "output_type": "execute_result"
    }
   ],
   "source": [
    "# filter for movies after 01.01.2015\n",
    "df_movies_filt = df_movies_filt[df_movies_filt[\"release_date\"] > \"2015-01-01\"]\n",
    "df_movies_filt.shape"
   ]
  },
  {
   "cell_type": "code",
   "execution_count": 11,
   "metadata": {},
   "outputs": [
    {
     "data": {
      "text/html": [
       "<div>\n",
       "<style scoped>\n",
       "    .dataframe tbody tr th:only-of-type {\n",
       "        vertical-align: middle;\n",
       "    }\n",
       "\n",
       "    .dataframe tbody tr th {\n",
       "        vertical-align: top;\n",
       "    }\n",
       "\n",
       "    .dataframe thead th {\n",
       "        text-align: right;\n",
       "    }\n",
       "</style>\n",
       "<table border=\"1\" class=\"dataframe\">\n",
       "  <thead>\n",
       "    <tr style=\"text-align: right;\">\n",
       "      <th></th>\n",
       "      <th>id</th>\n",
       "      <th>title</th>\n",
       "      <th>overview</th>\n",
       "      <th>vote_average</th>\n",
       "      <th>release_date</th>\n",
       "    </tr>\n",
       "  </thead>\n",
       "  <tbody>\n",
       "    <tr>\n",
       "      <th>0</th>\n",
       "      <td>615656</td>\n",
       "      <td>Meg 2: The Trench</td>\n",
       "      <td>An exploratory dive into the deepest depths of...</td>\n",
       "      <td>7.079</td>\n",
       "      <td>2023-08-02</td>\n",
       "    </tr>\n",
       "    <tr>\n",
       "      <th>1</th>\n",
       "      <td>758323</td>\n",
       "      <td>The Pope's Exorcist</td>\n",
       "      <td>Father Gabriele Amorth Chief Exorcist of the V...</td>\n",
       "      <td>7.433</td>\n",
       "      <td>2023-04-05</td>\n",
       "    </tr>\n",
       "    <tr>\n",
       "      <th>2</th>\n",
       "      <td>667538</td>\n",
       "      <td>Transformers: Rise of the Beasts</td>\n",
       "      <td>When a new threat capable of destroying the en...</td>\n",
       "      <td>7.340</td>\n",
       "      <td>2023-06-06</td>\n",
       "    </tr>\n",
       "    <tr>\n",
       "      <th>3</th>\n",
       "      <td>640146</td>\n",
       "      <td>Ant-Man and the Wasp: Quantumania</td>\n",
       "      <td>Super-Hero partners Scott Lang and Hope van Dy...</td>\n",
       "      <td>6.507</td>\n",
       "      <td>2023-02-15</td>\n",
       "    </tr>\n",
       "    <tr>\n",
       "      <th>4</th>\n",
       "      <td>677179</td>\n",
       "      <td>Creed III</td>\n",
       "      <td>After dominating the boxing world Adonis Creed...</td>\n",
       "      <td>7.262</td>\n",
       "      <td>2023-03-01</td>\n",
       "    </tr>\n",
       "    <tr>\n",
       "      <th>5</th>\n",
       "      <td>385687</td>\n",
       "      <td>Fast X</td>\n",
       "      <td>Over many missions and against impossible odds...</td>\n",
       "      <td>7.275</td>\n",
       "      <td>2023-05-17</td>\n",
       "    </tr>\n",
       "    <tr>\n",
       "      <th>6</th>\n",
       "      <td>614479</td>\n",
       "      <td>Insidious: The Red Door</td>\n",
       "      <td>To put their demons to rest once and for all J...</td>\n",
       "      <td>6.750</td>\n",
       "      <td>2023-07-05</td>\n",
       "    </tr>\n",
       "    <tr>\n",
       "      <th>7</th>\n",
       "      <td>646389</td>\n",
       "      <td>Plane</td>\n",
       "      <td>After a heroic job of successfully landing his...</td>\n",
       "      <td>6.901</td>\n",
       "      <td>2023-01-12</td>\n",
       "    </tr>\n",
       "    <tr>\n",
       "      <th>8</th>\n",
       "      <td>569094</td>\n",
       "      <td>Spider-Man: Across the Spider-Verse</td>\n",
       "      <td>After reuniting with Gwen Stacy Brooklyn’s ful...</td>\n",
       "      <td>8.640</td>\n",
       "      <td>2023-05-31</td>\n",
       "    </tr>\n",
       "    <tr>\n",
       "      <th>9</th>\n",
       "      <td>956101</td>\n",
       "      <td>The Eighth Clause</td>\n",
       "      <td>Kat and Borja appear to be a perfect couple bu...</td>\n",
       "      <td>4.600</td>\n",
       "      <td>2022-04-29</td>\n",
       "    </tr>\n",
       "  </tbody>\n",
       "</table>\n",
       "</div>"
      ],
      "text/plain": [
       "       id                                title  \\\n",
       "0  615656                    Meg 2: The Trench   \n",
       "1  758323                  The Pope's Exorcist   \n",
       "2  667538     Transformers: Rise of the Beasts   \n",
       "3  640146    Ant-Man and the Wasp: Quantumania   \n",
       "4  677179                            Creed III   \n",
       "5  385687                               Fast X   \n",
       "6  614479              Insidious: The Red Door   \n",
       "7  646389                                Plane   \n",
       "8  569094  Spider-Man: Across the Spider-Verse   \n",
       "9  956101                    The Eighth Clause   \n",
       "\n",
       "                                            overview  vote_average  \\\n",
       "0  An exploratory dive into the deepest depths of...         7.079   \n",
       "1  Father Gabriele Amorth Chief Exorcist of the V...         7.433   \n",
       "2  When a new threat capable of destroying the en...         7.340   \n",
       "3  Super-Hero partners Scott Lang and Hope van Dy...         6.507   \n",
       "4  After dominating the boxing world Adonis Creed...         7.262   \n",
       "5  Over many missions and against impossible odds...         7.275   \n",
       "6  To put their demons to rest once and for all J...         6.750   \n",
       "7  After a heroic job of successfully landing his...         6.901   \n",
       "8  After reuniting with Gwen Stacy Brooklyn’s ful...         8.640   \n",
       "9  Kat and Borja appear to be a perfect couple bu...         4.600   \n",
       "\n",
       "  release_date  \n",
       "0   2023-08-02  \n",
       "1   2023-04-05  \n",
       "2   2023-06-06  \n",
       "3   2023-02-15  \n",
       "4   2023-03-01  \n",
       "5   2023-05-17  \n",
       "6   2023-07-05  \n",
       "7   2023-01-12  \n",
       "8   2023-05-31  \n",
       "9   2022-04-29  "
      ]
     },
     "execution_count": 11,
     "metadata": {},
     "output_type": "execute_result"
    }
   ],
   "source": [
    "df_movies_filt.head(10)"
   ]
  },
  {
   "cell_type": "code",
   "execution_count": 12,
   "metadata": {},
   "outputs": [
    {
     "data": {
      "text/plain": [
       "'Max Word Count: 191 words'"
      ]
     },
     "execution_count": 12,
     "metadata": {},
     "output_type": "execute_result"
    }
   ],
   "source": [
    "max_word_count(df_movies_filt[\"overview\"])"
   ]
  },
  {
   "cell_type": "code",
   "execution_count": 13,
   "metadata": {},
   "outputs": [],
   "source": [
    "# Word Distribution\n",
    "descriptions_len = []\n",
    "for txt in df_movies_filt.loc[:, \"overview\"]:\n",
    "    descriptions_len.append(len(re.findall(r\"\\w+\", txt)))"
   ]
  },
  {
   "cell_type": "code",
   "execution_count": 14,
   "metadata": {},
   "outputs": [
    {
     "data": {
      "text/plain": [
       "<Axes: ylabel='Count'>"
      ]
     },
     "execution_count": 14,
     "metadata": {},
     "output_type": "execute_result"
    },
    {
     "data": {
      "image/png": "[encoded data removed]",
      "text/plain": [
       "<Figure size 640x480 with 1 Axes>"
      ]
     },
     "metadata": {},
     "output_type": "display_data"
    }
   ],
   "source": [
    "# visualize token distribution\n",
    "sns.histplot(descriptions_len, bins=100)"
   ]
  },
  {
   "cell_type": "code",
   "execution_count": 15,
   "metadata": {},
   "outputs": [],
   "source": [
    "embedding_fn = SentenceTransformerEmbeddingFunction()"
   ]
  },
  {
   "cell_type": "code",
   "execution_count": 16,
   "metadata": {},
   "outputs": [],
   "source": [
    "# persistent\n",
    "chroma_db = chromadb.PersistentClient(path=\"db\")"
   ]
  },
  {
   "cell_type": "code",
   "execution_count": 17,
   "metadata": {},
   "outputs": [
    {
     "data": {
      "text/plain": [
       "[]"
      ]
     },
     "execution_count": 17,
     "metadata": {},
     "output_type": "execute_result"
    }
   ],
   "source": [
    "chroma_db.list_collections()"
   ]
  },
  {
   "cell_type": "code",
   "execution_count": 18,
   "metadata": {},
   "outputs": [],
   "source": [
    "# Get / Create Collection\n",
    "chroma_collection = chroma_db.get_or_create_collection(\n",
    "    \"movies\", embedding_function=embedding_fn\n",
    ")"
   ]
  },
  {
   "cell_type": "code",
   "execution_count": 19,
   "metadata": {},
   "outputs": [
    {
     "data": {
      "text/plain": [
       "[Collection(name=movies)]"
      ]
     },
     "execution_count": 19,
     "metadata": {},
     "output_type": "execute_result"
    }
   ],
   "source": [
    "chroma_db.list_collections()"
   ]
  },
  {
   "cell_type": "code",
   "execution_count": 20,
   "metadata": {},
   "outputs": [],
   "source": [
    "# add all tokens to collection\n",
    "ids = [str(i) for i in df_movies_filt[\"id\"].tolist()]\n",
    "documents = df_movies_filt[\"overview\"].tolist()\n",
    "titles = df_movies_filt[\"title\"].tolist()\n",
    "metadatas = [{\"source\": title} for title in titles]"
   ]
  },
  {
   "cell_type": "code",
   "execution_count": 21,
   "metadata": {},
   "outputs": [
    {
     "data": {
      "text/plain": [
       "14501"
      ]
     },
     "execution_count": 21,
     "metadata": {},
     "output_type": "execute_result"
    }
   ],
   "source": [
    "len(ids)"
   ]
  },
  {
   "cell_type": "code",
   "execution_count": 22,
   "metadata": {},
   "outputs": [],
   "source": [
    "chroma_collection.add(documents=documents, ids=ids, metadatas=metadatas)"
   ]
  },
  {
   "cell_type": "code",
   "execution_count": 23,
   "metadata": {},
   "outputs": [
    {
     "data": {
      "text/plain": [
       "14501"
      ]
     },
     "execution_count": 23,
     "metadata": {},
     "output_type": "execute_result"
    }
   ],
   "source": [
    "# count of documents in collection\n",
    "len(chroma_collection.get()[\"ids\"])"
   ]
  },
  {
   "cell_type": "code",
   "execution_count": 26,
   "metadata": {},
   "outputs": [],
   "source": [
    "# Save the chroma collection\n",
    "# Run a Query\n",
    "def get_title_by_description(query_text: str):\n",
    "    n_results = 5\n",
    "    res = chroma_collection.query(query_texts=[query_text], n_results=n_results)\n",
    "    for i in range(n_results):\n",
    "        pprint(f\"Title: {res['metadatas'][0][i]['source']}\")\n",
    "        pprint(f\"Description: {res['documents'][0][i]}\")\n",
    "        pprint(\"-------------------------------------------------\")"
   ]
  },
  {
   "cell_type": "code",
   "execution_count": 27,
   "metadata": {},
   "outputs": [
    {
     "name": "stdout",
     "output_type": "stream",
     "text": [
      "'Title: Spider-Man: Across the Spider-Verse'\n",
      "('Description: After reuniting with Gwen Stacy Brooklyn’s full-time friendly '\n",
      " 'neighborhood Spider-Man is catapulted across the Multiverse where he '\n",
      " 'encounters the Spider Society a team of Spider-People charged with '\n",
      " 'protecting the Multiverse’s very existence. But when the heroes clash on how '\n",
      " 'to handle a new threat Miles finds himself pitted against the other Spiders '\n",
      " 'and must set out on his own to save those he loves most.')\n",
      "'-------------------------------------------------'\n",
      "'Title: Spider-Man: Homecoming'\n",
      "('Description: Following the events of Captain America: Civil War Peter Parker '\n",
      " 'with the help of his mentor Tony Stark tries to balance his life as an '\n",
      " 'ordinary high school student in Queens New York City with fighting crime as '\n",
      " 'his superhero alter ego Spider-Man as a new threat the Vulture emerges.')\n",
      "'-------------------------------------------------'\n",
      "'Title: What if Noah Baumbach Directed Spider-Man?'\n",
      "'Description: A short film about Spider-Man in the style of Noah Baumbach'\n",
      "'-------------------------------------------------'\n",
      "'Title: Spider-Man: Beyond the Spider-Verse'\n",
      "('Description: The further continuing story of Miles Morales and the many '\n",
      " 'other Spider-People from different realities.')\n",
      "'-------------------------------------------------'\n",
      "'Title: Spider-Man: Into the Spider-Verse'\n",
      "('Description: Miles Morales is juggling his life between being a high school '\n",
      " 'student and being a spider-man. When Wilson \"Kingpin\" Fisk uses a super '\n",
      " 'collider others from across the Spider-Verse are transported to this '\n",
      " 'dimension.')\n",
      "'-------------------------------------------------'\n"
     ]
    }
   ],
   "source": [
    "# Run a Query\n",
    "get_title_by_description(query_text=\"spider hero\")"
   ]
  },
  {
   "cell_type": "code",
   "execution_count": null,
   "metadata": {},
   "outputs": [],
   "source": []
  }
 ],
 "metadata": {
  "kernelspec": {
   "display_name": "env",
   "language": "python",
   "name": "python3"
  },
  "language_info": {
   "codemirror_mode": {
    "name": "ipython",
    "version": 3
   },
   "file_extension": ".py",
   "mimetype": "text/x-python",
   "name": "python",
   "nbconvert_exporter": "python",
   "pygments_lexer": "ipython3",
   "version": "3.10.9"
  }
 },
 "nbformat": 4,
 "nbformat_minor": 2
}
