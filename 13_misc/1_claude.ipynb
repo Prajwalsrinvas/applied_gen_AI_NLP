{
 "cells": [
  {
   "cell_type": "code",
   "execution_count": 22,
   "metadata": {},
   "outputs": [],
   "source": [
    "import os\n",
    "\n",
    "import anthropic\n",
    "from dotenv import load_dotenv"
   ]
  },
  {
   "cell_type": "code",
   "execution_count": 23,
   "metadata": {},
   "outputs": [
    {
     "data": {
      "text/plain": [
       "True"
      ]
     },
     "execution_count": 23,
     "metadata": {},
     "output_type": "execute_result"
    }
   ],
   "source": [
    "# Load environment variables\n",
    "load_dotenv()"
   ]
  },
  {
   "cell_type": "code",
   "execution_count": 24,
   "metadata": {},
   "outputs": [],
   "source": [
    "client = anthropic.Anthropic(api_key=os.environ[\"ANTHROPIC_API_KEY\"])"
   ]
  },
  {
   "cell_type": "code",
   "execution_count": 25,
   "metadata": {},
   "outputs": [],
   "source": [
    "message = client.messages.create(\n",
    "    model=\"claude-3-5-sonnet-20240620\",\n",
    "    max_tokens=1000,\n",
    "    temperature=0,\n",
    "    messages=[\n",
    "        {\n",
    "            \"role\": \"user\",\n",
    "            \"content\": [\n",
    "                {\n",
    "                    \"type\": \"text\",\n",
    "                    \"text\": \"What would the names and jobs of Marvel superheroes be, if they were from India.\",\n",
    "                }\n",
    "            ],\n",
    "        }\n",
    "    ],\n",
    ")"
   ]
  },
  {
   "cell_type": "code",
   "execution_count": 26,
   "metadata": {},
   "outputs": [
    {
     "name": "stdout",
     "output_type": "stream",
     "text": [
      "{\n",
      "  \"id\": \"msg_0125Ft2BsSSobx4eoX5GpkH9\",\n",
      "  \"content\": [\n",
      "    {\n",
      "      \"text\": \"If Marvel superheroes were from India, their names and jobs might be something like this:\\n\\n1. Iron Man: Loha Purush (Iron Man)\\nJob: CEO of Tata Industries\\n\\n2. Spider-Man: Makadi Manav (Spider Human)\\nJob: IT support specialist\\n\\n3. Captain America: Captain Bharat\\nJob: Indian Army officer\\n\\n4. Thor: Indra (Hindu god of thunder)\\nJob: Yoga instructor\\n\\n5. Black Widow: Kali Nag (Black Cobra)\\nJob: RAW (Research and Analysis Wing) agent\\n\\n6. Hulk: Hara Rakshas (Green Monster)\\nJob: Ayurvedic doctor\\n\\n7. Black Panther: Kala Bagh (Black Tiger)\\nJob: Wildlife conservationist\\n\\n8. Doctor Strange: Jadugar Sahib (Magician Sir)\\nJob: Vedic astrologer and spiritual guru\\n\\n9. Hawkeye: Teer Andaz (Archer)\\nJob: Olympic archery coach\\n\\n10. Scarlet Witch: Lal Mohini (Red Enchantress)\\nJob: Bollywood actress and classical dancer\\n\\n11. Ant-Man: Cheenti Manushya (Ant Human)\\nJob: Pest control specialist\\n\\n12. Vision: Divya Drishti (Divine Vision)\\nJob: AI researcher at IIT (Indian Institute of Technology)\\n\\nThese adaptations blend Indian culture, mythology, and contemporary professions while maintaining the essence of the original Marvel characters.\",\n",
      "      \"type\": \"text\"\n",
      "    }\n",
      "  ],\n",
      "  \"model\": \"claude-3-5-sonnet-20240620\",\n",
      "  \"role\": \"assistant\",\n",
      "  \"stop_reason\": \"end_turn\",\n",
      "  \"stop_sequence\": null,\n",
      "  \"type\": \"message\",\n",
      "  \"usage\": {\n",
      "    \"input_tokens\": 26,\n",
      "    \"output_tokens\": 355\n",
      "  }\n",
      "}\n"
     ]
    }
   ],
   "source": [
    "print(message.to_json())"
   ]
  },
  {
   "cell_type": "code",
   "execution_count": 27,
   "metadata": {},
   "outputs": [
    {
     "name": "stdout",
     "output_type": "stream",
     "text": [
      "If Marvel superheroes were from India, their names and jobs might be something like this:\n",
      "\n",
      "1. Iron Man: Loha Purush (Iron Man)\n",
      "Job: CEO of Tata Industries\n",
      "\n",
      "2. Spider-Man: Makadi Manav (Spider Human)\n",
      "Job: IT support specialist\n",
      "\n",
      "3. Captain America: Captain Bharat\n",
      "Job: Indian Army officer\n",
      "\n",
      "4. Thor: Indra (Hindu god of thunder)\n",
      "Job: Yoga instructor\n",
      "\n",
      "5. Black Widow: Kali Nag (Black Cobra)\n",
      "Job: RAW (Research and Analysis Wing) agent\n",
      "\n",
      "6. Hulk: Hara Rakshas (Green Monster)\n",
      "Job: Ayurvedic doctor\n",
      "\n",
      "7. Black Panther: Kala Bagh (Black Tiger)\n",
      "Job: Wildlife conservationist\n",
      "\n",
      "8. Doctor Strange: Jadugar Sahib (Magician Sir)\n",
      "Job: Vedic astrologer and spiritual guru\n",
      "\n",
      "9. Hawkeye: Teer Andaz (Archer)\n",
      "Job: Olympic archery coach\n",
      "\n",
      "10. Scarlet Witch: Lal Mohini (Red Enchantress)\n",
      "Job: Bollywood actress and classical dancer\n",
      "\n",
      "11. Ant-Man: Cheenti Manushya (Ant Human)\n",
      "Job: Pest control specialist\n",
      "\n",
      "12. Vision: Divya Drishti (Divine Vision)\n",
      "Job: AI researcher at IIT (Indian Institute of Technology)\n",
      "\n",
      "These adaptations blend Indian culture, mythology, and contemporary professions while maintaining the essence of the original Marvel characters.\n"
     ]
    }
   ],
   "source": [
    "print(message.content[0].text)"
   ]
  },
  {
   "cell_type": "markdown",
   "metadata": {},
   "source": [
    "😅"
   ]
  }
 ],
 "metadata": {
  "kernelspec": {
   "display_name": "env",
   "language": "python",
   "name": "python3"
  },
  "language_info": {
   "codemirror_mode": {
    "name": "ipython",
    "version": 3
   },
   "file_extension": ".py",
   "mimetype": "text/x-python",
   "name": "python",
   "nbconvert_exporter": "python",
   "pygments_lexer": "ipython3",
   "version": "3.10.9"
  }
 },
 "nbformat": 4,
 "nbformat_minor": 2
}
